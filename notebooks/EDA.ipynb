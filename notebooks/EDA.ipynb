{
 "cells": [
  {
   "cell_type": "code",
   "execution_count": 44,
   "metadata": {},
   "outputs": [],
   "source": [
    "# imports\n",
    "\n",
    "import requests\n",
    "import os\n",
    "import json\n",
    "from pprint import pprint\n",
    "from IPython.display import JSON\n",
    "import pandas as pd"
   ]
  },
  {
   "cell_type": "code",
   "execution_count": 67,
   "metadata": {},
   "outputs": [],
   "source": [
    "# Will find points of interest in Ladysmith BC, using the Wild Poppy Market latitude, longitude as the initial point of reference\n",
    "\n",
    "wild_poppy = '48.99400256898083,-123.81788919678714'"
   ]
  },
  {
   "cell_type": "markdown",
   "metadata": {},
   "source": [
    "# Foursquare"
   ]
  },
  {
   "cell_type": "markdown",
   "metadata": {},
   "source": [
    "Send a request to Foursquare with a small radius (1000m) with the location of your choice"
   ]
  },
  {
   "cell_type": "code",
   "execution_count": null,
   "metadata": {},
   "outputs": [],
   "source": [
    "# Send the request through Postman first to try it out, and saved the response to a file."
   ]
  },
  {
   "cell_type": "code",
   "execution_count": 71,
   "metadata": {
    "tags": []
   },
   "outputs": [],
   "source": [
    "# Send the request via Python as well.\n",
    "# Refer to https://developer.foursquare.com/reference/place-search to get the authorization format, url, query parameters\n",
    "\n",
    "# Set the keys\n",
    "foursquare_api = os.environ[\"FOURSQUARE_API_KEY\"]\n",
    "\n",
    "# Get the url (copied from https://developer.foursquare.com/reference/place-search after entering the Wild Poppy latitude and longitude and the search radius of 1000m)\n",
    "url = \"https://api.foursquare.com/v3/places/search?ll=48.99400256898083%2C-123.81788919678714&radius=1000\"\n",
    "\n",
    "# Get the headers\n",
    "headers = {\n",
    "    \"Accept\": \"application/json\",\n",
    "    \"Authorization\": foursquare_api\n",
    "}"
   ]
  },
  {
   "cell_type": "code",
   "execution_count": 20,
   "metadata": {},
   "outputs": [],
   "source": [
    "# Send the request\n",
    "response = requests.get(url, headers=headers)"
   ]
  },
  {
   "cell_type": "code",
   "execution_count": 21,
   "metadata": {
    "collapsed": true,
    "jupyter": {
     "outputs_hidden": true
    },
    "tags": []
   },
   "outputs": [
    {
     "name": "stdout",
     "output_type": "stream",
     "text": [
      "200\n",
      "{\"results\":[{\"fsq_id\":\"4b9f8746f964a520112937e3\",\"categories\":[{\"id\":13002,\"name\":\"Bakery\",\"icon\":{\"prefix\":\"https://ss3.4sqi.net/img/categories_v2/food/bakery_\",\"suffix\":\".png\"}},{\"id\":13065,\"name\":\"Restaurant\",\"icon\":{\"prefix\":\"https://ss3.4sqi.net/img/categories_v2/food/default_\",\"suffix\":\".png\"}}],\"chains\":[],\"distance\":77,\"geocodes\":{\"main\":{\"latitude\":48.993297,\"longitude\":-123.817749},\"roof\":{\"latitude\":48.993297,\"longitude\":-123.817749}},\"link\":\"/v3/places/4b9f8746f964a520112937e3\",\"location\":{\"address\":\"510 1st Ave\",\"country\":\"CA\",\"cross_street\":\"\",\"formatted_address\":\"510 1st Ave, Ladysmith BC V9G 1R3\",\"locality\":\"Ladysmith\",\"neighborhood\":[\"Cedar\"],\"postcode\":\"V9G 1R3\",\"region\":\"BC\"},\"name\":\"Old Town Bakery\",\"related_places\":{},\"timezone\":\"America/Vancouver\"},{\"fsq_id\":\"4d5dd55d5b276dcb151ef2c5\",\"categories\":[{\"id\":13034,\"name\":\"Café\",\"icon\":{\"prefix\":\"https://ss3.4sqi.net/img/categories_v2/food/cafe_\",\"suffix\":\".png\"}},{\"id\":13049,\"name\":\"Diner\",\"icon\":{\"prefix\":\"https://ss3.4sqi.net/img/categories_v2/food/diner_\",\"suffix\":\".png\"}}],\"chains\":[],\"distance\":42,\"geocodes\":{\"main\":{\"latitude\":48.994468,\"longitude\":-123.817778},\"roof\":{\"latitude\":48.994468,\"longitude\":-123.817778}},\"link\":\"/v3/places/4d5dd55d5b276dcb151ef2c5\",\"location\":{\"address\":\"18 High St\",\"country\":\"CA\",\"cross_street\":\"\",\"formatted_address\":\"18 High St, Ladysmith BC V9G 1B9\",\"locality\":\"Ladysmith\",\"neighborhood\":[\"Cedar\"],\"postcode\":\"V9G 1B9\",\"region\":\"BC\"},\"name\":\"In the Bean Time\",\"related_places\":{},\"timezone\":\"America/Vancouver\"},{\"fsq_id\":\"4caf56ad1463a143dbbc93a9\",\"categories\":[{\"id\":11045,\"name\":\"Bank\",\"icon\":{\"prefix\":\"https://ss3.4sqi.net/img/categories_v2/shops/financial_\",\"suffix\":\".png\"}}],\"chains\":[{\"id\":\"d51a09f0-d890-0132-61d3-7a163eb2a6fc\",\"name\":\"RBC Royal Bank\"}],\"distance\":13,\"geocodes\":{\"main\":{\"latitude\":48.993577,\"longitude\":-123.817534},\"roof\":{\"latitude\":48.993577,\"longitude\":-123.817534}},\"link\":\"/v3/places/4caf56ad1463a143dbbc93a9\",\"location\":{\"address\":\"527 1 St Ave\",\"country\":\"CA\",\"cross_street\":\"\",\"formatted_address\":\"527 1 St Ave, Ladysmith BC V9G 1A7\",\"locality\":\"Ladysmith\",\"po_box\":\"PO Box 1060\",\"postcode\":\"V9G 1A7\",\"region\":\"BC\"},\"name\":\"RBC Royal Bank\",\"related_places\":{},\"timezone\":\"America/Vancouver\"},{\"fsq_id\":\"543065e3498ece744a874fb3\",\"categories\":[{\"id\":17060,\"name\":\"Candy Store\",\"icon\":{\"prefix\":\"https://ss3.4sqi.net/img/categories_v2/shops/candystore_\",\"suffix\":\".png\"}}],\"chains\":[],\"distance\":23,\"geocodes\":{\"main\":{\"latitude\":48.9941,\"longitude\":-123.818307},\"roof\":{\"latitude\":48.9941,\"longitude\":-123.818307}},\"link\":\"/v3/places/543065e3498ece744a874fb3\",\"location\":{\"address\":\"32 High St\",\"address_extended\":\"# 1\",\"country\":\"CA\",\"cross_street\":\"1st Avenue\",\"formatted_address\":\"32 High St (1st Avenue), Ladysmith BC V9G 1B9\",\"locality\":\"Ladysmith\",\"postcode\":\"V9G 1B9\",\"region\":\"BC\"},\"name\":\"Mr Popper's Sweet Shoppe\",\"related_places\":{},\"timezone\":\"America/Vancouver\"},{\"fsq_id\":\"4e3dac44fa76455375bbb10f\",\"categories\":[{\"id\":11064,\"name\":\"Hair Salon\",\"icon\":{\"prefix\":\"https://ss3.4sqi.net/img/categories_v2/shops/salon_barber_\",\"suffix\":\".png\"}}],\"chains\":[],\"distance\":27,\"geocodes\":{\"main\":{\"latitude\":48.994092,\"longitude\":-123.817823},\"roof\":{\"latitude\":48.994092,\"longitude\":-123.817823}},\"link\":\"/v3/places/4e3dac44fa76455375bbb10f\",\"location\":{\"address\":\"23 High St\",\"country\":\"CA\",\"cross_street\":\"\",\"formatted_address\":\"23 High St, Ladysmith BC V9G 1B9\",\"locality\":\"Ladysmith\",\"postcode\":\"V9G 1B9\",\"region\":\"BC\"},\"name\":\"High Street Hair\",\"related_places\":{},\"timezone\":\"America/Vancouver\"},{\"fsq_id\":\"54f76dad498eb5962e5eb57f\",\"categories\":[{\"id\":13027,\"name\":\"Bistro\",\"icon\":{\"prefix\":\"https://ss3.4sqi.net/img/categories_v2/food/default_\",\"suffix\":\".png\"}}],\"chains\":[],\"distance\":46,\"geocodes\":{\"main\":{\"latitude\":48.993772,\"longitude\":-123.817874},\"roof\":{\"latitude\":48.993772,\"longitude\":-123.817874}},\"link\":\"/v3/places/54f76dad498eb5962e5eb57f\",\"location\":{\"address\":\"541 1st Ave\",\"country\":\"CA\",\"cross_street\":\"\",\"formatted_address\":\"541 1st Ave, Ladysmith BC V9G 1B9\",\"locality\":\"Ladysmith\",\"neighborhood\":[\"Ladysmith\"],\"postcode\":\"V9G 1B9\",\"region\":\"BC\"},\"name\":\"Wild Poppy Bistro\",\"related_places\":{},\"timezone\":\"America/Vancouver\"},{\"fsq_id\":\"4bf5888d4d5f20a18a9897fe\",\"categories\":[{\"id\":13003,\"name\":\"Bar\",\"icon\":{\"prefix\":\"https://ss3.4sqi.net/img/categories_v2/nightlife/pub_\",\"suffix\":\".png\"}},{\"id\":13049,\"name\":\"Diner\",\"icon\":{\"prefix\":\"https://ss3.4sqi.net/img/categories_v2/food/diner_\",\"suffix\":\".png\"}},{\"id\":13072,\"name\":\"Asian Restaurant\",\"icon\":{\"prefix\":\"https://ss3.4sqi.net/img/categories_v2/food/asian_\",\"suffix\":\".png\"}}],\"chains\":[],\"distance\":46,\"geocodes\":{\"main\":{\"latitude\":48.993702,\"longitude\":-123.81827},\"roof\":{\"latitude\":48.993702,\"longitude\":-123.81827}},\"link\":\"/v3/places/4bf5888d4d5f20a18a9897fe\",\"location\":{\"address\":\"534 1st Ave\",\"country\":\"CA\",\"formatted_address\":\"534 1st Ave, Ladysmith BC\",\"locality\":\"Ladysmith\",\"region\":\"BC\"},\"name\":\"Appetit\",\"related_places\":{},\"timezone\":\"America/Vancouver\"},{\"fsq_id\":\"4d7bf986e04d6ea8c4ccf2d5\",\"categories\":[{\"id\":17068,\"name\":\"Gourmet Store\",\"icon\":{\"prefix\":\"https://ss3.4sqi.net/img/categories_v2/shops/food_gourmet_\",\"suffix\":\".png\"}},{\"id\":17069,\"name\":\"Grocery Store / Supermarket\",\"icon\":{\"prefix\":\"https://ss3.4sqi.net/img/categories_v2/shops/food_grocery_\",\"suffix\":\".png\"}}],\"chains\":[],\"distance\":50,\"geocodes\":{\"main\":{\"latitude\":48.993374,\"longitude\":-123.817837},\"roof\":{\"latitude\":48.993374,\"longitude\":-123.817837}},\"link\":\"/v3/places/4d7bf986e04d6ea8c4ccf2d5\",\"location\":{\"address\":\"524 1st Ave\",\"country\":\"CA\",\"cross_street\":\"\",\"formatted_address\":\"524 1st Ave, Ladysmith BC V9G 1A9\",\"locality\":\"Ladysmith\",\"postcode\":\"V9G 1A9\",\"region\":\"BC\"},\"name\":\"The Worldly Gourmet Kitchen Store\",\"related_places\":{},\"timezone\":\"America/Vancouver\"},{\"fsq_id\":\"4eac571d991107f63cfa5fb6\",\"categories\":[{\"id\":17018,\"name\":\"Bookstore\",\"icon\":{\"prefix\":\"https://ss3.4sqi.net/img/categories_v2/shops/bookstore_\",\"suffix\":\".png\"}}],\"chains\":[],\"distance\":54,\"geocodes\":{\"main\":{\"latitude\":48.993751,\"longitude\":-123.817791},\"roof\":{\"latitude\":48.993751,\"longitude\":-123.817791}},\"link\":\"/v3/places/4eac571d991107f63cfa5fb6\",\"location\":{\"address\":\"535 1 St Ave\",\"country\":\"CA\",\"cross_street\":\"\",\"formatted_address\":\"535 1 St Ave, Ladysmith BC V9G 1B9\",\"locality\":\"Ladysmith\",\"postcode\":\"V9G 1B9\",\"region\":\"BC\"},\"name\":\"Salamander Books\",\"related_places\":{},\"timezone\":\"America/Vancouver\"},{\"fsq_id\":\"54c5681f498e215fadd58370\",\"categories\":[{\"id\":13018,\"name\":\"Pub\",\"icon\":{\"prefix\":\"https://ss3.4sqi.net/img/categories_v2/nightlife/pub_\",\"suffix\":\".png\"}},{\"id\":13065,\"name\":\"Restaurant\",\"icon\":{\"prefix\":\"https://ss3.4sqi.net/img/categories_v2/food/default_\",\"suffix\":\".png\"}}],\"chains\":[],\"distance\":64,\"geocodes\":{\"main\":{\"latitude\":48.994294,\"longitude\":-123.81752},\"roof\":{\"latitude\":48.994294,\"longitude\":-123.81752}},\"link\":\"/v3/places/54c5681f498e215fadd58370\",\"location\":{\"address\":\"11 High St\",\"country\":\"CA\",\"cross_street\":\"\",\"formatted_address\":\"11 High St, Ladysmith BC V9G 1A4\",\"locality\":\"Ladysmith\",\"neighborhood\":[\"Ladysmith\"],\"postcode\":\"V9G 1A4\",\"region\":\"BC\"},\"name\":\"Fox & Hound\",\"related_places\":{},\"timezone\":\"America/Vancouver\"}],\"context\":{\"geo_bounds\":{\"circle\":{\"center\":{\"latitude\":48.99400256898083,\"longitude\":-123.81788919678714},\"radius\":1000}}}}\n"
     ]
    }
   ],
   "source": [
    "# Check the status of the response and print the response text\n",
    "print(response.status_code)\n",
    "print(response.text)"
   ]
  },
  {
   "cell_type": "markdown",
   "metadata": {},
   "source": [
    "Parse through the response to get the POI details you want (rating, name, location, etc)"
   ]
  },
  {
   "cell_type": "code",
   "execution_count": 41,
   "metadata": {},
   "outputs": [],
   "source": [
    "FS_response = response.json()"
   ]
  },
  {
   "cell_type": "code",
   "execution_count": 29,
   "metadata": {
    "collapsed": true,
    "jupyter": {
     "outputs_hidden": true
    },
    "tags": []
   },
   "outputs": [
    {
     "name": "stdout",
     "output_type": "stream",
     "text": [
      "{'context': {'geo_bounds': {'circle': {'center': {'latitude': 48.99400256898083,\n",
      "                                                  'longitude': -123.81788919678714},\n",
      "                                       'radius': 1000}}},\n",
      " 'results': [{'categories': [{'icon': {'prefix': 'https://ss3.4sqi.net/img/categories_v2/food/bakery_',\n",
      "                                       'suffix': '.png'},\n",
      "                              'id': 13002,\n",
      "                              'name': 'Bakery'},\n",
      "                             {'icon': {'prefix': 'https://ss3.4sqi.net/img/categories_v2/food/default_',\n",
      "                                       'suffix': '.png'},\n",
      "                              'id': 13065,\n",
      "                              'name': 'Restaurant'}],\n",
      "              'chains': [],\n",
      "              'distance': 77,\n",
      "              'fsq_id': '4b9f8746f964a520112937e3',\n",
      "              'geocodes': {'main': {'latitude': 48.993297,\n",
      "                                    'longitude': -123.817749},\n",
      "                           'roof': {'latitude': 48.993297,\n",
      "                                    'longitude': -123.817749}},\n",
      "              'link': '/v3/places/4b9f8746f964a520112937e3',\n",
      "              'location': {'address': '510 1st Ave',\n",
      "                           'country': 'CA',\n",
      "                           'cross_street': '',\n",
      "                           'formatted_address': '510 1st Ave, Ladysmith BC V9G '\n",
      "                                                '1R3',\n",
      "                           'locality': 'Ladysmith',\n",
      "                           'neighborhood': ['Cedar'],\n",
      "                           'postcode': 'V9G 1R3',\n",
      "                           'region': 'BC'},\n",
      "              'name': 'Old Town Bakery',\n",
      "              'related_places': {},\n",
      "              'timezone': 'America/Vancouver'},\n",
      "             {'categories': [{'icon': {'prefix': 'https://ss3.4sqi.net/img/categories_v2/food/cafe_',\n",
      "                                       'suffix': '.png'},\n",
      "                              'id': 13034,\n",
      "                              'name': 'Café'},\n",
      "                             {'icon': {'prefix': 'https://ss3.4sqi.net/img/categories_v2/food/diner_',\n",
      "                                       'suffix': '.png'},\n",
      "                              'id': 13049,\n",
      "                              'name': 'Diner'}],\n",
      "              'chains': [],\n",
      "              'distance': 42,\n",
      "              'fsq_id': '4d5dd55d5b276dcb151ef2c5',\n",
      "              'geocodes': {'main': {'latitude': 48.994468,\n",
      "                                    'longitude': -123.817778},\n",
      "                           'roof': {'latitude': 48.994468,\n",
      "                                    'longitude': -123.817778}},\n",
      "              'link': '/v3/places/4d5dd55d5b276dcb151ef2c5',\n",
      "              'location': {'address': '18 High St',\n",
      "                           'country': 'CA',\n",
      "                           'cross_street': '',\n",
      "                           'formatted_address': '18 High St, Ladysmith BC V9G '\n",
      "                                                '1B9',\n",
      "                           'locality': 'Ladysmith',\n",
      "                           'neighborhood': ['Cedar'],\n",
      "                           'postcode': 'V9G 1B9',\n",
      "                           'region': 'BC'},\n",
      "              'name': 'In the Bean Time',\n",
      "              'related_places': {},\n",
      "              'timezone': 'America/Vancouver'},\n",
      "             {'categories': [{'icon': {'prefix': 'https://ss3.4sqi.net/img/categories_v2/shops/financial_',\n",
      "                                       'suffix': '.png'},\n",
      "                              'id': 11045,\n",
      "                              'name': 'Bank'}],\n",
      "              'chains': [{'id': 'd51a09f0-d890-0132-61d3-7a163eb2a6fc',\n",
      "                          'name': 'RBC Royal Bank'}],\n",
      "              'distance': 13,\n",
      "              'fsq_id': '4caf56ad1463a143dbbc93a9',\n",
      "              'geocodes': {'main': {'latitude': 48.993577,\n",
      "                                    'longitude': -123.817534},\n",
      "                           'roof': {'latitude': 48.993577,\n",
      "                                    'longitude': -123.817534}},\n",
      "              'link': '/v3/places/4caf56ad1463a143dbbc93a9',\n",
      "              'location': {'address': '527 1 St Ave',\n",
      "                           'country': 'CA',\n",
      "                           'cross_street': '',\n",
      "                           'formatted_address': '527 1 St Ave, Ladysmith BC '\n",
      "                                                'V9G 1A7',\n",
      "                           'locality': 'Ladysmith',\n",
      "                           'po_box': 'PO Box 1060',\n",
      "                           'postcode': 'V9G 1A7',\n",
      "                           'region': 'BC'},\n",
      "              'name': 'RBC Royal Bank',\n",
      "              'related_places': {},\n",
      "              'timezone': 'America/Vancouver'},\n",
      "             {'categories': [{'icon': {'prefix': 'https://ss3.4sqi.net/img/categories_v2/shops/candystore_',\n",
      "                                       'suffix': '.png'},\n",
      "                              'id': 17060,\n",
      "                              'name': 'Candy Store'}],\n",
      "              'chains': [],\n",
      "              'distance': 23,\n",
      "              'fsq_id': '543065e3498ece744a874fb3',\n",
      "              'geocodes': {'main': {'latitude': 48.9941,\n",
      "                                    'longitude': -123.818307},\n",
      "                           'roof': {'latitude': 48.9941,\n",
      "                                    'longitude': -123.818307}},\n",
      "              'link': '/v3/places/543065e3498ece744a874fb3',\n",
      "              'location': {'address': '32 High St',\n",
      "                           'address_extended': '# 1',\n",
      "                           'country': 'CA',\n",
      "                           'cross_street': '1st Avenue',\n",
      "                           'formatted_address': '32 High St (1st Avenue), '\n",
      "                                                'Ladysmith BC V9G 1B9',\n",
      "                           'locality': 'Ladysmith',\n",
      "                           'postcode': 'V9G 1B9',\n",
      "                           'region': 'BC'},\n",
      "              'name': \"Mr Popper's Sweet Shoppe\",\n",
      "              'related_places': {},\n",
      "              'timezone': 'America/Vancouver'},\n",
      "             {'categories': [{'icon': {'prefix': 'https://ss3.4sqi.net/img/categories_v2/shops/salon_barber_',\n",
      "                                       'suffix': '.png'},\n",
      "                              'id': 11064,\n",
      "                              'name': 'Hair Salon'}],\n",
      "              'chains': [],\n",
      "              'distance': 27,\n",
      "              'fsq_id': '4e3dac44fa76455375bbb10f',\n",
      "              'geocodes': {'main': {'latitude': 48.994092,\n",
      "                                    'longitude': -123.817823},\n",
      "                           'roof': {'latitude': 48.994092,\n",
      "                                    'longitude': -123.817823}},\n",
      "              'link': '/v3/places/4e3dac44fa76455375bbb10f',\n",
      "              'location': {'address': '23 High St',\n",
      "                           'country': 'CA',\n",
      "                           'cross_street': '',\n",
      "                           'formatted_address': '23 High St, Ladysmith BC V9G '\n",
      "                                                '1B9',\n",
      "                           'locality': 'Ladysmith',\n",
      "                           'postcode': 'V9G 1B9',\n",
      "                           'region': 'BC'},\n",
      "              'name': 'High Street Hair',\n",
      "              'related_places': {},\n",
      "              'timezone': 'America/Vancouver'},\n",
      "             {'categories': [{'icon': {'prefix': 'https://ss3.4sqi.net/img/categories_v2/food/default_',\n",
      "                                       'suffix': '.png'},\n",
      "                              'id': 13027,\n",
      "                              'name': 'Bistro'}],\n",
      "              'chains': [],\n",
      "              'distance': 46,\n",
      "              'fsq_id': '54f76dad498eb5962e5eb57f',\n",
      "              'geocodes': {'main': {'latitude': 48.993772,\n",
      "                                    'longitude': -123.817874},\n",
      "                           'roof': {'latitude': 48.993772,\n",
      "                                    'longitude': -123.817874}},\n",
      "              'link': '/v3/places/54f76dad498eb5962e5eb57f',\n",
      "              'location': {'address': '541 1st Ave',\n",
      "                           'country': 'CA',\n",
      "                           'cross_street': '',\n",
      "                           'formatted_address': '541 1st Ave, Ladysmith BC V9G '\n",
      "                                                '1B9',\n",
      "                           'locality': 'Ladysmith',\n",
      "                           'neighborhood': ['Ladysmith'],\n",
      "                           'postcode': 'V9G 1B9',\n",
      "                           'region': 'BC'},\n",
      "              'name': 'Wild Poppy Bistro',\n",
      "              'related_places': {},\n",
      "              'timezone': 'America/Vancouver'},\n",
      "             {'categories': [{'icon': {'prefix': 'https://ss3.4sqi.net/img/categories_v2/nightlife/pub_',\n",
      "                                       'suffix': '.png'},\n",
      "                              'id': 13003,\n",
      "                              'name': 'Bar'},\n",
      "                             {'icon': {'prefix': 'https://ss3.4sqi.net/img/categories_v2/food/diner_',\n",
      "                                       'suffix': '.png'},\n",
      "                              'id': 13049,\n",
      "                              'name': 'Diner'},\n",
      "                             {'icon': {'prefix': 'https://ss3.4sqi.net/img/categories_v2/food/asian_',\n",
      "                                       'suffix': '.png'},\n",
      "                              'id': 13072,\n",
      "                              'name': 'Asian Restaurant'}],\n",
      "              'chains': [],\n",
      "              'distance': 46,\n",
      "              'fsq_id': '4bf5888d4d5f20a18a9897fe',\n",
      "              'geocodes': {'main': {'latitude': 48.993702,\n",
      "                                    'longitude': -123.81827},\n",
      "                           'roof': {'latitude': 48.993702,\n",
      "                                    'longitude': -123.81827}},\n",
      "              'link': '/v3/places/4bf5888d4d5f20a18a9897fe',\n",
      "              'location': {'address': '534 1st Ave',\n",
      "                           'country': 'CA',\n",
      "                           'formatted_address': '534 1st Ave, Ladysmith BC',\n",
      "                           'locality': 'Ladysmith',\n",
      "                           'region': 'BC'},\n",
      "              'name': 'Appetit',\n",
      "              'related_places': {},\n",
      "              'timezone': 'America/Vancouver'},\n",
      "             {'categories': [{'icon': {'prefix': 'https://ss3.4sqi.net/img/categories_v2/shops/food_gourmet_',\n",
      "                                       'suffix': '.png'},\n",
      "                              'id': 17068,\n",
      "                              'name': 'Gourmet Store'},\n",
      "                             {'icon': {'prefix': 'https://ss3.4sqi.net/img/categories_v2/shops/food_grocery_',\n",
      "                                       'suffix': '.png'},\n",
      "                              'id': 17069,\n",
      "                              'name': 'Grocery Store / Supermarket'}],\n",
      "              'chains': [],\n",
      "              'distance': 50,\n",
      "              'fsq_id': '4d7bf986e04d6ea8c4ccf2d5',\n",
      "              'geocodes': {'main': {'latitude': 48.993374,\n",
      "                                    'longitude': -123.817837},\n",
      "                           'roof': {'latitude': 48.993374,\n",
      "                                    'longitude': -123.817837}},\n",
      "              'link': '/v3/places/4d7bf986e04d6ea8c4ccf2d5',\n",
      "              'location': {'address': '524 1st Ave',\n",
      "                           'country': 'CA',\n",
      "                           'cross_street': '',\n",
      "                           'formatted_address': '524 1st Ave, Ladysmith BC V9G '\n",
      "                                                '1A9',\n",
      "                           'locality': 'Ladysmith',\n",
      "                           'postcode': 'V9G 1A9',\n",
      "                           'region': 'BC'},\n",
      "              'name': 'The Worldly Gourmet Kitchen Store',\n",
      "              'related_places': {},\n",
      "              'timezone': 'America/Vancouver'},\n",
      "             {'categories': [{'icon': {'prefix': 'https://ss3.4sqi.net/img/categories_v2/shops/bookstore_',\n",
      "                                       'suffix': '.png'},\n",
      "                              'id': 17018,\n",
      "                              'name': 'Bookstore'}],\n",
      "              'chains': [],\n",
      "              'distance': 54,\n",
      "              'fsq_id': '4eac571d991107f63cfa5fb6',\n",
      "              'geocodes': {'main': {'latitude': 48.993751,\n",
      "                                    'longitude': -123.817791},\n",
      "                           'roof': {'latitude': 48.993751,\n",
      "                                    'longitude': -123.817791}},\n",
      "              'link': '/v3/places/4eac571d991107f63cfa5fb6',\n",
      "              'location': {'address': '535 1 St Ave',\n",
      "                           'country': 'CA',\n",
      "                           'cross_street': '',\n",
      "                           'formatted_address': '535 1 St Ave, Ladysmith BC '\n",
      "                                                'V9G 1B9',\n",
      "                           'locality': 'Ladysmith',\n",
      "                           'postcode': 'V9G 1B9',\n",
      "                           'region': 'BC'},\n",
      "              'name': 'Salamander Books',\n",
      "              'related_places': {},\n",
      "              'timezone': 'America/Vancouver'},\n",
      "             {'categories': [{'icon': {'prefix': 'https://ss3.4sqi.net/img/categories_v2/nightlife/pub_',\n",
      "                                       'suffix': '.png'},\n",
      "                              'id': 13018,\n",
      "                              'name': 'Pub'},\n",
      "                             {'icon': {'prefix': 'https://ss3.4sqi.net/img/categories_v2/food/default_',\n",
      "                                       'suffix': '.png'},\n",
      "                              'id': 13065,\n",
      "                              'name': 'Restaurant'}],\n",
      "              'chains': [],\n",
      "              'distance': 64,\n",
      "              'fsq_id': '54c5681f498e215fadd58370',\n",
      "              'geocodes': {'main': {'latitude': 48.994294,\n",
      "                                    'longitude': -123.81752},\n",
      "                           'roof': {'latitude': 48.994294,\n",
      "                                    'longitude': -123.81752}},\n",
      "              'link': '/v3/places/54c5681f498e215fadd58370',\n",
      "              'location': {'address': '11 High St',\n",
      "                           'country': 'CA',\n",
      "                           'cross_street': '',\n",
      "                           'formatted_address': '11 High St, Ladysmith BC V9G '\n",
      "                                                '1A4',\n",
      "                           'locality': 'Ladysmith',\n",
      "                           'neighborhood': ['Ladysmith'],\n",
      "                           'postcode': 'V9G 1A4',\n",
      "                           'region': 'BC'},\n",
      "              'name': 'Fox & Hound',\n",
      "              'related_places': {},\n",
      "              'timezone': 'America/Vancouver'}]}\n"
     ]
    }
   ],
   "source": [
    "# Pretty print to view the response more easily\n",
    "\n",
    "pprint(FS_response)"
   ]
  },
  {
   "cell_type": "code",
   "execution_count": 30,
   "metadata": {},
   "outputs": [
    {
     "data": {
      "application/json": {
       "context": {
        "geo_bounds": {
         "circle": {
          "center": {
           "latitude": 48.99400256898083,
           "longitude": -123.81788919678714
          },
          "radius": 1000
         }
        }
       },
       "results": [
        {
         "categories": [
          {
           "icon": {
            "prefix": "https://ss3.4sqi.net/img/categories_v2/food/bakery_",
            "suffix": ".png"
           },
           "id": 13002,
           "name": "Bakery"
          },
          {
           "icon": {
            "prefix": "https://ss3.4sqi.net/img/categories_v2/food/default_",
            "suffix": ".png"
           },
           "id": 13065,
           "name": "Restaurant"
          }
         ],
         "chains": [],
         "distance": 77,
         "fsq_id": "4b9f8746f964a520112937e3",
         "geocodes": {
          "main": {
           "latitude": 48.993297,
           "longitude": -123.817749
          },
          "roof": {
           "latitude": 48.993297,
           "longitude": -123.817749
          }
         },
         "link": "/v3/places/4b9f8746f964a520112937e3",
         "location": {
          "address": "510 1st Ave",
          "country": "CA",
          "cross_street": "",
          "formatted_address": "510 1st Ave, Ladysmith BC V9G 1R3",
          "locality": "Ladysmith",
          "neighborhood": [
           "Cedar"
          ],
          "postcode": "V9G 1R3",
          "region": "BC"
         },
         "name": "Old Town Bakery",
         "related_places": {},
         "timezone": "America/Vancouver"
        },
        {
         "categories": [
          {
           "icon": {
            "prefix": "https://ss3.4sqi.net/img/categories_v2/food/cafe_",
            "suffix": ".png"
           },
           "id": 13034,
           "name": "Café"
          },
          {
           "icon": {
            "prefix": "https://ss3.4sqi.net/img/categories_v2/food/diner_",
            "suffix": ".png"
           },
           "id": 13049,
           "name": "Diner"
          }
         ],
         "chains": [],
         "distance": 42,
         "fsq_id": "4d5dd55d5b276dcb151ef2c5",
         "geocodes": {
          "main": {
           "latitude": 48.994468,
           "longitude": -123.817778
          },
          "roof": {
           "latitude": 48.994468,
           "longitude": -123.817778
          }
         },
         "link": "/v3/places/4d5dd55d5b276dcb151ef2c5",
         "location": {
          "address": "18 High St",
          "country": "CA",
          "cross_street": "",
          "formatted_address": "18 High St, Ladysmith BC V9G 1B9",
          "locality": "Ladysmith",
          "neighborhood": [
           "Cedar"
          ],
          "postcode": "V9G 1B9",
          "region": "BC"
         },
         "name": "In the Bean Time",
         "related_places": {},
         "timezone": "America/Vancouver"
        },
        {
         "categories": [
          {
           "icon": {
            "prefix": "https://ss3.4sqi.net/img/categories_v2/shops/financial_",
            "suffix": ".png"
           },
           "id": 11045,
           "name": "Bank"
          }
         ],
         "chains": [
          {
           "id": "d51a09f0-d890-0132-61d3-7a163eb2a6fc",
           "name": "RBC Royal Bank"
          }
         ],
         "distance": 13,
         "fsq_id": "4caf56ad1463a143dbbc93a9",
         "geocodes": {
          "main": {
           "latitude": 48.993577,
           "longitude": -123.817534
          },
          "roof": {
           "latitude": 48.993577,
           "longitude": -123.817534
          }
         },
         "link": "/v3/places/4caf56ad1463a143dbbc93a9",
         "location": {
          "address": "527 1 St Ave",
          "country": "CA",
          "cross_street": "",
          "formatted_address": "527 1 St Ave, Ladysmith BC V9G 1A7",
          "locality": "Ladysmith",
          "po_box": "PO Box 1060",
          "postcode": "V9G 1A7",
          "region": "BC"
         },
         "name": "RBC Royal Bank",
         "related_places": {},
         "timezone": "America/Vancouver"
        },
        {
         "categories": [
          {
           "icon": {
            "prefix": "https://ss3.4sqi.net/img/categories_v2/shops/candystore_",
            "suffix": ".png"
           },
           "id": 17060,
           "name": "Candy Store"
          }
         ],
         "chains": [],
         "distance": 23,
         "fsq_id": "543065e3498ece744a874fb3",
         "geocodes": {
          "main": {
           "latitude": 48.9941,
           "longitude": -123.818307
          },
          "roof": {
           "latitude": 48.9941,
           "longitude": -123.818307
          }
         },
         "link": "/v3/places/543065e3498ece744a874fb3",
         "location": {
          "address": "32 High St",
          "address_extended": "# 1",
          "country": "CA",
          "cross_street": "1st Avenue",
          "formatted_address": "32 High St (1st Avenue), Ladysmith BC V9G 1B9",
          "locality": "Ladysmith",
          "postcode": "V9G 1B9",
          "region": "BC"
         },
         "name": "Mr Popper's Sweet Shoppe",
         "related_places": {},
         "timezone": "America/Vancouver"
        },
        {
         "categories": [
          {
           "icon": {
            "prefix": "https://ss3.4sqi.net/img/categories_v2/shops/salon_barber_",
            "suffix": ".png"
           },
           "id": 11064,
           "name": "Hair Salon"
          }
         ],
         "chains": [],
         "distance": 27,
         "fsq_id": "4e3dac44fa76455375bbb10f",
         "geocodes": {
          "main": {
           "latitude": 48.994092,
           "longitude": -123.817823
          },
          "roof": {
           "latitude": 48.994092,
           "longitude": -123.817823
          }
         },
         "link": "/v3/places/4e3dac44fa76455375bbb10f",
         "location": {
          "address": "23 High St",
          "country": "CA",
          "cross_street": "",
          "formatted_address": "23 High St, Ladysmith BC V9G 1B9",
          "locality": "Ladysmith",
          "postcode": "V9G 1B9",
          "region": "BC"
         },
         "name": "High Street Hair",
         "related_places": {},
         "timezone": "America/Vancouver"
        },
        {
         "categories": [
          {
           "icon": {
            "prefix": "https://ss3.4sqi.net/img/categories_v2/food/default_",
            "suffix": ".png"
           },
           "id": 13027,
           "name": "Bistro"
          }
         ],
         "chains": [],
         "distance": 46,
         "fsq_id": "54f76dad498eb5962e5eb57f",
         "geocodes": {
          "main": {
           "latitude": 48.993772,
           "longitude": -123.817874
          },
          "roof": {
           "latitude": 48.993772,
           "longitude": -123.817874
          }
         },
         "link": "/v3/places/54f76dad498eb5962e5eb57f",
         "location": {
          "address": "541 1st Ave",
          "country": "CA",
          "cross_street": "",
          "formatted_address": "541 1st Ave, Ladysmith BC V9G 1B9",
          "locality": "Ladysmith",
          "neighborhood": [
           "Ladysmith"
          ],
          "postcode": "V9G 1B9",
          "region": "BC"
         },
         "name": "Wild Poppy Bistro",
         "related_places": {},
         "timezone": "America/Vancouver"
        },
        {
         "categories": [
          {
           "icon": {
            "prefix": "https://ss3.4sqi.net/img/categories_v2/nightlife/pub_",
            "suffix": ".png"
           },
           "id": 13003,
           "name": "Bar"
          },
          {
           "icon": {
            "prefix": "https://ss3.4sqi.net/img/categories_v2/food/diner_",
            "suffix": ".png"
           },
           "id": 13049,
           "name": "Diner"
          },
          {
           "icon": {
            "prefix": "https://ss3.4sqi.net/img/categories_v2/food/asian_",
            "suffix": ".png"
           },
           "id": 13072,
           "name": "Asian Restaurant"
          }
         ],
         "chains": [],
         "distance": 46,
         "fsq_id": "4bf5888d4d5f20a18a9897fe",
         "geocodes": {
          "main": {
           "latitude": 48.993702,
           "longitude": -123.81827
          },
          "roof": {
           "latitude": 48.993702,
           "longitude": -123.81827
          }
         },
         "link": "/v3/places/4bf5888d4d5f20a18a9897fe",
         "location": {
          "address": "534 1st Ave",
          "country": "CA",
          "formatted_address": "534 1st Ave, Ladysmith BC",
          "locality": "Ladysmith",
          "region": "BC"
         },
         "name": "Appetit",
         "related_places": {},
         "timezone": "America/Vancouver"
        },
        {
         "categories": [
          {
           "icon": {
            "prefix": "https://ss3.4sqi.net/img/categories_v2/shops/food_gourmet_",
            "suffix": ".png"
           },
           "id": 17068,
           "name": "Gourmet Store"
          },
          {
           "icon": {
            "prefix": "https://ss3.4sqi.net/img/categories_v2/shops/food_grocery_",
            "suffix": ".png"
           },
           "id": 17069,
           "name": "Grocery Store / Supermarket"
          }
         ],
         "chains": [],
         "distance": 50,
         "fsq_id": "4d7bf986e04d6ea8c4ccf2d5",
         "geocodes": {
          "main": {
           "latitude": 48.993374,
           "longitude": -123.817837
          },
          "roof": {
           "latitude": 48.993374,
           "longitude": -123.817837
          }
         },
         "link": "/v3/places/4d7bf986e04d6ea8c4ccf2d5",
         "location": {
          "address": "524 1st Ave",
          "country": "CA",
          "cross_street": "",
          "formatted_address": "524 1st Ave, Ladysmith BC V9G 1A9",
          "locality": "Ladysmith",
          "postcode": "V9G 1A9",
          "region": "BC"
         },
         "name": "The Worldly Gourmet Kitchen Store",
         "related_places": {},
         "timezone": "America/Vancouver"
        },
        {
         "categories": [
          {
           "icon": {
            "prefix": "https://ss3.4sqi.net/img/categories_v2/shops/bookstore_",
            "suffix": ".png"
           },
           "id": 17018,
           "name": "Bookstore"
          }
         ],
         "chains": [],
         "distance": 54,
         "fsq_id": "4eac571d991107f63cfa5fb6",
         "geocodes": {
          "main": {
           "latitude": 48.993751,
           "longitude": -123.817791
          },
          "roof": {
           "latitude": 48.993751,
           "longitude": -123.817791
          }
         },
         "link": "/v3/places/4eac571d991107f63cfa5fb6",
         "location": {
          "address": "535 1 St Ave",
          "country": "CA",
          "cross_street": "",
          "formatted_address": "535 1 St Ave, Ladysmith BC V9G 1B9",
          "locality": "Ladysmith",
          "postcode": "V9G 1B9",
          "region": "BC"
         },
         "name": "Salamander Books",
         "related_places": {},
         "timezone": "America/Vancouver"
        },
        {
         "categories": [
          {
           "icon": {
            "prefix": "https://ss3.4sqi.net/img/categories_v2/nightlife/pub_",
            "suffix": ".png"
           },
           "id": 13018,
           "name": "Pub"
          },
          {
           "icon": {
            "prefix": "https://ss3.4sqi.net/img/categories_v2/food/default_",
            "suffix": ".png"
           },
           "id": 13065,
           "name": "Restaurant"
          }
         ],
         "chains": [],
         "distance": 64,
         "fsq_id": "54c5681f498e215fadd58370",
         "geocodes": {
          "main": {
           "latitude": 48.994294,
           "longitude": -123.81752
          },
          "roof": {
           "latitude": 48.994294,
           "longitude": -123.81752
          }
         },
         "link": "/v3/places/54c5681f498e215fadd58370",
         "location": {
          "address": "11 High St",
          "country": "CA",
          "cross_street": "",
          "formatted_address": "11 High St, Ladysmith BC V9G 1A4",
          "locality": "Ladysmith",
          "neighborhood": [
           "Ladysmith"
          ],
          "postcode": "V9G 1A4",
          "region": "BC"
         },
         "name": "Fox & Hound",
         "related_places": {},
         "timezone": "America/Vancouver"
        }
       ]
      },
      "text/plain": [
       "<IPython.core.display.JSON object>"
      ]
     },
     "execution_count": 30,
     "metadata": {
      "application/json": {
       "expanded": false,
       "root": "root"
      }
     },
     "output_type": "execute_result"
    }
   ],
   "source": [
    "# Use JSON to get a different view of the response\n",
    "\n",
    "JSON(FS_response)"
   ]
  },
  {
   "cell_type": "code",
   "execution_count": 40,
   "metadata": {},
   "outputs": [
    {
     "data": {
      "text/plain": [
       "'Old Town Bakery'"
      ]
     },
     "execution_count": 40,
     "metadata": {},
     "output_type": "execute_result"
    }
   ],
   "source": [
    "# Access the name of the first POI\n",
    "\n",
    "FS_response['results'][0]['name']"
   ]
  },
  {
   "cell_type": "code",
   "execution_count": 43,
   "metadata": {},
   "outputs": [
    {
     "name": "stdout",
     "output_type": "stream",
     "text": [
      "['Old Town Bakery', 'In the Bean Time', 'RBC Royal Bank', \"Mr Popper's Sweet Shoppe\", 'High Street Hair', 'Wild Poppy Bistro', 'Appetit', 'The Worldly Gourmet Kitchen Store', 'Salamander Books', 'Fox & Hound']\n"
     ]
    }
   ],
   "source": [
    "# identify all the points of interest returned by the Foursquare API within a 1000 m radius of the Wild Poppy\n",
    "\n",
    "FS_POI = []\n",
    "\n",
    "for item in FS_response['results']:\n",
    "    FS_POI.append(item['name'])\n",
    "    \n",
    "print(FS_POI)"
   ]
  },
  {
   "cell_type": "markdown",
   "metadata": {
    "tags": []
   },
   "source": [
    "Put your parsed results into a DataFrame"
   ]
  },
  {
   "cell_type": "code",
   "execution_count": 46,
   "metadata": {},
   "outputs": [
    {
     "data": {
      "text/html": [
       "<div>\n",
       "<style scoped>\n",
       "    .dataframe tbody tr th:only-of-type {\n",
       "        vertical-align: middle;\n",
       "    }\n",
       "\n",
       "    .dataframe tbody tr th {\n",
       "        vertical-align: top;\n",
       "    }\n",
       "\n",
       "    .dataframe thead th {\n",
       "        text-align: right;\n",
       "    }\n",
       "</style>\n",
       "<table border=\"1\" class=\"dataframe\">\n",
       "  <thead>\n",
       "    <tr style=\"text-align: right;\">\n",
       "      <th></th>\n",
       "      <th>results</th>\n",
       "      <th>context.geo_bounds.circle.center.latitude</th>\n",
       "      <th>context.geo_bounds.circle.center.longitude</th>\n",
       "      <th>context.geo_bounds.circle.radius</th>\n",
       "    </tr>\n",
       "  </thead>\n",
       "  <tbody>\n",
       "    <tr>\n",
       "      <th>0</th>\n",
       "      <td>[{'fsq_id': '4b9f8746f964a520112937e3', 'categ...</td>\n",
       "      <td>48.994003</td>\n",
       "      <td>-123.817889</td>\n",
       "      <td>1000</td>\n",
       "    </tr>\n",
       "  </tbody>\n",
       "</table>\n",
       "</div>"
      ],
      "text/plain": [
       "                                             results  \\\n",
       "0  [{'fsq_id': '4b9f8746f964a520112937e3', 'categ...   \n",
       "\n",
       "   context.geo_bounds.circle.center.latitude  \\\n",
       "0                                  48.994003   \n",
       "\n",
       "   context.geo_bounds.circle.center.longitude  \\\n",
       "0                                 -123.817889   \n",
       "\n",
       "   context.geo_bounds.circle.radius  \n",
       "0                              1000  "
      ]
     },
     "execution_count": 46,
     "metadata": {},
     "output_type": "execute_result"
    }
   ],
   "source": [
    "# try to put the whole parsed response into a dataframe\n",
    "\n",
    "pd.json_normalize(FS_response)"
   ]
  },
  {
   "cell_type": "code",
   "execution_count": 59,
   "metadata": {},
   "outputs": [
    {
     "data": {
      "text/html": [
       "<div>\n",
       "<style scoped>\n",
       "    .dataframe tbody tr th:only-of-type {\n",
       "        vertical-align: middle;\n",
       "    }\n",
       "\n",
       "    .dataframe tbody tr th {\n",
       "        vertical-align: top;\n",
       "    }\n",
       "\n",
       "    .dataframe thead th {\n",
       "        text-align: right;\n",
       "    }\n",
       "</style>\n",
       "<table border=\"1\" class=\"dataframe\">\n",
       "  <thead>\n",
       "    <tr style=\"text-align: right;\">\n",
       "      <th></th>\n",
       "      <th>fsq_id</th>\n",
       "      <th>categories</th>\n",
       "      <th>chains</th>\n",
       "      <th>distance</th>\n",
       "      <th>link</th>\n",
       "      <th>name</th>\n",
       "      <th>timezone</th>\n",
       "      <th>geocodes.main.latitude</th>\n",
       "      <th>geocodes.main.longitude</th>\n",
       "      <th>geocodes.roof.latitude</th>\n",
       "      <th>...</th>\n",
       "      <th>location.address</th>\n",
       "      <th>location.country</th>\n",
       "      <th>location.cross_street</th>\n",
       "      <th>location.formatted_address</th>\n",
       "      <th>location.locality</th>\n",
       "      <th>location.neighborhood</th>\n",
       "      <th>location.postcode</th>\n",
       "      <th>location.region</th>\n",
       "      <th>location.po_box</th>\n",
       "      <th>location.address_extended</th>\n",
       "    </tr>\n",
       "  </thead>\n",
       "  <tbody>\n",
       "    <tr>\n",
       "      <th>0</th>\n",
       "      <td>4b9f8746f964a520112937e3</td>\n",
       "      <td>[{'id': 13002, 'name': 'Bakery', 'icon': {'pre...</td>\n",
       "      <td>[]</td>\n",
       "      <td>77</td>\n",
       "      <td>/v3/places/4b9f8746f964a520112937e3</td>\n",
       "      <td>Old Town Bakery</td>\n",
       "      <td>America/Vancouver</td>\n",
       "      <td>48.993297</td>\n",
       "      <td>-123.817749</td>\n",
       "      <td>48.993297</td>\n",
       "      <td>...</td>\n",
       "      <td>510 1st Ave</td>\n",
       "      <td>CA</td>\n",
       "      <td></td>\n",
       "      <td>510 1st Ave, Ladysmith BC V9G 1R3</td>\n",
       "      <td>Ladysmith</td>\n",
       "      <td>[Cedar]</td>\n",
       "      <td>V9G 1R3</td>\n",
       "      <td>BC</td>\n",
       "      <td>NaN</td>\n",
       "      <td>NaN</td>\n",
       "    </tr>\n",
       "    <tr>\n",
       "      <th>1</th>\n",
       "      <td>4d5dd55d5b276dcb151ef2c5</td>\n",
       "      <td>[{'id': 13034, 'name': 'Café', 'icon': {'prefi...</td>\n",
       "      <td>[]</td>\n",
       "      <td>42</td>\n",
       "      <td>/v3/places/4d5dd55d5b276dcb151ef2c5</td>\n",
       "      <td>In the Bean Time</td>\n",
       "      <td>America/Vancouver</td>\n",
       "      <td>48.994468</td>\n",
       "      <td>-123.817778</td>\n",
       "      <td>48.994468</td>\n",
       "      <td>...</td>\n",
       "      <td>18 High St</td>\n",
       "      <td>CA</td>\n",
       "      <td></td>\n",
       "      <td>18 High St, Ladysmith BC V9G 1B9</td>\n",
       "      <td>Ladysmith</td>\n",
       "      <td>[Cedar]</td>\n",
       "      <td>V9G 1B9</td>\n",
       "      <td>BC</td>\n",
       "      <td>NaN</td>\n",
       "      <td>NaN</td>\n",
       "    </tr>\n",
       "    <tr>\n",
       "      <th>2</th>\n",
       "      <td>4caf56ad1463a143dbbc93a9</td>\n",
       "      <td>[{'id': 11045, 'name': 'Bank', 'icon': {'prefi...</td>\n",
       "      <td>[{'id': 'd51a09f0-d890-0132-61d3-7a163eb2a6fc'...</td>\n",
       "      <td>13</td>\n",
       "      <td>/v3/places/4caf56ad1463a143dbbc93a9</td>\n",
       "      <td>RBC Royal Bank</td>\n",
       "      <td>America/Vancouver</td>\n",
       "      <td>48.993577</td>\n",
       "      <td>-123.817534</td>\n",
       "      <td>48.993577</td>\n",
       "      <td>...</td>\n",
       "      <td>527 1 St Ave</td>\n",
       "      <td>CA</td>\n",
       "      <td></td>\n",
       "      <td>527 1 St Ave, Ladysmith BC V9G 1A7</td>\n",
       "      <td>Ladysmith</td>\n",
       "      <td>NaN</td>\n",
       "      <td>V9G 1A7</td>\n",
       "      <td>BC</td>\n",
       "      <td>PO Box 1060</td>\n",
       "      <td>NaN</td>\n",
       "    </tr>\n",
       "    <tr>\n",
       "      <th>3</th>\n",
       "      <td>543065e3498ece744a874fb3</td>\n",
       "      <td>[{'id': 17060, 'name': 'Candy Store', 'icon': ...</td>\n",
       "      <td>[]</td>\n",
       "      <td>23</td>\n",
       "      <td>/v3/places/543065e3498ece744a874fb3</td>\n",
       "      <td>Mr Popper's Sweet Shoppe</td>\n",
       "      <td>America/Vancouver</td>\n",
       "      <td>48.994100</td>\n",
       "      <td>-123.818307</td>\n",
       "      <td>48.994100</td>\n",
       "      <td>...</td>\n",
       "      <td>32 High St</td>\n",
       "      <td>CA</td>\n",
       "      <td>1st Avenue</td>\n",
       "      <td>32 High St (1st Avenue), Ladysmith BC V9G 1B9</td>\n",
       "      <td>Ladysmith</td>\n",
       "      <td>NaN</td>\n",
       "      <td>V9G 1B9</td>\n",
       "      <td>BC</td>\n",
       "      <td>NaN</td>\n",
       "      <td># 1</td>\n",
       "    </tr>\n",
       "    <tr>\n",
       "      <th>4</th>\n",
       "      <td>4e3dac44fa76455375bbb10f</td>\n",
       "      <td>[{'id': 11064, 'name': 'Hair Salon', 'icon': {...</td>\n",
       "      <td>[]</td>\n",
       "      <td>27</td>\n",
       "      <td>/v3/places/4e3dac44fa76455375bbb10f</td>\n",
       "      <td>High Street Hair</td>\n",
       "      <td>America/Vancouver</td>\n",
       "      <td>48.994092</td>\n",
       "      <td>-123.817823</td>\n",
       "      <td>48.994092</td>\n",
       "      <td>...</td>\n",
       "      <td>23 High St</td>\n",
       "      <td>CA</td>\n",
       "      <td></td>\n",
       "      <td>23 High St, Ladysmith BC V9G 1B9</td>\n",
       "      <td>Ladysmith</td>\n",
       "      <td>NaN</td>\n",
       "      <td>V9G 1B9</td>\n",
       "      <td>BC</td>\n",
       "      <td>NaN</td>\n",
       "      <td>NaN</td>\n",
       "    </tr>\n",
       "  </tbody>\n",
       "</table>\n",
       "<p>5 rows × 21 columns</p>\n",
       "</div>"
      ],
      "text/plain": [
       "                     fsq_id  \\\n",
       "0  4b9f8746f964a520112937e3   \n",
       "1  4d5dd55d5b276dcb151ef2c5   \n",
       "2  4caf56ad1463a143dbbc93a9   \n",
       "3  543065e3498ece744a874fb3   \n",
       "4  4e3dac44fa76455375bbb10f   \n",
       "\n",
       "                                          categories  \\\n",
       "0  [{'id': 13002, 'name': 'Bakery', 'icon': {'pre...   \n",
       "1  [{'id': 13034, 'name': 'Café', 'icon': {'prefi...   \n",
       "2  [{'id': 11045, 'name': 'Bank', 'icon': {'prefi...   \n",
       "3  [{'id': 17060, 'name': 'Candy Store', 'icon': ...   \n",
       "4  [{'id': 11064, 'name': 'Hair Salon', 'icon': {...   \n",
       "\n",
       "                                              chains  distance  \\\n",
       "0                                                 []        77   \n",
       "1                                                 []        42   \n",
       "2  [{'id': 'd51a09f0-d890-0132-61d3-7a163eb2a6fc'...        13   \n",
       "3                                                 []        23   \n",
       "4                                                 []        27   \n",
       "\n",
       "                                  link                      name  \\\n",
       "0  /v3/places/4b9f8746f964a520112937e3           Old Town Bakery   \n",
       "1  /v3/places/4d5dd55d5b276dcb151ef2c5          In the Bean Time   \n",
       "2  /v3/places/4caf56ad1463a143dbbc93a9            RBC Royal Bank   \n",
       "3  /v3/places/543065e3498ece744a874fb3  Mr Popper's Sweet Shoppe   \n",
       "4  /v3/places/4e3dac44fa76455375bbb10f          High Street Hair   \n",
       "\n",
       "            timezone  geocodes.main.latitude  geocodes.main.longitude  \\\n",
       "0  America/Vancouver               48.993297              -123.817749   \n",
       "1  America/Vancouver               48.994468              -123.817778   \n",
       "2  America/Vancouver               48.993577              -123.817534   \n",
       "3  America/Vancouver               48.994100              -123.818307   \n",
       "4  America/Vancouver               48.994092              -123.817823   \n",
       "\n",
       "   geocodes.roof.latitude  ...  location.address location.country  \\\n",
       "0               48.993297  ...       510 1st Ave               CA   \n",
       "1               48.994468  ...        18 High St               CA   \n",
       "2               48.993577  ...      527 1 St Ave               CA   \n",
       "3               48.994100  ...        32 High St               CA   \n",
       "4               48.994092  ...        23 High St               CA   \n",
       "\n",
       "  location.cross_street                     location.formatted_address  \\\n",
       "0                                    510 1st Ave, Ladysmith BC V9G 1R3   \n",
       "1                                     18 High St, Ladysmith BC V9G 1B9   \n",
       "2                                   527 1 St Ave, Ladysmith BC V9G 1A7   \n",
       "3            1st Avenue  32 High St (1st Avenue), Ladysmith BC V9G 1B9   \n",
       "4                                     23 High St, Ladysmith BC V9G 1B9   \n",
       "\n",
       "  location.locality location.neighborhood location.postcode location.region  \\\n",
       "0         Ladysmith               [Cedar]           V9G 1R3              BC   \n",
       "1         Ladysmith               [Cedar]           V9G 1B9              BC   \n",
       "2         Ladysmith                   NaN           V9G 1A7              BC   \n",
       "3         Ladysmith                   NaN           V9G 1B9              BC   \n",
       "4         Ladysmith                   NaN           V9G 1B9              BC   \n",
       "\n",
       "  location.po_box location.address_extended  \n",
       "0             NaN                       NaN  \n",
       "1             NaN                       NaN  \n",
       "2     PO Box 1060                       NaN  \n",
       "3             NaN                       # 1  \n",
       "4             NaN                       NaN  \n",
       "\n",
       "[5 rows x 21 columns]"
      ]
     },
     "execution_count": 59,
     "metadata": {},
     "output_type": "execute_result"
    }
   ],
   "source": [
    "# not what I want, so access results and put into dataframe\n",
    "\n",
    "results_df = pd.json_normalize(FS_response, record_path='results')\n",
    "results_df.head()"
   ]
  },
  {
   "cell_type": "code",
   "execution_count": 60,
   "metadata": {},
   "outputs": [
    {
     "data": {
      "text/plain": [
       "0    [{'id': 13002, 'name': 'Bakery', 'icon': {'pre...\n",
       "1    [{'id': 13034, 'name': 'Café', 'icon': {'prefi...\n",
       "2    [{'id': 11045, 'name': 'Bank', 'icon': {'prefi...\n",
       "3    [{'id': 17060, 'name': 'Candy Store', 'icon': ...\n",
       "4    [{'id': 11064, 'name': 'Hair Salon', 'icon': {...\n",
       "5    [{'id': 13027, 'name': 'Bistro', 'icon': {'pre...\n",
       "6    [{'id': 13003, 'name': 'Bar', 'icon': {'prefix...\n",
       "7    [{'id': 17068, 'name': 'Gourmet Store', 'icon'...\n",
       "8    [{'id': 17018, 'name': 'Bookstore', 'icon': {'...\n",
       "9    [{'id': 13018, 'name': 'Pub', 'icon': {'prefix...\n",
       "Name: categories, dtype: object"
      ]
     },
     "execution_count": 60,
     "metadata": {},
     "output_type": "execute_result"
    }
   ],
   "source": [
    "categories = results_df['categories']\n",
    "categories"
   ]
  },
  {
   "cell_type": "code",
   "execution_count": 62,
   "metadata": {},
   "outputs": [
    {
     "data": {
      "text/html": [
       "<div>\n",
       "<style scoped>\n",
       "    .dataframe tbody tr th:only-of-type {\n",
       "        vertical-align: middle;\n",
       "    }\n",
       "\n",
       "    .dataframe tbody tr th {\n",
       "        vertical-align: top;\n",
       "    }\n",
       "\n",
       "    .dataframe thead th {\n",
       "        text-align: right;\n",
       "    }\n",
       "</style>\n",
       "<table border=\"1\" class=\"dataframe\">\n",
       "  <thead>\n",
       "    <tr style=\"text-align: right;\">\n",
       "      <th></th>\n",
       "      <th>0</th>\n",
       "      <th>1</th>\n",
       "      <th>2</th>\n",
       "    </tr>\n",
       "  </thead>\n",
       "  <tbody>\n",
       "    <tr>\n",
       "      <th>0</th>\n",
       "      <td>{'id': 13002, 'name': 'Bakery', 'icon.prefix':...</td>\n",
       "      <td>{'id': 13065, 'name': 'Restaurant', 'icon.pref...</td>\n",
       "      <td>None</td>\n",
       "    </tr>\n",
       "    <tr>\n",
       "      <th>1</th>\n",
       "      <td>{'id': 13034, 'name': 'Café', 'icon.prefix': '...</td>\n",
       "      <td>{'id': 13049, 'name': 'Diner', 'icon.prefix': ...</td>\n",
       "      <td>None</td>\n",
       "    </tr>\n",
       "    <tr>\n",
       "      <th>2</th>\n",
       "      <td>{'id': 11045, 'name': 'Bank', 'icon.prefix': '...</td>\n",
       "      <td>None</td>\n",
       "      <td>None</td>\n",
       "    </tr>\n",
       "    <tr>\n",
       "      <th>3</th>\n",
       "      <td>{'id': 17060, 'name': 'Candy Store', 'icon.pre...</td>\n",
       "      <td>None</td>\n",
       "      <td>None</td>\n",
       "    </tr>\n",
       "    <tr>\n",
       "      <th>4</th>\n",
       "      <td>{'id': 11064, 'name': 'Hair Salon', 'icon.pref...</td>\n",
       "      <td>None</td>\n",
       "      <td>None</td>\n",
       "    </tr>\n",
       "    <tr>\n",
       "      <th>5</th>\n",
       "      <td>{'id': 13027, 'name': 'Bistro', 'icon.prefix':...</td>\n",
       "      <td>None</td>\n",
       "      <td>None</td>\n",
       "    </tr>\n",
       "    <tr>\n",
       "      <th>6</th>\n",
       "      <td>{'id': 13003, 'name': 'Bar', 'icon.prefix': 'h...</td>\n",
       "      <td>{'id': 13049, 'name': 'Diner', 'icon.prefix': ...</td>\n",
       "      <td>{'id': 13072, 'name': 'Asian Restaurant', 'ico...</td>\n",
       "    </tr>\n",
       "    <tr>\n",
       "      <th>7</th>\n",
       "      <td>{'id': 17068, 'name': 'Gourmet Store', 'icon.p...</td>\n",
       "      <td>{'id': 17069, 'name': 'Grocery Store / Superma...</td>\n",
       "      <td>None</td>\n",
       "    </tr>\n",
       "    <tr>\n",
       "      <th>8</th>\n",
       "      <td>{'id': 17018, 'name': 'Bookstore', 'icon.prefi...</td>\n",
       "      <td>None</td>\n",
       "      <td>None</td>\n",
       "    </tr>\n",
       "    <tr>\n",
       "      <th>9</th>\n",
       "      <td>{'id': 13018, 'name': 'Pub', 'icon.prefix': 'h...</td>\n",
       "      <td>{'id': 13065, 'name': 'Restaurant', 'icon.pref...</td>\n",
       "      <td>None</td>\n",
       "    </tr>\n",
       "  </tbody>\n",
       "</table>\n",
       "</div>"
      ],
      "text/plain": [
       "                                                   0  \\\n",
       "0  {'id': 13002, 'name': 'Bakery', 'icon.prefix':...   \n",
       "1  {'id': 13034, 'name': 'Café', 'icon.prefix': '...   \n",
       "2  {'id': 11045, 'name': 'Bank', 'icon.prefix': '...   \n",
       "3  {'id': 17060, 'name': 'Candy Store', 'icon.pre...   \n",
       "4  {'id': 11064, 'name': 'Hair Salon', 'icon.pref...   \n",
       "5  {'id': 13027, 'name': 'Bistro', 'icon.prefix':...   \n",
       "6  {'id': 13003, 'name': 'Bar', 'icon.prefix': 'h...   \n",
       "7  {'id': 17068, 'name': 'Gourmet Store', 'icon.p...   \n",
       "8  {'id': 17018, 'name': 'Bookstore', 'icon.prefi...   \n",
       "9  {'id': 13018, 'name': 'Pub', 'icon.prefix': 'h...   \n",
       "\n",
       "                                                   1  \\\n",
       "0  {'id': 13065, 'name': 'Restaurant', 'icon.pref...   \n",
       "1  {'id': 13049, 'name': 'Diner', 'icon.prefix': ...   \n",
       "2                                               None   \n",
       "3                                               None   \n",
       "4                                               None   \n",
       "5                                               None   \n",
       "6  {'id': 13049, 'name': 'Diner', 'icon.prefix': ...   \n",
       "7  {'id': 17069, 'name': 'Grocery Store / Superma...   \n",
       "8                                               None   \n",
       "9  {'id': 13065, 'name': 'Restaurant', 'icon.pref...   \n",
       "\n",
       "                                                   2  \n",
       "0                                               None  \n",
       "1                                               None  \n",
       "2                                               None  \n",
       "3                                               None  \n",
       "4                                               None  \n",
       "5                                               None  \n",
       "6  {'id': 13072, 'name': 'Asian Restaurant', 'ico...  \n",
       "7                                               None  \n",
       "8                                               None  \n",
       "9                                               None  "
      ]
     },
     "execution_count": 62,
     "metadata": {},
     "output_type": "execute_result"
    }
   ],
   "source": [
    "category_df = pd.json_normalize(categories)\n",
    "category_df"
   ]
  },
  {
   "cell_type": "code",
   "execution_count": 65,
   "metadata": {
    "collapsed": true,
    "jupyter": {
     "outputs_hidden": true
    },
    "tags": []
   },
   "outputs": [
    {
     "ename": "KeyError",
     "evalue": "'0'",
     "output_type": "error",
     "traceback": [
      "\u001b[1;31m---------------------------------------------------------------------------\u001b[0m",
      "\u001b[1;31mKeyError\u001b[0m                                  Traceback (most recent call last)",
      "Cell \u001b[1;32mIn [65], line 1\u001b[0m\n\u001b[1;32m----> 1\u001b[0m category_names \u001b[38;5;241m=\u001b[39m \u001b[43mcategory_df\u001b[49m\u001b[43m[\u001b[49m\u001b[38;5;124;43m'\u001b[39;49m\u001b[38;5;124;43m0\u001b[39;49m\u001b[38;5;124;43m'\u001b[39;49m\u001b[43m]\u001b[49m\n\u001b[0;32m      2\u001b[0m category_names\n",
      "File \u001b[1;32m~\\AppData\\Roaming\\Python\\Python39\\site-packages\\pandas\\core\\frame.py:3805\u001b[0m, in \u001b[0;36mDataFrame.__getitem__\u001b[1;34m(self, key)\u001b[0m\n\u001b[0;32m   3803\u001b[0m \u001b[38;5;28;01mif\u001b[39;00m \u001b[38;5;28mself\u001b[39m\u001b[38;5;241m.\u001b[39mcolumns\u001b[38;5;241m.\u001b[39mnlevels \u001b[38;5;241m>\u001b[39m \u001b[38;5;241m1\u001b[39m:\n\u001b[0;32m   3804\u001b[0m     \u001b[38;5;28;01mreturn\u001b[39;00m \u001b[38;5;28mself\u001b[39m\u001b[38;5;241m.\u001b[39m_getitem_multilevel(key)\n\u001b[1;32m-> 3805\u001b[0m indexer \u001b[38;5;241m=\u001b[39m \u001b[38;5;28;43mself\u001b[39;49m\u001b[38;5;241;43m.\u001b[39;49m\u001b[43mcolumns\u001b[49m\u001b[38;5;241;43m.\u001b[39;49m\u001b[43mget_loc\u001b[49m\u001b[43m(\u001b[49m\u001b[43mkey\u001b[49m\u001b[43m)\u001b[49m\n\u001b[0;32m   3806\u001b[0m \u001b[38;5;28;01mif\u001b[39;00m is_integer(indexer):\n\u001b[0;32m   3807\u001b[0m     indexer \u001b[38;5;241m=\u001b[39m [indexer]\n",
      "File \u001b[1;32m~\\AppData\\Roaming\\Python\\Python39\\site-packages\\pandas\\core\\indexes\\range.py:396\u001b[0m, in \u001b[0;36mRangeIndex.get_loc\u001b[1;34m(self, key, method, tolerance)\u001b[0m\n\u001b[0;32m    394\u001b[0m             \u001b[38;5;28;01mraise\u001b[39;00m \u001b[38;5;167;01mKeyError\u001b[39;00m(key) \u001b[38;5;28;01mfrom\u001b[39;00m \u001b[38;5;21;01merr\u001b[39;00m\n\u001b[0;32m    395\u001b[0m     \u001b[38;5;28mself\u001b[39m\u001b[38;5;241m.\u001b[39m_check_indexing_error(key)\n\u001b[1;32m--> 396\u001b[0m     \u001b[38;5;28;01mraise\u001b[39;00m \u001b[38;5;167;01mKeyError\u001b[39;00m(key)\n\u001b[0;32m    397\u001b[0m \u001b[38;5;28;01mreturn\u001b[39;00m \u001b[38;5;28msuper\u001b[39m()\u001b[38;5;241m.\u001b[39mget_loc(key, method\u001b[38;5;241m=\u001b[39mmethod, tolerance\u001b[38;5;241m=\u001b[39mtolerance)\n",
      "\u001b[1;31mKeyError\u001b[0m: '0'"
     ]
    }
   ],
   "source": [
    "category_names = category_df['0']\n",
    "category_names"
   ]
  },
  {
   "cell_type": "markdown",
   "metadata": {},
   "source": [
    "# Yelp"
   ]
  },
  {
   "cell_type": "markdown",
   "metadata": {},
   "source": [
    "Send a request with the same location paramaters (location, radius, etc)"
   ]
  },
  {
   "cell_type": "code",
   "execution_count": 68,
   "metadata": {},
   "outputs": [],
   "source": [
    "# Send the request through Postman first to try it out, and saved the response to a file."
   ]
  },
  {
   "cell_type": "code",
   "execution_count": 70,
   "metadata": {},
   "outputs": [
    {
     "ename": "KeyError",
     "evalue": "'YELP_API_KEY'",
     "output_type": "error",
     "traceback": [
      "\u001b[1;31m---------------------------------------------------------------------------\u001b[0m",
      "\u001b[1;31mKeyError\u001b[0m                                  Traceback (most recent call last)",
      "Cell \u001b[1;32mIn [70], line 6\u001b[0m\n\u001b[0;32m      1\u001b[0m \u001b[38;5;66;03m# Send the request via Python as well.\u001b[39;00m\n\u001b[0;32m      2\u001b[0m \u001b[38;5;66;03m# Refer to https://www.yelp.com/developers/documentation/v3/authentication to get the API Key, authorization format\u001b[39;00m\n\u001b[0;32m      3\u001b[0m \u001b[38;5;66;03m# Refer to https://www.yelp.com/developers/documentation/v3/business_search to get the url, query parameters\u001b[39;00m\n\u001b[0;32m      4\u001b[0m \n\u001b[0;32m      5\u001b[0m \u001b[38;5;66;03m# Set the keys\u001b[39;00m\n\u001b[1;32m----> 6\u001b[0m yelp_api \u001b[38;5;241m=\u001b[39m \u001b[38;5;124m'\u001b[39m\u001b[38;5;124mBearer \u001b[39m\u001b[38;5;124m'\u001b[39m\u001b[38;5;241m+\u001b[39m\u001b[43mos\u001b[49m\u001b[38;5;241;43m.\u001b[39;49m\u001b[43menviron\u001b[49m\u001b[43m[\u001b[49m\u001b[38;5;124;43m\"\u001b[39;49m\u001b[38;5;124;43mYELP_API_KEY\u001b[39;49m\u001b[38;5;124;43m\"\u001b[39;49m\u001b[43m]\u001b[49m\n\u001b[0;32m      8\u001b[0m \u001b[38;5;66;03m# Get the url (copied from url generated by Postman after entering the Wild Poppy latitude and longitude and the search radius of 1000m)\u001b[39;00m\n\u001b[0;32m      9\u001b[0m url \u001b[38;5;241m=\u001b[39m \u001b[38;5;124m\"\u001b[39m\u001b[38;5;124mhttps://api.yelp.com/v3/businesses/search?latitude=48.99400256898083&longitude=-123.81788919678714&radius=1000\u001b[39m\u001b[38;5;124m\"\u001b[39m\n",
      "File \u001b[1;32mC:\\Program Files\\Python39\\lib\\os.py:679\u001b[0m, in \u001b[0;36m_Environ.__getitem__\u001b[1;34m(self, key)\u001b[0m\n\u001b[0;32m    676\u001b[0m     value \u001b[38;5;241m=\u001b[39m \u001b[38;5;28mself\u001b[39m\u001b[38;5;241m.\u001b[39m_data[\u001b[38;5;28mself\u001b[39m\u001b[38;5;241m.\u001b[39mencodekey(key)]\n\u001b[0;32m    677\u001b[0m \u001b[38;5;28;01mexcept\u001b[39;00m \u001b[38;5;167;01mKeyError\u001b[39;00m:\n\u001b[0;32m    678\u001b[0m     \u001b[38;5;66;03m# raise KeyError with the original key value\u001b[39;00m\n\u001b[1;32m--> 679\u001b[0m     \u001b[38;5;28;01mraise\u001b[39;00m \u001b[38;5;167;01mKeyError\u001b[39;00m(key) \u001b[38;5;28;01mfrom\u001b[39;00m \u001b[38;5;28mNone\u001b[39m\n\u001b[0;32m    680\u001b[0m \u001b[38;5;28;01mreturn\u001b[39;00m \u001b[38;5;28mself\u001b[39m\u001b[38;5;241m.\u001b[39mdecodevalue(value)\n",
      "\u001b[1;31mKeyError\u001b[0m: 'YELP_API_KEY'"
     ]
    }
   ],
   "source": [
    "# Send the request via Python as well.\n",
    "# Refer to https://www.yelp.com/developers/documentation/v3/authentication to get the API Key, authorization format\n",
    "# Refer to https://www.yelp.com/developers/documentation/v3/business_search to get the url, query parameters\n",
    "\n",
    "# Set the keys\n",
    "yelp_api = 'Bearer '+os.environ[\"YELP_API_KEY\"]\n",
    "\n",
    "# Get the url (copied from url generated by Postman after entering the Wild Poppy latitude and longitude and the search radius of 1000m)\n",
    "url = \"https://api.yelp.com/v3/businesses/search?latitude=48.99400256898083&longitude=-123.81788919678714&radius=1000\"\n",
    "\n",
    "# Get the headers\n",
    "headers = {\n",
    "    \"Accept\": \"application/json\",\n",
    "    \"Authorization\": yelp_api\n",
    "}"
   ]
  },
  {
   "cell_type": "code",
   "execution_count": null,
   "metadata": {},
   "outputs": [],
   "source": []
  },
  {
   "cell_type": "markdown",
   "metadata": {},
   "source": [
    "Parse through your result and get POI details"
   ]
  },
  {
   "cell_type": "code",
   "execution_count": null,
   "metadata": {},
   "outputs": [],
   "source": []
  },
  {
   "cell_type": "markdown",
   "metadata": {},
   "source": [
    "Put your parsed results into a DataFrame"
   ]
  },
  {
   "cell_type": "code",
   "execution_count": null,
   "metadata": {},
   "outputs": [],
   "source": []
  },
  {
   "cell_type": "markdown",
   "metadata": {},
   "source": [
    "# Google (stretch)"
   ]
  },
  {
   "cell_type": "markdown",
   "metadata": {},
   "source": [
    "Use the same process as the first two APIs"
   ]
  },
  {
   "cell_type": "markdown",
   "metadata": {},
   "source": [
    "# Database"
   ]
  },
  {
   "cell_type": "markdown",
   "metadata": {},
   "source": [
    "Put all your results in an SQLite3 database (remember, SQLite stores its databases as files in your local machine - make sure to create your database in your project's data/ directory!)"
   ]
  },
  {
   "cell_type": "code",
   "execution_count": null,
   "metadata": {},
   "outputs": [],
   "source": []
  },
  {
   "cell_type": "markdown",
   "metadata": {},
   "source": [
    "Get the top 10 restaurants according to their rating"
   ]
  },
  {
   "cell_type": "code",
   "execution_count": null,
   "metadata": {},
   "outputs": [],
   "source": []
  },
  {
   "cell_type": "markdown",
   "metadata": {},
   "source": [
    "# Travelling Salesman Problem (stretch)"
   ]
  },
  {
   "cell_type": "markdown",
   "metadata": {},
   "source": [
    "If you have time, follow the steps in the [ortools tutorial](https://developers.google.com/optimization/routing/tsp) using Google's [Directions API](https://developers.google.com/maps/documentation/directions/start)."
   ]
  },
  {
   "cell_type": "code",
   "execution_count": null,
   "metadata": {},
   "outputs": [],
   "source": []
  }
 ],
 "metadata": {
  "kernelspec": {
   "display_name": "Python 3 (ipykernel)",
   "language": "python",
   "name": "python3"
  },
  "language_info": {
   "codemirror_mode": {
    "name": "ipython",
    "version": 3
   },
   "file_extension": ".py",
   "mimetype": "text/x-python",
   "name": "python",
   "nbconvert_exporter": "python",
   "pygments_lexer": "ipython3",
   "version": "3.9.13"
  }
 },
 "nbformat": 4,
 "nbformat_minor": 4
}
