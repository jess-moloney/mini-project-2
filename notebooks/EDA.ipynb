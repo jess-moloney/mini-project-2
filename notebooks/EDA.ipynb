{
 "cells": [
  {
   "cell_type": "code",
   "execution_count": 40,
   "metadata": {},
   "outputs": [],
   "source": [
    "# imports\n",
    "\n",
    "import requests\n",
    "import os\n",
    "import json\n",
    "from pprint import pprint\n",
    "from IPython.display import JSON\n",
    "import pandas as pd\n",
    "import sqlite3\n",
    "from sqlite3 import Error"
   ]
  },
  {
   "cell_type": "code",
   "execution_count": 41,
   "metadata": {},
   "outputs": [],
   "source": [
    "# Will find points of interest in Ladysmith BC, using the Wild Poppy Market latitude, longitude as the initial point of reference\n",
    "\n",
    "wild_poppy = '48.99400256898083,-123.81788919678714'"
   ]
  },
  {
   "cell_type": "markdown",
   "metadata": {},
   "source": [
    "# Foursquare"
   ]
  },
  {
   "cell_type": "markdown",
   "metadata": {},
   "source": [
    "Send a request to Foursquare with a small radius (1000m) with the location of your choice"
   ]
  },
  {
   "cell_type": "code",
   "execution_count": 334,
   "metadata": {},
   "outputs": [],
   "source": [
    "# Refer to https://developer.foursquare.com/reference/place-search to get the authorization format, url, query parameters\n",
    "# Send the request through Postman first to try it out, and saved the response to a file."
   ]
  },
  {
   "cell_type": "code",
   "execution_count": 333,
   "metadata": {
    "tags": []
   },
   "outputs": [],
   "source": [
    "# Send the request via Python as well.\n",
    "\n",
    "# Set the keys\n",
    "foursquare_api = os.environ[\"FOURSQUARE_API_KEY\"]\n",
    "\n",
    "# Get the url (copied from https://developer.foursquare.com/reference/place-search after entering the Wild Poppy latitude and longitude and the search radius of 1000m)\n",
    "url = \"https://api.foursquare.com/v3/places/search?ll=48.99400256898083%2C-123.81788919678714&radius=1000\"\n",
    "\n",
    "# Get the headers\n",
    "headers = {\n",
    "    \"Accept\": \"application/json\",\n",
    "    \"Authorization\": foursquare_api\n",
    "}"
   ]
  },
  {
   "cell_type": "code",
   "execution_count": 44,
   "metadata": {},
   "outputs": [],
   "source": [
    "# Send the request\n",
    "response_FS = requests.get(url, headers=headers)"
   ]
  },
  {
   "cell_type": "code",
   "execution_count": 45,
   "metadata": {
    "collapsed": true,
    "jupyter": {
     "outputs_hidden": true
    },
    "tags": []
   },
   "outputs": [
    {
     "name": "stdout",
     "output_type": "stream",
     "text": [
      "200\n",
      "{\"results\":[{\"fsq_id\":\"4b9f8746f964a520112937e3\",\"categories\":[{\"id\":13002,\"name\":\"Bakery\",\"icon\":{\"prefix\":\"https://ss3.4sqi.net/img/categories_v2/food/bakery_\",\"suffix\":\".png\"}},{\"id\":13065,\"name\":\"Restaurant\",\"icon\":{\"prefix\":\"https://ss3.4sqi.net/img/categories_v2/food/default_\",\"suffix\":\".png\"}}],\"chains\":[],\"distance\":77,\"geocodes\":{\"main\":{\"latitude\":48.993297,\"longitude\":-123.817749},\"roof\":{\"latitude\":48.993297,\"longitude\":-123.817749}},\"link\":\"/v3/places/4b9f8746f964a520112937e3\",\"location\":{\"address\":\"510 1st Ave\",\"country\":\"CA\",\"cross_street\":\"\",\"formatted_address\":\"510 1st Ave, Ladysmith BC V9G 1R3\",\"locality\":\"Ladysmith\",\"neighborhood\":[\"Cedar\"],\"postcode\":\"V9G 1R3\",\"region\":\"BC\"},\"name\":\"Old Town Bakery\",\"related_places\":{},\"timezone\":\"America/Vancouver\"},{\"fsq_id\":\"4d5dd55d5b276dcb151ef2c5\",\"categories\":[{\"id\":13034,\"name\":\"Café\",\"icon\":{\"prefix\":\"https://ss3.4sqi.net/img/categories_v2/food/cafe_\",\"suffix\":\".png\"}},{\"id\":13049,\"name\":\"Diner\",\"icon\":{\"prefix\":\"https://ss3.4sqi.net/img/categories_v2/food/diner_\",\"suffix\":\".png\"}}],\"chains\":[],\"distance\":42,\"geocodes\":{\"main\":{\"latitude\":48.994468,\"longitude\":-123.817778},\"roof\":{\"latitude\":48.994468,\"longitude\":-123.817778}},\"link\":\"/v3/places/4d5dd55d5b276dcb151ef2c5\",\"location\":{\"address\":\"18 High St\",\"country\":\"CA\",\"cross_street\":\"\",\"formatted_address\":\"18 High St, Ladysmith BC V9G 1B9\",\"locality\":\"Ladysmith\",\"neighborhood\":[\"Cedar\"],\"postcode\":\"V9G 1B9\",\"region\":\"BC\"},\"name\":\"In the Bean Time\",\"related_places\":{},\"timezone\":\"America/Vancouver\"},{\"fsq_id\":\"4caf56ad1463a143dbbc93a9\",\"categories\":[{\"id\":11045,\"name\":\"Bank\",\"icon\":{\"prefix\":\"https://ss3.4sqi.net/img/categories_v2/shops/financial_\",\"suffix\":\".png\"}}],\"chains\":[{\"id\":\"d51a09f0-d890-0132-61d3-7a163eb2a6fc\",\"name\":\"RBC Royal Bank\"}],\"distance\":13,\"geocodes\":{\"main\":{\"latitude\":48.993577,\"longitude\":-123.817534},\"roof\":{\"latitude\":48.993577,\"longitude\":-123.817534}},\"link\":\"/v3/places/4caf56ad1463a143dbbc93a9\",\"location\":{\"address\":\"527 1 St Ave\",\"country\":\"CA\",\"cross_street\":\"\",\"formatted_address\":\"527 1 St Ave, Ladysmith BC V9G 1A7\",\"locality\":\"Ladysmith\",\"po_box\":\"PO Box 1060\",\"postcode\":\"V9G 1A7\",\"region\":\"BC\"},\"name\":\"RBC Royal Bank\",\"related_places\":{},\"timezone\":\"America/Vancouver\"},{\"fsq_id\":\"543065e3498ece744a874fb3\",\"categories\":[{\"id\":17060,\"name\":\"Candy Store\",\"icon\":{\"prefix\":\"https://ss3.4sqi.net/img/categories_v2/shops/candystore_\",\"suffix\":\".png\"}}],\"chains\":[],\"distance\":23,\"geocodes\":{\"main\":{\"latitude\":48.9941,\"longitude\":-123.818307},\"roof\":{\"latitude\":48.9941,\"longitude\":-123.818307}},\"link\":\"/v3/places/543065e3498ece744a874fb3\",\"location\":{\"address\":\"32 High St\",\"address_extended\":\"# 1\",\"country\":\"CA\",\"cross_street\":\"1st Avenue\",\"formatted_address\":\"32 High St (1st Avenue), Ladysmith BC V9G 1B9\",\"locality\":\"Ladysmith\",\"postcode\":\"V9G 1B9\",\"region\":\"BC\"},\"name\":\"Mr Popper's Sweet Shoppe\",\"related_places\":{},\"timezone\":\"America/Vancouver\"},{\"fsq_id\":\"4e3dac44fa76455375bbb10f\",\"categories\":[{\"id\":11064,\"name\":\"Hair Salon\",\"icon\":{\"prefix\":\"https://ss3.4sqi.net/img/categories_v2/shops/salon_barber_\",\"suffix\":\".png\"}}],\"chains\":[],\"distance\":27,\"geocodes\":{\"main\":{\"latitude\":48.994092,\"longitude\":-123.817823},\"roof\":{\"latitude\":48.994092,\"longitude\":-123.817823}},\"link\":\"/v3/places/4e3dac44fa76455375bbb10f\",\"location\":{\"address\":\"23 High St\",\"country\":\"CA\",\"cross_street\":\"\",\"formatted_address\":\"23 High St, Ladysmith BC V9G 1B9\",\"locality\":\"Ladysmith\",\"postcode\":\"V9G 1B9\",\"region\":\"BC\"},\"name\":\"High Street Hair\",\"related_places\":{},\"timezone\":\"America/Vancouver\"},{\"fsq_id\":\"54f76dad498eb5962e5eb57f\",\"categories\":[{\"id\":13027,\"name\":\"Bistro\",\"icon\":{\"prefix\":\"https://ss3.4sqi.net/img/categories_v2/food/default_\",\"suffix\":\".png\"}}],\"chains\":[],\"distance\":46,\"geocodes\":{\"main\":{\"latitude\":48.993772,\"longitude\":-123.817874},\"roof\":{\"latitude\":48.993772,\"longitude\":-123.817874}},\"link\":\"/v3/places/54f76dad498eb5962e5eb57f\",\"location\":{\"address\":\"541 1st Ave\",\"country\":\"CA\",\"cross_street\":\"\",\"formatted_address\":\"541 1st Ave, Ladysmith BC V9G 1B9\",\"locality\":\"Ladysmith\",\"neighborhood\":[\"Ladysmith\"],\"postcode\":\"V9G 1B9\",\"region\":\"BC\"},\"name\":\"Wild Poppy Bistro\",\"related_places\":{},\"timezone\":\"America/Vancouver\"},{\"fsq_id\":\"4bf5888d4d5f20a18a9897fe\",\"categories\":[{\"id\":13003,\"name\":\"Bar\",\"icon\":{\"prefix\":\"https://ss3.4sqi.net/img/categories_v2/nightlife/pub_\",\"suffix\":\".png\"}},{\"id\":13049,\"name\":\"Diner\",\"icon\":{\"prefix\":\"https://ss3.4sqi.net/img/categories_v2/food/diner_\",\"suffix\":\".png\"}},{\"id\":13072,\"name\":\"Asian Restaurant\",\"icon\":{\"prefix\":\"https://ss3.4sqi.net/img/categories_v2/food/asian_\",\"suffix\":\".png\"}}],\"chains\":[],\"distance\":46,\"geocodes\":{\"main\":{\"latitude\":48.993702,\"longitude\":-123.81827},\"roof\":{\"latitude\":48.993702,\"longitude\":-123.81827}},\"link\":\"/v3/places/4bf5888d4d5f20a18a9897fe\",\"location\":{\"address\":\"534 1st Ave\",\"country\":\"CA\",\"formatted_address\":\"534 1st Ave, Ladysmith BC\",\"locality\":\"Ladysmith\",\"region\":\"BC\"},\"name\":\"Appetit\",\"related_places\":{},\"timezone\":\"America/Vancouver\"},{\"fsq_id\":\"4d7bf986e04d6ea8c4ccf2d5\",\"categories\":[{\"id\":17068,\"name\":\"Gourmet Store\",\"icon\":{\"prefix\":\"https://ss3.4sqi.net/img/categories_v2/shops/food_gourmet_\",\"suffix\":\".png\"}},{\"id\":17069,\"name\":\"Grocery Store / Supermarket\",\"icon\":{\"prefix\":\"https://ss3.4sqi.net/img/categories_v2/shops/food_grocery_\",\"suffix\":\".png\"}}],\"chains\":[],\"distance\":50,\"geocodes\":{\"main\":{\"latitude\":48.993374,\"longitude\":-123.817837},\"roof\":{\"latitude\":48.993374,\"longitude\":-123.817837}},\"link\":\"/v3/places/4d7bf986e04d6ea8c4ccf2d5\",\"location\":{\"address\":\"524 1st Ave\",\"country\":\"CA\",\"cross_street\":\"\",\"formatted_address\":\"524 1st Ave, Ladysmith BC V9G 1A9\",\"locality\":\"Ladysmith\",\"postcode\":\"V9G 1A9\",\"region\":\"BC\"},\"name\":\"The Worldly Gourmet Kitchen Store\",\"related_places\":{},\"timezone\":\"America/Vancouver\"},{\"fsq_id\":\"4eac571d991107f63cfa5fb6\",\"categories\":[{\"id\":17018,\"name\":\"Bookstore\",\"icon\":{\"prefix\":\"https://ss3.4sqi.net/img/categories_v2/shops/bookstore_\",\"suffix\":\".png\"}}],\"chains\":[],\"distance\":54,\"geocodes\":{\"main\":{\"latitude\":48.993751,\"longitude\":-123.817791},\"roof\":{\"latitude\":48.993751,\"longitude\":-123.817791}},\"link\":\"/v3/places/4eac571d991107f63cfa5fb6\",\"location\":{\"address\":\"535 1 St Ave\",\"country\":\"CA\",\"cross_street\":\"\",\"formatted_address\":\"535 1 St Ave, Ladysmith BC V9G 1B9\",\"locality\":\"Ladysmith\",\"postcode\":\"V9G 1B9\",\"region\":\"BC\"},\"name\":\"Salamander Books\",\"related_places\":{},\"timezone\":\"America/Vancouver\"},{\"fsq_id\":\"54c5681f498e215fadd58370\",\"categories\":[{\"id\":13018,\"name\":\"Pub\",\"icon\":{\"prefix\":\"https://ss3.4sqi.net/img/categories_v2/nightlife/pub_\",\"suffix\":\".png\"}},{\"id\":13065,\"name\":\"Restaurant\",\"icon\":{\"prefix\":\"https://ss3.4sqi.net/img/categories_v2/food/default_\",\"suffix\":\".png\"}}],\"chains\":[],\"distance\":64,\"geocodes\":{\"main\":{\"latitude\":48.994294,\"longitude\":-123.81752},\"roof\":{\"latitude\":48.994294,\"longitude\":-123.81752}},\"link\":\"/v3/places/54c5681f498e215fadd58370\",\"location\":{\"address\":\"11 High St\",\"country\":\"CA\",\"cross_street\":\"\",\"formatted_address\":\"11 High St, Ladysmith BC V9G 1A4\",\"locality\":\"Ladysmith\",\"neighborhood\":[\"Ladysmith\"],\"postcode\":\"V9G 1A4\",\"region\":\"BC\"},\"name\":\"Fox & Hound\",\"related_places\":{},\"timezone\":\"America/Vancouver\"}],\"context\":{\"geo_bounds\":{\"circle\":{\"center\":{\"latitude\":48.99400256898083,\"longitude\":-123.81788919678714},\"radius\":1000}}}}\n"
     ]
    }
   ],
   "source": [
    "# Check the status of the response and print the response text\n",
    "print(response_FS.status_code)\n",
    "print(response_FS.text)"
   ]
  },
  {
   "cell_type": "markdown",
   "metadata": {},
   "source": [
    "Parse through the response to get the POI details you want (rating, name, location, etc)"
   ]
  },
  {
   "cell_type": "code",
   "execution_count": 46,
   "metadata": {},
   "outputs": [],
   "source": [
    "FS_response = response_FS.json()"
   ]
  },
  {
   "cell_type": "code",
   "execution_count": 47,
   "metadata": {
    "collapsed": true,
    "jupyter": {
     "outputs_hidden": true
    },
    "tags": []
   },
   "outputs": [
    {
     "name": "stdout",
     "output_type": "stream",
     "text": [
      "{'context': {'geo_bounds': {'circle': {'center': {'latitude': 48.99400256898083,\n",
      "                                                  'longitude': -123.81788919678714},\n",
      "                                       'radius': 1000}}},\n",
      " 'results': [{'categories': [{'icon': {'prefix': 'https://ss3.4sqi.net/img/categories_v2/food/bakery_',\n",
      "                                       'suffix': '.png'},\n",
      "                              'id': 13002,\n",
      "                              'name': 'Bakery'},\n",
      "                             {'icon': {'prefix': 'https://ss3.4sqi.net/img/categories_v2/food/default_',\n",
      "                                       'suffix': '.png'},\n",
      "                              'id': 13065,\n",
      "                              'name': 'Restaurant'}],\n",
      "              'chains': [],\n",
      "              'distance': 77,\n",
      "              'fsq_id': '4b9f8746f964a520112937e3',\n",
      "              'geocodes': {'main': {'latitude': 48.993297,\n",
      "                                    'longitude': -123.817749},\n",
      "                           'roof': {'latitude': 48.993297,\n",
      "                                    'longitude': -123.817749}},\n",
      "              'link': '/v3/places/4b9f8746f964a520112937e3',\n",
      "              'location': {'address': '510 1st Ave',\n",
      "                           'country': 'CA',\n",
      "                           'cross_street': '',\n",
      "                           'formatted_address': '510 1st Ave, Ladysmith BC V9G '\n",
      "                                                '1R3',\n",
      "                           'locality': 'Ladysmith',\n",
      "                           'neighborhood': ['Cedar'],\n",
      "                           'postcode': 'V9G 1R3',\n",
      "                           'region': 'BC'},\n",
      "              'name': 'Old Town Bakery',\n",
      "              'related_places': {},\n",
      "              'timezone': 'America/Vancouver'},\n",
      "             {'categories': [{'icon': {'prefix': 'https://ss3.4sqi.net/img/categories_v2/food/cafe_',\n",
      "                                       'suffix': '.png'},\n",
      "                              'id': 13034,\n",
      "                              'name': 'Café'},\n",
      "                             {'icon': {'prefix': 'https://ss3.4sqi.net/img/categories_v2/food/diner_',\n",
      "                                       'suffix': '.png'},\n",
      "                              'id': 13049,\n",
      "                              'name': 'Diner'}],\n",
      "              'chains': [],\n",
      "              'distance': 42,\n",
      "              'fsq_id': '4d5dd55d5b276dcb151ef2c5',\n",
      "              'geocodes': {'main': {'latitude': 48.994468,\n",
      "                                    'longitude': -123.817778},\n",
      "                           'roof': {'latitude': 48.994468,\n",
      "                                    'longitude': -123.817778}},\n",
      "              'link': '/v3/places/4d5dd55d5b276dcb151ef2c5',\n",
      "              'location': {'address': '18 High St',\n",
      "                           'country': 'CA',\n",
      "                           'cross_street': '',\n",
      "                           'formatted_address': '18 High St, Ladysmith BC V9G '\n",
      "                                                '1B9',\n",
      "                           'locality': 'Ladysmith',\n",
      "                           'neighborhood': ['Cedar'],\n",
      "                           'postcode': 'V9G 1B9',\n",
      "                           'region': 'BC'},\n",
      "              'name': 'In the Bean Time',\n",
      "              'related_places': {},\n",
      "              'timezone': 'America/Vancouver'},\n",
      "             {'categories': [{'icon': {'prefix': 'https://ss3.4sqi.net/img/categories_v2/shops/financial_',\n",
      "                                       'suffix': '.png'},\n",
      "                              'id': 11045,\n",
      "                              'name': 'Bank'}],\n",
      "              'chains': [{'id': 'd51a09f0-d890-0132-61d3-7a163eb2a6fc',\n",
      "                          'name': 'RBC Royal Bank'}],\n",
      "              'distance': 13,\n",
      "              'fsq_id': '4caf56ad1463a143dbbc93a9',\n",
      "              'geocodes': {'main': {'latitude': 48.993577,\n",
      "                                    'longitude': -123.817534},\n",
      "                           'roof': {'latitude': 48.993577,\n",
      "                                    'longitude': -123.817534}},\n",
      "              'link': '/v3/places/4caf56ad1463a143dbbc93a9',\n",
      "              'location': {'address': '527 1 St Ave',\n",
      "                           'country': 'CA',\n",
      "                           'cross_street': '',\n",
      "                           'formatted_address': '527 1 St Ave, Ladysmith BC '\n",
      "                                                'V9G 1A7',\n",
      "                           'locality': 'Ladysmith',\n",
      "                           'po_box': 'PO Box 1060',\n",
      "                           'postcode': 'V9G 1A7',\n",
      "                           'region': 'BC'},\n",
      "              'name': 'RBC Royal Bank',\n",
      "              'related_places': {},\n",
      "              'timezone': 'America/Vancouver'},\n",
      "             {'categories': [{'icon': {'prefix': 'https://ss3.4sqi.net/img/categories_v2/shops/candystore_',\n",
      "                                       'suffix': '.png'},\n",
      "                              'id': 17060,\n",
      "                              'name': 'Candy Store'}],\n",
      "              'chains': [],\n",
      "              'distance': 23,\n",
      "              'fsq_id': '543065e3498ece744a874fb3',\n",
      "              'geocodes': {'main': {'latitude': 48.9941,\n",
      "                                    'longitude': -123.818307},\n",
      "                           'roof': {'latitude': 48.9941,\n",
      "                                    'longitude': -123.818307}},\n",
      "              'link': '/v3/places/543065e3498ece744a874fb3',\n",
      "              'location': {'address': '32 High St',\n",
      "                           'address_extended': '# 1',\n",
      "                           'country': 'CA',\n",
      "                           'cross_street': '1st Avenue',\n",
      "                           'formatted_address': '32 High St (1st Avenue), '\n",
      "                                                'Ladysmith BC V9G 1B9',\n",
      "                           'locality': 'Ladysmith',\n",
      "                           'postcode': 'V9G 1B9',\n",
      "                           'region': 'BC'},\n",
      "              'name': \"Mr Popper's Sweet Shoppe\",\n",
      "              'related_places': {},\n",
      "              'timezone': 'America/Vancouver'},\n",
      "             {'categories': [{'icon': {'prefix': 'https://ss3.4sqi.net/img/categories_v2/shops/salon_barber_',\n",
      "                                       'suffix': '.png'},\n",
      "                              'id': 11064,\n",
      "                              'name': 'Hair Salon'}],\n",
      "              'chains': [],\n",
      "              'distance': 27,\n",
      "              'fsq_id': '4e3dac44fa76455375bbb10f',\n",
      "              'geocodes': {'main': {'latitude': 48.994092,\n",
      "                                    'longitude': -123.817823},\n",
      "                           'roof': {'latitude': 48.994092,\n",
      "                                    'longitude': -123.817823}},\n",
      "              'link': '/v3/places/4e3dac44fa76455375bbb10f',\n",
      "              'location': {'address': '23 High St',\n",
      "                           'country': 'CA',\n",
      "                           'cross_street': '',\n",
      "                           'formatted_address': '23 High St, Ladysmith BC V9G '\n",
      "                                                '1B9',\n",
      "                           'locality': 'Ladysmith',\n",
      "                           'postcode': 'V9G 1B9',\n",
      "                           'region': 'BC'},\n",
      "              'name': 'High Street Hair',\n",
      "              'related_places': {},\n",
      "              'timezone': 'America/Vancouver'},\n",
      "             {'categories': [{'icon': {'prefix': 'https://ss3.4sqi.net/img/categories_v2/food/default_',\n",
      "                                       'suffix': '.png'},\n",
      "                              'id': 13027,\n",
      "                              'name': 'Bistro'}],\n",
      "              'chains': [],\n",
      "              'distance': 46,\n",
      "              'fsq_id': '54f76dad498eb5962e5eb57f',\n",
      "              'geocodes': {'main': {'latitude': 48.993772,\n",
      "                                    'longitude': -123.817874},\n",
      "                           'roof': {'latitude': 48.993772,\n",
      "                                    'longitude': -123.817874}},\n",
      "              'link': '/v3/places/54f76dad498eb5962e5eb57f',\n",
      "              'location': {'address': '541 1st Ave',\n",
      "                           'country': 'CA',\n",
      "                           'cross_street': '',\n",
      "                           'formatted_address': '541 1st Ave, Ladysmith BC V9G '\n",
      "                                                '1B9',\n",
      "                           'locality': 'Ladysmith',\n",
      "                           'neighborhood': ['Ladysmith'],\n",
      "                           'postcode': 'V9G 1B9',\n",
      "                           'region': 'BC'},\n",
      "              'name': 'Wild Poppy Bistro',\n",
      "              'related_places': {},\n",
      "              'timezone': 'America/Vancouver'},\n",
      "             {'categories': [{'icon': {'prefix': 'https://ss3.4sqi.net/img/categories_v2/nightlife/pub_',\n",
      "                                       'suffix': '.png'},\n",
      "                              'id': 13003,\n",
      "                              'name': 'Bar'},\n",
      "                             {'icon': {'prefix': 'https://ss3.4sqi.net/img/categories_v2/food/diner_',\n",
      "                                       'suffix': '.png'},\n",
      "                              'id': 13049,\n",
      "                              'name': 'Diner'},\n",
      "                             {'icon': {'prefix': 'https://ss3.4sqi.net/img/categories_v2/food/asian_',\n",
      "                                       'suffix': '.png'},\n",
      "                              'id': 13072,\n",
      "                              'name': 'Asian Restaurant'}],\n",
      "              'chains': [],\n",
      "              'distance': 46,\n",
      "              'fsq_id': '4bf5888d4d5f20a18a9897fe',\n",
      "              'geocodes': {'main': {'latitude': 48.993702,\n",
      "                                    'longitude': -123.81827},\n",
      "                           'roof': {'latitude': 48.993702,\n",
      "                                    'longitude': -123.81827}},\n",
      "              'link': '/v3/places/4bf5888d4d5f20a18a9897fe',\n",
      "              'location': {'address': '534 1st Ave',\n",
      "                           'country': 'CA',\n",
      "                           'formatted_address': '534 1st Ave, Ladysmith BC',\n",
      "                           'locality': 'Ladysmith',\n",
      "                           'region': 'BC'},\n",
      "              'name': 'Appetit',\n",
      "              'related_places': {},\n",
      "              'timezone': 'America/Vancouver'},\n",
      "             {'categories': [{'icon': {'prefix': 'https://ss3.4sqi.net/img/categories_v2/shops/food_gourmet_',\n",
      "                                       'suffix': '.png'},\n",
      "                              'id': 17068,\n",
      "                              'name': 'Gourmet Store'},\n",
      "                             {'icon': {'prefix': 'https://ss3.4sqi.net/img/categories_v2/shops/food_grocery_',\n",
      "                                       'suffix': '.png'},\n",
      "                              'id': 17069,\n",
      "                              'name': 'Grocery Store / Supermarket'}],\n",
      "              'chains': [],\n",
      "              'distance': 50,\n",
      "              'fsq_id': '4d7bf986e04d6ea8c4ccf2d5',\n",
      "              'geocodes': {'main': {'latitude': 48.993374,\n",
      "                                    'longitude': -123.817837},\n",
      "                           'roof': {'latitude': 48.993374,\n",
      "                                    'longitude': -123.817837}},\n",
      "              'link': '/v3/places/4d7bf986e04d6ea8c4ccf2d5',\n",
      "              'location': {'address': '524 1st Ave',\n",
      "                           'country': 'CA',\n",
      "                           'cross_street': '',\n",
      "                           'formatted_address': '524 1st Ave, Ladysmith BC V9G '\n",
      "                                                '1A9',\n",
      "                           'locality': 'Ladysmith',\n",
      "                           'postcode': 'V9G 1A9',\n",
      "                           'region': 'BC'},\n",
      "              'name': 'The Worldly Gourmet Kitchen Store',\n",
      "              'related_places': {},\n",
      "              'timezone': 'America/Vancouver'},\n",
      "             {'categories': [{'icon': {'prefix': 'https://ss3.4sqi.net/img/categories_v2/shops/bookstore_',\n",
      "                                       'suffix': '.png'},\n",
      "                              'id': 17018,\n",
      "                              'name': 'Bookstore'}],\n",
      "              'chains': [],\n",
      "              'distance': 54,\n",
      "              'fsq_id': '4eac571d991107f63cfa5fb6',\n",
      "              'geocodes': {'main': {'latitude': 48.993751,\n",
      "                                    'longitude': -123.817791},\n",
      "                           'roof': {'latitude': 48.993751,\n",
      "                                    'longitude': -123.817791}},\n",
      "              'link': '/v3/places/4eac571d991107f63cfa5fb6',\n",
      "              'location': {'address': '535 1 St Ave',\n",
      "                           'country': 'CA',\n",
      "                           'cross_street': '',\n",
      "                           'formatted_address': '535 1 St Ave, Ladysmith BC '\n",
      "                                                'V9G 1B9',\n",
      "                           'locality': 'Ladysmith',\n",
      "                           'postcode': 'V9G 1B9',\n",
      "                           'region': 'BC'},\n",
      "              'name': 'Salamander Books',\n",
      "              'related_places': {},\n",
      "              'timezone': 'America/Vancouver'},\n",
      "             {'categories': [{'icon': {'prefix': 'https://ss3.4sqi.net/img/categories_v2/nightlife/pub_',\n",
      "                                       'suffix': '.png'},\n",
      "                              'id': 13018,\n",
      "                              'name': 'Pub'},\n",
      "                             {'icon': {'prefix': 'https://ss3.4sqi.net/img/categories_v2/food/default_',\n",
      "                                       'suffix': '.png'},\n",
      "                              'id': 13065,\n",
      "                              'name': 'Restaurant'}],\n",
      "              'chains': [],\n",
      "              'distance': 64,\n",
      "              'fsq_id': '54c5681f498e215fadd58370',\n",
      "              'geocodes': {'main': {'latitude': 48.994294,\n",
      "                                    'longitude': -123.81752},\n",
      "                           'roof': {'latitude': 48.994294,\n",
      "                                    'longitude': -123.81752}},\n",
      "              'link': '/v3/places/54c5681f498e215fadd58370',\n",
      "              'location': {'address': '11 High St',\n",
      "                           'country': 'CA',\n",
      "                           'cross_street': '',\n",
      "                           'formatted_address': '11 High St, Ladysmith BC V9G '\n",
      "                                                '1A4',\n",
      "                           'locality': 'Ladysmith',\n",
      "                           'neighborhood': ['Ladysmith'],\n",
      "                           'postcode': 'V9G 1A4',\n",
      "                           'region': 'BC'},\n",
      "              'name': 'Fox & Hound',\n",
      "              'related_places': {},\n",
      "              'timezone': 'America/Vancouver'}]}\n"
     ]
    }
   ],
   "source": [
    "# Pretty print to view the response more easily\n",
    "\n",
    "pprint(FS_response)"
   ]
  },
  {
   "cell_type": "code",
   "execution_count": 77,
   "metadata": {
    "tags": []
   },
   "outputs": [
    {
     "data": {
      "application/json": {
       "context": {
        "geo_bounds": {
         "circle": {
          "center": {
           "latitude": 48.99400256898083,
           "longitude": -123.81788919678714
          },
          "radius": 1000
         }
        }
       },
       "results": [
        {
         "categories": [
          {
           "icon": {
            "prefix": "https://ss3.4sqi.net/img/categories_v2/food/bakery_",
            "suffix": ".png"
           },
           "id": 13002,
           "name": "Bakery"
          },
          {
           "icon": {
            "prefix": "https://ss3.4sqi.net/img/categories_v2/food/default_",
            "suffix": ".png"
           },
           "id": 13065,
           "name": "Restaurant"
          }
         ],
         "chains": [],
         "distance": 77,
         "fsq_id": "4b9f8746f964a520112937e3",
         "geocodes": {
          "main": {
           "latitude": 48.993297,
           "longitude": -123.817749
          },
          "roof": {
           "latitude": 48.993297,
           "longitude": -123.817749
          }
         },
         "link": "/v3/places/4b9f8746f964a520112937e3",
         "location": {
          "address": "510 1st Ave",
          "country": "CA",
          "cross_street": "",
          "formatted_address": "510 1st Ave, Ladysmith BC V9G 1R3",
          "locality": "Ladysmith",
          "neighborhood": [
           "Cedar"
          ],
          "postcode": "V9G 1R3",
          "region": "BC"
         },
         "name": "Old Town Bakery",
         "related_places": {},
         "timezone": "America/Vancouver"
        },
        {
         "categories": [
          {
           "icon": {
            "prefix": "https://ss3.4sqi.net/img/categories_v2/food/cafe_",
            "suffix": ".png"
           },
           "id": 13034,
           "name": "Café"
          },
          {
           "icon": {
            "prefix": "https://ss3.4sqi.net/img/categories_v2/food/diner_",
            "suffix": ".png"
           },
           "id": 13049,
           "name": "Diner"
          }
         ],
         "chains": [],
         "distance": 42,
         "fsq_id": "4d5dd55d5b276dcb151ef2c5",
         "geocodes": {
          "main": {
           "latitude": 48.994468,
           "longitude": -123.817778
          },
          "roof": {
           "latitude": 48.994468,
           "longitude": -123.817778
          }
         },
         "link": "/v3/places/4d5dd55d5b276dcb151ef2c5",
         "location": {
          "address": "18 High St",
          "country": "CA",
          "cross_street": "",
          "formatted_address": "18 High St, Ladysmith BC V9G 1B9",
          "locality": "Ladysmith",
          "neighborhood": [
           "Cedar"
          ],
          "postcode": "V9G 1B9",
          "region": "BC"
         },
         "name": "In the Bean Time",
         "related_places": {},
         "timezone": "America/Vancouver"
        },
        {
         "categories": [
          {
           "icon": {
            "prefix": "https://ss3.4sqi.net/img/categories_v2/shops/financial_",
            "suffix": ".png"
           },
           "id": 11045,
           "name": "Bank"
          }
         ],
         "chains": [
          {
           "id": "d51a09f0-d890-0132-61d3-7a163eb2a6fc",
           "name": "RBC Royal Bank"
          }
         ],
         "distance": 13,
         "fsq_id": "4caf56ad1463a143dbbc93a9",
         "geocodes": {
          "main": {
           "latitude": 48.993577,
           "longitude": -123.817534
          },
          "roof": {
           "latitude": 48.993577,
           "longitude": -123.817534
          }
         },
         "link": "/v3/places/4caf56ad1463a143dbbc93a9",
         "location": {
          "address": "527 1 St Ave",
          "country": "CA",
          "cross_street": "",
          "formatted_address": "527 1 St Ave, Ladysmith BC V9G 1A7",
          "locality": "Ladysmith",
          "po_box": "PO Box 1060",
          "postcode": "V9G 1A7",
          "region": "BC"
         },
         "name": "RBC Royal Bank",
         "related_places": {},
         "timezone": "America/Vancouver"
        },
        {
         "categories": [
          {
           "icon": {
            "prefix": "https://ss3.4sqi.net/img/categories_v2/shops/candystore_",
            "suffix": ".png"
           },
           "id": 17060,
           "name": "Candy Store"
          }
         ],
         "chains": [],
         "distance": 23,
         "fsq_id": "543065e3498ece744a874fb3",
         "geocodes": {
          "main": {
           "latitude": 48.9941,
           "longitude": -123.818307
          },
          "roof": {
           "latitude": 48.9941,
           "longitude": -123.818307
          }
         },
         "link": "/v3/places/543065e3498ece744a874fb3",
         "location": {
          "address": "32 High St",
          "address_extended": "# 1",
          "country": "CA",
          "cross_street": "1st Avenue",
          "formatted_address": "32 High St (1st Avenue), Ladysmith BC V9G 1B9",
          "locality": "Ladysmith",
          "postcode": "V9G 1B9",
          "region": "BC"
         },
         "name": "Mr Popper's Sweet Shoppe",
         "related_places": {},
         "timezone": "America/Vancouver"
        },
        {
         "categories": [
          {
           "icon": {
            "prefix": "https://ss3.4sqi.net/img/categories_v2/shops/salon_barber_",
            "suffix": ".png"
           },
           "id": 11064,
           "name": "Hair Salon"
          }
         ],
         "chains": [],
         "distance": 27,
         "fsq_id": "4e3dac44fa76455375bbb10f",
         "geocodes": {
          "main": {
           "latitude": 48.994092,
           "longitude": -123.817823
          },
          "roof": {
           "latitude": 48.994092,
           "longitude": -123.817823
          }
         },
         "link": "/v3/places/4e3dac44fa76455375bbb10f",
         "location": {
          "address": "23 High St",
          "country": "CA",
          "cross_street": "",
          "formatted_address": "23 High St, Ladysmith BC V9G 1B9",
          "locality": "Ladysmith",
          "postcode": "V9G 1B9",
          "region": "BC"
         },
         "name": "High Street Hair",
         "related_places": {},
         "timezone": "America/Vancouver"
        },
        {
         "categories": [
          {
           "icon": {
            "prefix": "https://ss3.4sqi.net/img/categories_v2/food/default_",
            "suffix": ".png"
           },
           "id": 13027,
           "name": "Bistro"
          }
         ],
         "chains": [],
         "distance": 46,
         "fsq_id": "54f76dad498eb5962e5eb57f",
         "geocodes": {
          "main": {
           "latitude": 48.993772,
           "longitude": -123.817874
          },
          "roof": {
           "latitude": 48.993772,
           "longitude": -123.817874
          }
         },
         "link": "/v3/places/54f76dad498eb5962e5eb57f",
         "location": {
          "address": "541 1st Ave",
          "country": "CA",
          "cross_street": "",
          "formatted_address": "541 1st Ave, Ladysmith BC V9G 1B9",
          "locality": "Ladysmith",
          "neighborhood": [
           "Ladysmith"
          ],
          "postcode": "V9G 1B9",
          "region": "BC"
         },
         "name": "Wild Poppy Bistro",
         "related_places": {},
         "timezone": "America/Vancouver"
        },
        {
         "categories": [
          {
           "icon": {
            "prefix": "https://ss3.4sqi.net/img/categories_v2/nightlife/pub_",
            "suffix": ".png"
           },
           "id": 13003,
           "name": "Bar"
          },
          {
           "icon": {
            "prefix": "https://ss3.4sqi.net/img/categories_v2/food/diner_",
            "suffix": ".png"
           },
           "id": 13049,
           "name": "Diner"
          },
          {
           "icon": {
            "prefix": "https://ss3.4sqi.net/img/categories_v2/food/asian_",
            "suffix": ".png"
           },
           "id": 13072,
           "name": "Asian Restaurant"
          }
         ],
         "chains": [],
         "distance": 46,
         "fsq_id": "4bf5888d4d5f20a18a9897fe",
         "geocodes": {
          "main": {
           "latitude": 48.993702,
           "longitude": -123.81827
          },
          "roof": {
           "latitude": 48.993702,
           "longitude": -123.81827
          }
         },
         "link": "/v3/places/4bf5888d4d5f20a18a9897fe",
         "location": {
          "address": "534 1st Ave",
          "country": "CA",
          "formatted_address": "534 1st Ave, Ladysmith BC",
          "locality": "Ladysmith",
          "region": "BC"
         },
         "name": "Appetit",
         "related_places": {},
         "timezone": "America/Vancouver"
        },
        {
         "categories": [
          {
           "icon": {
            "prefix": "https://ss3.4sqi.net/img/categories_v2/shops/food_gourmet_",
            "suffix": ".png"
           },
           "id": 17068,
           "name": "Gourmet Store"
          },
          {
           "icon": {
            "prefix": "https://ss3.4sqi.net/img/categories_v2/shops/food_grocery_",
            "suffix": ".png"
           },
           "id": 17069,
           "name": "Grocery Store / Supermarket"
          }
         ],
         "chains": [],
         "distance": 50,
         "fsq_id": "4d7bf986e04d6ea8c4ccf2d5",
         "geocodes": {
          "main": {
           "latitude": 48.993374,
           "longitude": -123.817837
          },
          "roof": {
           "latitude": 48.993374,
           "longitude": -123.817837
          }
         },
         "link": "/v3/places/4d7bf986e04d6ea8c4ccf2d5",
         "location": {
          "address": "524 1st Ave",
          "country": "CA",
          "cross_street": "",
          "formatted_address": "524 1st Ave, Ladysmith BC V9G 1A9",
          "locality": "Ladysmith",
          "postcode": "V9G 1A9",
          "region": "BC"
         },
         "name": "The Worldly Gourmet Kitchen Store",
         "related_places": {},
         "timezone": "America/Vancouver"
        },
        {
         "categories": [
          {
           "icon": {
            "prefix": "https://ss3.4sqi.net/img/categories_v2/shops/bookstore_",
            "suffix": ".png"
           },
           "id": 17018,
           "name": "Bookstore"
          }
         ],
         "chains": [],
         "distance": 54,
         "fsq_id": "4eac571d991107f63cfa5fb6",
         "geocodes": {
          "main": {
           "latitude": 48.993751,
           "longitude": -123.817791
          },
          "roof": {
           "latitude": 48.993751,
           "longitude": -123.817791
          }
         },
         "link": "/v3/places/4eac571d991107f63cfa5fb6",
         "location": {
          "address": "535 1 St Ave",
          "country": "CA",
          "cross_street": "",
          "formatted_address": "535 1 St Ave, Ladysmith BC V9G 1B9",
          "locality": "Ladysmith",
          "postcode": "V9G 1B9",
          "region": "BC"
         },
         "name": "Salamander Books",
         "related_places": {},
         "timezone": "America/Vancouver"
        },
        {
         "categories": [
          {
           "icon": {
            "prefix": "https://ss3.4sqi.net/img/categories_v2/nightlife/pub_",
            "suffix": ".png"
           },
           "id": 13018,
           "name": "Pub"
          },
          {
           "icon": {
            "prefix": "https://ss3.4sqi.net/img/categories_v2/food/default_",
            "suffix": ".png"
           },
           "id": 13065,
           "name": "Restaurant"
          }
         ],
         "chains": [],
         "distance": 64,
         "fsq_id": "54c5681f498e215fadd58370",
         "geocodes": {
          "main": {
           "latitude": 48.994294,
           "longitude": -123.81752
          },
          "roof": {
           "latitude": 48.994294,
           "longitude": -123.81752
          }
         },
         "link": "/v3/places/54c5681f498e215fadd58370",
         "location": {
          "address": "11 High St",
          "country": "CA",
          "cross_street": "",
          "formatted_address": "11 High St, Ladysmith BC V9G 1A4",
          "locality": "Ladysmith",
          "neighborhood": [
           "Ladysmith"
          ],
          "postcode": "V9G 1A4",
          "region": "BC"
         },
         "name": "Fox & Hound",
         "related_places": {},
         "timezone": "America/Vancouver"
        }
       ]
      },
      "text/plain": [
       "<IPython.core.display.JSON object>"
      ]
     },
     "execution_count": 77,
     "metadata": {
      "application/json": {
       "expanded": false,
       "root": "root"
      }
     },
     "output_type": "execute_result"
    }
   ],
   "source": [
    "# Use JSON to get a different view of the response\n",
    "\n",
    "JSON(FS_response)"
   ]
  },
  {
   "cell_type": "code",
   "execution_count": 49,
   "metadata": {},
   "outputs": [
    {
     "data": {
      "text/plain": [
       "'Old Town Bakery'"
      ]
     },
     "execution_count": 49,
     "metadata": {},
     "output_type": "execute_result"
    }
   ],
   "source": [
    "# Access the name of the first POI\n",
    "\n",
    "FS_response['results'][0]['name']"
   ]
  },
  {
   "cell_type": "code",
   "execution_count": 50,
   "metadata": {},
   "outputs": [
    {
     "name": "stdout",
     "output_type": "stream",
     "text": [
      "['Old Town Bakery', 'In the Bean Time', 'RBC Royal Bank', \"Mr Popper's Sweet Shoppe\", 'High Street Hair', 'Wild Poppy Bistro', 'Appetit', 'The Worldly Gourmet Kitchen Store', 'Salamander Books', 'Fox & Hound']\n"
     ]
    }
   ],
   "source": [
    "# identify all the points of interest returned by the Foursquare API within a 1000 m radius of the Wild Poppy\n",
    "\n",
    "FS_POI = []\n",
    "\n",
    "for item in FS_response['results']:\n",
    "    FS_POI.append(item['name'])\n",
    "    \n",
    "print(FS_POI)"
   ]
  },
  {
   "cell_type": "markdown",
   "metadata": {
    "tags": []
   },
   "source": [
    "Put your parsed results into a DataFrame"
   ]
  },
  {
   "cell_type": "code",
   "execution_count": 51,
   "metadata": {},
   "outputs": [
    {
     "data": {
      "text/html": [
       "<div>\n",
       "<style scoped>\n",
       "    .dataframe tbody tr th:only-of-type {\n",
       "        vertical-align: middle;\n",
       "    }\n",
       "\n",
       "    .dataframe tbody tr th {\n",
       "        vertical-align: top;\n",
       "    }\n",
       "\n",
       "    .dataframe thead th {\n",
       "        text-align: right;\n",
       "    }\n",
       "</style>\n",
       "<table border=\"1\" class=\"dataframe\">\n",
       "  <thead>\n",
       "    <tr style=\"text-align: right;\">\n",
       "      <th></th>\n",
       "      <th>results</th>\n",
       "      <th>context.geo_bounds.circle.center.latitude</th>\n",
       "      <th>context.geo_bounds.circle.center.longitude</th>\n",
       "      <th>context.geo_bounds.circle.radius</th>\n",
       "    </tr>\n",
       "  </thead>\n",
       "  <tbody>\n",
       "    <tr>\n",
       "      <th>0</th>\n",
       "      <td>[{'fsq_id': '4b9f8746f964a520112937e3', 'categ...</td>\n",
       "      <td>48.994003</td>\n",
       "      <td>-123.817889</td>\n",
       "      <td>1000</td>\n",
       "    </tr>\n",
       "  </tbody>\n",
       "</table>\n",
       "</div>"
      ],
      "text/plain": [
       "                                             results  \\\n",
       "0  [{'fsq_id': '4b9f8746f964a520112937e3', 'categ...   \n",
       "\n",
       "   context.geo_bounds.circle.center.latitude  \\\n",
       "0                                  48.994003   \n",
       "\n",
       "   context.geo_bounds.circle.center.longitude  \\\n",
       "0                                 -123.817889   \n",
       "\n",
       "   context.geo_bounds.circle.radius  \n",
       "0                              1000  "
      ]
     },
     "execution_count": 51,
     "metadata": {},
     "output_type": "execute_result"
    }
   ],
   "source": [
    "# try to put the whole parsed response into a dataframe\n",
    "\n",
    "pd.json_normalize(FS_response)"
   ]
  },
  {
   "cell_type": "code",
   "execution_count": 356,
   "metadata": {},
   "outputs": [
    {
     "data": {
      "text/html": [
       "<div>\n",
       "<style scoped>\n",
       "    .dataframe tbody tr th:only-of-type {\n",
       "        vertical-align: middle;\n",
       "    }\n",
       "\n",
       "    .dataframe tbody tr th {\n",
       "        vertical-align: top;\n",
       "    }\n",
       "\n",
       "    .dataframe thead th {\n",
       "        text-align: right;\n",
       "    }\n",
       "</style>\n",
       "<table border=\"1\" class=\"dataframe\">\n",
       "  <thead>\n",
       "    <tr style=\"text-align: right;\">\n",
       "      <th></th>\n",
       "      <th>fsq_id</th>\n",
       "      <th>categories</th>\n",
       "      <th>chains</th>\n",
       "      <th>distance</th>\n",
       "      <th>link</th>\n",
       "      <th>name</th>\n",
       "      <th>timezone</th>\n",
       "      <th>geocodes.main.latitude</th>\n",
       "      <th>geocodes.main.longitude</th>\n",
       "      <th>geocodes.roof.latitude</th>\n",
       "      <th>...</th>\n",
       "      <th>location.address</th>\n",
       "      <th>location.country</th>\n",
       "      <th>location.cross_street</th>\n",
       "      <th>location.formatted_address</th>\n",
       "      <th>location.locality</th>\n",
       "      <th>location.neighborhood</th>\n",
       "      <th>location.postcode</th>\n",
       "      <th>location.region</th>\n",
       "      <th>location.po_box</th>\n",
       "      <th>location.address_extended</th>\n",
       "    </tr>\n",
       "  </thead>\n",
       "  <tbody>\n",
       "    <tr>\n",
       "      <th>0</th>\n",
       "      <td>4b9f8746f964a520112937e3</td>\n",
       "      <td>[{'id': 13002, 'name': 'Bakery', 'icon': {'pre...</td>\n",
       "      <td>[]</td>\n",
       "      <td>77</td>\n",
       "      <td>/v3/places/4b9f8746f964a520112937e3</td>\n",
       "      <td>Old Town Bakery</td>\n",
       "      <td>America/Vancouver</td>\n",
       "      <td>48.993297</td>\n",
       "      <td>-123.817749</td>\n",
       "      <td>48.993297</td>\n",
       "      <td>...</td>\n",
       "      <td>510 1st Ave</td>\n",
       "      <td>CA</td>\n",
       "      <td></td>\n",
       "      <td>510 1st Ave, Ladysmith BC V9G 1R3</td>\n",
       "      <td>Ladysmith</td>\n",
       "      <td>[Cedar]</td>\n",
       "      <td>V9G 1R3</td>\n",
       "      <td>BC</td>\n",
       "      <td>NaN</td>\n",
       "      <td>NaN</td>\n",
       "    </tr>\n",
       "    <tr>\n",
       "      <th>1</th>\n",
       "      <td>4d5dd55d5b276dcb151ef2c5</td>\n",
       "      <td>[{'id': 13034, 'name': 'Café', 'icon': {'prefi...</td>\n",
       "      <td>[]</td>\n",
       "      <td>42</td>\n",
       "      <td>/v3/places/4d5dd55d5b276dcb151ef2c5</td>\n",
       "      <td>In the Bean Time</td>\n",
       "      <td>America/Vancouver</td>\n",
       "      <td>48.994468</td>\n",
       "      <td>-123.817778</td>\n",
       "      <td>48.994468</td>\n",
       "      <td>...</td>\n",
       "      <td>18 High St</td>\n",
       "      <td>CA</td>\n",
       "      <td></td>\n",
       "      <td>18 High St, Ladysmith BC V9G 1B9</td>\n",
       "      <td>Ladysmith</td>\n",
       "      <td>[Cedar]</td>\n",
       "      <td>V9G 1B9</td>\n",
       "      <td>BC</td>\n",
       "      <td>NaN</td>\n",
       "      <td>NaN</td>\n",
       "    </tr>\n",
       "    <tr>\n",
       "      <th>2</th>\n",
       "      <td>4caf56ad1463a143dbbc93a9</td>\n",
       "      <td>[{'id': 11045, 'name': 'Bank', 'icon': {'prefi...</td>\n",
       "      <td>[{'id': 'd51a09f0-d890-0132-61d3-7a163eb2a6fc'...</td>\n",
       "      <td>13</td>\n",
       "      <td>/v3/places/4caf56ad1463a143dbbc93a9</td>\n",
       "      <td>RBC Royal Bank</td>\n",
       "      <td>America/Vancouver</td>\n",
       "      <td>48.993577</td>\n",
       "      <td>-123.817534</td>\n",
       "      <td>48.993577</td>\n",
       "      <td>...</td>\n",
       "      <td>527 1 St Ave</td>\n",
       "      <td>CA</td>\n",
       "      <td></td>\n",
       "      <td>527 1 St Ave, Ladysmith BC V9G 1A7</td>\n",
       "      <td>Ladysmith</td>\n",
       "      <td>NaN</td>\n",
       "      <td>V9G 1A7</td>\n",
       "      <td>BC</td>\n",
       "      <td>PO Box 1060</td>\n",
       "      <td>NaN</td>\n",
       "    </tr>\n",
       "    <tr>\n",
       "      <th>3</th>\n",
       "      <td>543065e3498ece744a874fb3</td>\n",
       "      <td>[{'id': 17060, 'name': 'Candy Store', 'icon': ...</td>\n",
       "      <td>[]</td>\n",
       "      <td>23</td>\n",
       "      <td>/v3/places/543065e3498ece744a874fb3</td>\n",
       "      <td>Mr Popper's Sweet Shoppe</td>\n",
       "      <td>America/Vancouver</td>\n",
       "      <td>48.994100</td>\n",
       "      <td>-123.818307</td>\n",
       "      <td>48.994100</td>\n",
       "      <td>...</td>\n",
       "      <td>32 High St</td>\n",
       "      <td>CA</td>\n",
       "      <td>1st Avenue</td>\n",
       "      <td>32 High St (1st Avenue), Ladysmith BC V9G 1B9</td>\n",
       "      <td>Ladysmith</td>\n",
       "      <td>NaN</td>\n",
       "      <td>V9G 1B9</td>\n",
       "      <td>BC</td>\n",
       "      <td>NaN</td>\n",
       "      <td># 1</td>\n",
       "    </tr>\n",
       "    <tr>\n",
       "      <th>4</th>\n",
       "      <td>4e3dac44fa76455375bbb10f</td>\n",
       "      <td>[{'id': 11064, 'name': 'Hair Salon', 'icon': {...</td>\n",
       "      <td>[]</td>\n",
       "      <td>27</td>\n",
       "      <td>/v3/places/4e3dac44fa76455375bbb10f</td>\n",
       "      <td>High Street Hair</td>\n",
       "      <td>America/Vancouver</td>\n",
       "      <td>48.994092</td>\n",
       "      <td>-123.817823</td>\n",
       "      <td>48.994092</td>\n",
       "      <td>...</td>\n",
       "      <td>23 High St</td>\n",
       "      <td>CA</td>\n",
       "      <td></td>\n",
       "      <td>23 High St, Ladysmith BC V9G 1B9</td>\n",
       "      <td>Ladysmith</td>\n",
       "      <td>NaN</td>\n",
       "      <td>V9G 1B9</td>\n",
       "      <td>BC</td>\n",
       "      <td>NaN</td>\n",
       "      <td>NaN</td>\n",
       "    </tr>\n",
       "  </tbody>\n",
       "</table>\n",
       "<p>5 rows × 21 columns</p>\n",
       "</div>"
      ],
      "text/plain": [
       "                     fsq_id  \\\n",
       "0  4b9f8746f964a520112937e3   \n",
       "1  4d5dd55d5b276dcb151ef2c5   \n",
       "2  4caf56ad1463a143dbbc93a9   \n",
       "3  543065e3498ece744a874fb3   \n",
       "4  4e3dac44fa76455375bbb10f   \n",
       "\n",
       "                                          categories  \\\n",
       "0  [{'id': 13002, 'name': 'Bakery', 'icon': {'pre...   \n",
       "1  [{'id': 13034, 'name': 'Café', 'icon': {'prefi...   \n",
       "2  [{'id': 11045, 'name': 'Bank', 'icon': {'prefi...   \n",
       "3  [{'id': 17060, 'name': 'Candy Store', 'icon': ...   \n",
       "4  [{'id': 11064, 'name': 'Hair Salon', 'icon': {...   \n",
       "\n",
       "                                              chains  distance  \\\n",
       "0                                                 []        77   \n",
       "1                                                 []        42   \n",
       "2  [{'id': 'd51a09f0-d890-0132-61d3-7a163eb2a6fc'...        13   \n",
       "3                                                 []        23   \n",
       "4                                                 []        27   \n",
       "\n",
       "                                  link                      name  \\\n",
       "0  /v3/places/4b9f8746f964a520112937e3           Old Town Bakery   \n",
       "1  /v3/places/4d5dd55d5b276dcb151ef2c5          In the Bean Time   \n",
       "2  /v3/places/4caf56ad1463a143dbbc93a9            RBC Royal Bank   \n",
       "3  /v3/places/543065e3498ece744a874fb3  Mr Popper's Sweet Shoppe   \n",
       "4  /v3/places/4e3dac44fa76455375bbb10f          High Street Hair   \n",
       "\n",
       "            timezone  geocodes.main.latitude  geocodes.main.longitude  \\\n",
       "0  America/Vancouver               48.993297              -123.817749   \n",
       "1  America/Vancouver               48.994468              -123.817778   \n",
       "2  America/Vancouver               48.993577              -123.817534   \n",
       "3  America/Vancouver               48.994100              -123.818307   \n",
       "4  America/Vancouver               48.994092              -123.817823   \n",
       "\n",
       "   geocodes.roof.latitude  ...  location.address location.country  \\\n",
       "0               48.993297  ...       510 1st Ave               CA   \n",
       "1               48.994468  ...        18 High St               CA   \n",
       "2               48.993577  ...      527 1 St Ave               CA   \n",
       "3               48.994100  ...        32 High St               CA   \n",
       "4               48.994092  ...        23 High St               CA   \n",
       "\n",
       "  location.cross_street                     location.formatted_address  \\\n",
       "0                                    510 1st Ave, Ladysmith BC V9G 1R3   \n",
       "1                                     18 High St, Ladysmith BC V9G 1B9   \n",
       "2                                   527 1 St Ave, Ladysmith BC V9G 1A7   \n",
       "3            1st Avenue  32 High St (1st Avenue), Ladysmith BC V9G 1B9   \n",
       "4                                     23 High St, Ladysmith BC V9G 1B9   \n",
       "\n",
       "  location.locality location.neighborhood location.postcode location.region  \\\n",
       "0         Ladysmith               [Cedar]           V9G 1R3              BC   \n",
       "1         Ladysmith               [Cedar]           V9G 1B9              BC   \n",
       "2         Ladysmith                   NaN           V9G 1A7              BC   \n",
       "3         Ladysmith                   NaN           V9G 1B9              BC   \n",
       "4         Ladysmith                   NaN           V9G 1B9              BC   \n",
       "\n",
       "  location.po_box location.address_extended  \n",
       "0             NaN                       NaN  \n",
       "1             NaN                       NaN  \n",
       "2     PO Box 1060                       NaN  \n",
       "3             NaN                       # 1  \n",
       "4             NaN                       NaN  \n",
       "\n",
       "[5 rows x 21 columns]"
      ]
     },
     "execution_count": 356,
     "metadata": {},
     "output_type": "execute_result"
    }
   ],
   "source": [
    "# not what I want, so access results and put into dataframe\n",
    "\n",
    "Foursquare_df = pd.json_normalize(FS_response, record_path='results')\n",
    "Foursquare_df.head()"
   ]
  },
  {
   "cell_type": "code",
   "execution_count": 357,
   "metadata": {},
   "outputs": [
    {
     "data": {
      "text/plain": [
       "(10, 21)"
      ]
     },
     "execution_count": 357,
     "metadata": {},
     "output_type": "execute_result"
    }
   ],
   "source": [
    "Foursquare_df.shape"
   ]
  },
  {
   "cell_type": "code",
   "execution_count": 358,
   "metadata": {},
   "outputs": [
    {
     "name": "stdout",
     "output_type": "stream",
     "text": [
      "<class 'pandas.core.frame.DataFrame'>\n",
      "RangeIndex: 10 entries, 0 to 9\n",
      "Data columns (total 21 columns):\n",
      " #   Column                      Non-Null Count  Dtype  \n",
      "---  ------                      --------------  -----  \n",
      " 0   fsq_id                      10 non-null     object \n",
      " 1   categories                  10 non-null     object \n",
      " 2   chains                      10 non-null     object \n",
      " 3   distance                    10 non-null     int64  \n",
      " 4   link                        10 non-null     object \n",
      " 5   name                        10 non-null     object \n",
      " 6   timezone                    10 non-null     object \n",
      " 7   geocodes.main.latitude      10 non-null     float64\n",
      " 8   geocodes.main.longitude     10 non-null     float64\n",
      " 9   geocodes.roof.latitude      10 non-null     float64\n",
      " 10  geocodes.roof.longitude     10 non-null     float64\n",
      " 11  location.address            10 non-null     object \n",
      " 12  location.country            10 non-null     object \n",
      " 13  location.cross_street       9 non-null      object \n",
      " 14  location.formatted_address  10 non-null     object \n",
      " 15  location.locality           10 non-null     object \n",
      " 16  location.neighborhood       4 non-null      object \n",
      " 17  location.postcode           9 non-null      object \n",
      " 18  location.region             10 non-null     object \n",
      " 19  location.po_box             1 non-null      object \n",
      " 20  location.address_extended   1 non-null      object \n",
      "dtypes: float64(4), int64(1), object(16)\n",
      "memory usage: 1.8+ KB\n"
     ]
    }
   ],
   "source": [
    "Foursquare_df.info()"
   ]
  },
  {
   "cell_type": "code",
   "execution_count": 359,
   "metadata": {},
   "outputs": [
    {
     "data": {
      "text/html": [
       "<div>\n",
       "<style scoped>\n",
       "    .dataframe tbody tr th:only-of-type {\n",
       "        vertical-align: middle;\n",
       "    }\n",
       "\n",
       "    .dataframe tbody tr th {\n",
       "        vertical-align: top;\n",
       "    }\n",
       "\n",
       "    .dataframe thead th {\n",
       "        text-align: right;\n",
       "    }\n",
       "</style>\n",
       "<table border=\"1\" class=\"dataframe\">\n",
       "  <thead>\n",
       "    <tr style=\"text-align: right;\">\n",
       "      <th></th>\n",
       "      <th>distance</th>\n",
       "      <th>geocodes.main.latitude</th>\n",
       "      <th>geocodes.main.longitude</th>\n",
       "      <th>geocodes.roof.latitude</th>\n",
       "      <th>geocodes.roof.longitude</th>\n",
       "    </tr>\n",
       "  </thead>\n",
       "  <tbody>\n",
       "    <tr>\n",
       "      <th>count</th>\n",
       "      <td>10.000000</td>\n",
       "      <td>10.000000</td>\n",
       "      <td>10.000000</td>\n",
       "      <td>10.000000</td>\n",
       "      <td>10.000000</td>\n",
       "    </tr>\n",
       "    <tr>\n",
       "      <th>mean</th>\n",
       "      <td>44.200000</td>\n",
       "      <td>48.993843</td>\n",
       "      <td>-123.817848</td>\n",
       "      <td>48.993843</td>\n",
       "      <td>-123.817848</td>\n",
       "    </tr>\n",
       "    <tr>\n",
       "      <th>std</th>\n",
       "      <td>19.228451</td>\n",
       "      <td>0.000386</td>\n",
       "      <td>0.000261</td>\n",
       "      <td>0.000386</td>\n",
       "      <td>0.000261</td>\n",
       "    </tr>\n",
       "    <tr>\n",
       "      <th>min</th>\n",
       "      <td>13.000000</td>\n",
       "      <td>48.993297</td>\n",
       "      <td>-123.818307</td>\n",
       "      <td>48.993297</td>\n",
       "      <td>-123.818307</td>\n",
       "    </tr>\n",
       "    <tr>\n",
       "      <th>25%</th>\n",
       "      <td>30.750000</td>\n",
       "      <td>48.993608</td>\n",
       "      <td>-123.817865</td>\n",
       "      <td>48.993608</td>\n",
       "      <td>-123.817865</td>\n",
       "    </tr>\n",
       "    <tr>\n",
       "      <th>50%</th>\n",
       "      <td>46.000000</td>\n",
       "      <td>48.993762</td>\n",
       "      <td>-123.817807</td>\n",
       "      <td>48.993762</td>\n",
       "      <td>-123.817807</td>\n",
       "    </tr>\n",
       "    <tr>\n",
       "      <th>75%</th>\n",
       "      <td>53.000000</td>\n",
       "      <td>48.994098</td>\n",
       "      <td>-123.817756</td>\n",
       "      <td>48.994098</td>\n",
       "      <td>-123.817756</td>\n",
       "    </tr>\n",
       "    <tr>\n",
       "      <th>max</th>\n",
       "      <td>77.000000</td>\n",
       "      <td>48.994468</td>\n",
       "      <td>-123.817520</td>\n",
       "      <td>48.994468</td>\n",
       "      <td>-123.817520</td>\n",
       "    </tr>\n",
       "  </tbody>\n",
       "</table>\n",
       "</div>"
      ],
      "text/plain": [
       "        distance  geocodes.main.latitude  geocodes.main.longitude  \\\n",
       "count  10.000000               10.000000                10.000000   \n",
       "mean   44.200000               48.993843              -123.817848   \n",
       "std    19.228451                0.000386                 0.000261   \n",
       "min    13.000000               48.993297              -123.818307   \n",
       "25%    30.750000               48.993608              -123.817865   \n",
       "50%    46.000000               48.993762              -123.817807   \n",
       "75%    53.000000               48.994098              -123.817756   \n",
       "max    77.000000               48.994468              -123.817520   \n",
       "\n",
       "       geocodes.roof.latitude  geocodes.roof.longitude  \n",
       "count               10.000000                10.000000  \n",
       "mean                48.993843              -123.817848  \n",
       "std                  0.000386                 0.000261  \n",
       "min                 48.993297              -123.818307  \n",
       "25%                 48.993608              -123.817865  \n",
       "50%                 48.993762              -123.817807  \n",
       "75%                 48.994098              -123.817756  \n",
       "max                 48.994468              -123.817520  "
      ]
     },
     "execution_count": 359,
     "metadata": {},
     "output_type": "execute_result"
    }
   ],
   "source": [
    "Foursquare_df.describe()"
   ]
  },
  {
   "cell_type": "code",
   "execution_count": 360,
   "metadata": {},
   "outputs": [
    {
     "data": {
      "text/html": [
       "<div>\n",
       "<style scoped>\n",
       "    .dataframe tbody tr th:only-of-type {\n",
       "        vertical-align: middle;\n",
       "    }\n",
       "\n",
       "    .dataframe tbody tr th {\n",
       "        vertical-align: top;\n",
       "    }\n",
       "\n",
       "    .dataframe thead th {\n",
       "        text-align: right;\n",
       "    }\n",
       "</style>\n",
       "<table border=\"1\" class=\"dataframe\">\n",
       "  <thead>\n",
       "    <tr style=\"text-align: right;\">\n",
       "      <th></th>\n",
       "      <th>name</th>\n",
       "      <th>geocodes.main.latitude</th>\n",
       "      <th>geocodes.main.longitude</th>\n",
       "    </tr>\n",
       "  </thead>\n",
       "  <tbody>\n",
       "    <tr>\n",
       "      <th>0</th>\n",
       "      <td>Old Town Bakery</td>\n",
       "      <td>48.993297</td>\n",
       "      <td>-123.817749</td>\n",
       "    </tr>\n",
       "    <tr>\n",
       "      <th>1</th>\n",
       "      <td>In the Bean Time</td>\n",
       "      <td>48.994468</td>\n",
       "      <td>-123.817778</td>\n",
       "    </tr>\n",
       "    <tr>\n",
       "      <th>2</th>\n",
       "      <td>RBC Royal Bank</td>\n",
       "      <td>48.993577</td>\n",
       "      <td>-123.817534</td>\n",
       "    </tr>\n",
       "    <tr>\n",
       "      <th>3</th>\n",
       "      <td>Mr Popper's Sweet Shoppe</td>\n",
       "      <td>48.994100</td>\n",
       "      <td>-123.818307</td>\n",
       "    </tr>\n",
       "    <tr>\n",
       "      <th>4</th>\n",
       "      <td>High Street Hair</td>\n",
       "      <td>48.994092</td>\n",
       "      <td>-123.817823</td>\n",
       "    </tr>\n",
       "    <tr>\n",
       "      <th>5</th>\n",
       "      <td>Wild Poppy Bistro</td>\n",
       "      <td>48.993772</td>\n",
       "      <td>-123.817874</td>\n",
       "    </tr>\n",
       "    <tr>\n",
       "      <th>6</th>\n",
       "      <td>Appetit</td>\n",
       "      <td>48.993702</td>\n",
       "      <td>-123.818270</td>\n",
       "    </tr>\n",
       "    <tr>\n",
       "      <th>7</th>\n",
       "      <td>The Worldly Gourmet Kitchen Store</td>\n",
       "      <td>48.993374</td>\n",
       "      <td>-123.817837</td>\n",
       "    </tr>\n",
       "    <tr>\n",
       "      <th>8</th>\n",
       "      <td>Salamander Books</td>\n",
       "      <td>48.993751</td>\n",
       "      <td>-123.817791</td>\n",
       "    </tr>\n",
       "    <tr>\n",
       "      <th>9</th>\n",
       "      <td>Fox &amp; Hound</td>\n",
       "      <td>48.994294</td>\n",
       "      <td>-123.817520</td>\n",
       "    </tr>\n",
       "  </tbody>\n",
       "</table>\n",
       "</div>"
      ],
      "text/plain": [
       "                                name  geocodes.main.latitude  \\\n",
       "0                    Old Town Bakery               48.993297   \n",
       "1                   In the Bean Time               48.994468   \n",
       "2                     RBC Royal Bank               48.993577   \n",
       "3           Mr Popper's Sweet Shoppe               48.994100   \n",
       "4                   High Street Hair               48.994092   \n",
       "5                  Wild Poppy Bistro               48.993772   \n",
       "6                            Appetit               48.993702   \n",
       "7  The Worldly Gourmet Kitchen Store               48.993374   \n",
       "8                   Salamander Books               48.993751   \n",
       "9                        Fox & Hound               48.994294   \n",
       "\n",
       "   geocodes.main.longitude  \n",
       "0              -123.817749  \n",
       "1              -123.817778  \n",
       "2              -123.817534  \n",
       "3              -123.818307  \n",
       "4              -123.817823  \n",
       "5              -123.817874  \n",
       "6              -123.818270  \n",
       "7              -123.817837  \n",
       "8              -123.817791  \n",
       "9              -123.817520  "
      ]
     },
     "execution_count": 360,
     "metadata": {},
     "output_type": "execute_result"
    }
   ],
   "source": [
    "# create a separate dataframe for latitudes and longitudes to add to SQL database (didn't end up adding)\n",
    "\n",
    "latlong_df = Foursquare_df[['name','geocodes.main.latitude','geocodes.main.longitude']]\n",
    "latlong_df"
   ]
  },
  {
   "cell_type": "markdown",
   "metadata": {},
   "source": [
    "# Yelp"
   ]
  },
  {
   "cell_type": "markdown",
   "metadata": {},
   "source": [
    "Send a request with the same location paramaters (location, radius, etc)"
   ]
  },
  {
   "cell_type": "code",
   "execution_count": 68,
   "metadata": {},
   "outputs": [],
   "source": [
    "# Send the request through Postman first to try it out, and saved the response to a file."
   ]
  },
  {
   "cell_type": "code",
   "execution_count": 5,
   "metadata": {},
   "outputs": [],
   "source": [
    "# Send the request via Python as well.\n",
    "# Refer to https://www.yelp.com/developers/documentation/v3/authentication to get the API Key, authorization format\n",
    "# Refer to https://www.yelp.com/developers/documentation/v3/business_search to get the url, query parameters\n",
    "\n",
    "# Set the keys (had to close and re-open Jupyterlab after adding the Yelp API to Environment Variables to fix KeyError)\n",
    "yelp_api = 'Bearer '+os.environ[\"YELP_API_KEY\"]\n",
    "\n",
    "# Get the url (copied from url generated by Postman after entering the Wild Poppy latitude and longitude and the search radius of 1000m)\n",
    "url = \"https://api.yelp.com/v3/businesses/search?latitude=48.99400256898083&longitude=-123.81788919678714&radius=1000\"\n",
    "\n",
    "# Get the headers\n",
    "headers = {\n",
    "    \"Accept\": \"application/json\",\n",
    "    \"Authorization\": yelp_api\n",
    "}"
   ]
  },
  {
   "cell_type": "code",
   "execution_count": 6,
   "metadata": {},
   "outputs": [],
   "source": [
    "# Send the request\n",
    "response = requests.get(url, headers=headers)"
   ]
  },
  {
   "cell_type": "code",
   "execution_count": 7,
   "metadata": {
    "collapsed": true,
    "jupyter": {
     "outputs_hidden": true
    },
    "tags": []
   },
   "outputs": [
    {
     "name": "stdout",
     "output_type": "stream",
     "text": [
      "200\n",
      "{\"businesses\": [{\"id\": \"RxVPUMP2slrLGoLO1jNzCw\", \"alias\": \"wild-poppy-market-ladysmith-2\", \"name\": \"Wild Poppy Market\", \"image_url\": \"https://s3-media4.fl.yelpcdn.com/bphoto/2ha-5lVXekJyl3-lBGbZfQ/o.jpg\", \"is_closed\": false, \"url\": \"https://www.yelp.com/biz/wild-poppy-market-ladysmith-2?adjust_creative=jN6KrDw7JW0Ffv2E0PiPDw&utm_campaign=yelp_api_v3&utm_medium=api_v3_business_search&utm_source=jN6KrDw7JW0Ffv2E0PiPDw\", \"review_count\": 31, \"categories\": [{\"alias\": \"bakeries\", \"title\": \"Bakeries\"}, {\"alias\": \"breakfast_brunch\", \"title\": \"Breakfast & Brunch\"}, {\"alias\": \"sandwiches\", \"title\": \"Sandwiches\"}], \"rating\": 4.5, \"coordinates\": {\"latitude\": 48.9939504271219, \"longitude\": -123.818158428481}, \"transactions\": [], \"price\": \"$$\", \"location\": {\"address1\": \"541 1st Avenue\", \"address2\": \"\", \"address3\": \"\", \"city\": \"Ladysmith\", \"zip_code\": \"V9G\", \"country\": \"CA\", \"state\": \"BC\", \"display_address\": [\"541 1st Avenue\", \"Ladysmith, BC V9G\", \"Canada\"]}, \"phone\": \"+12509248696\", \"display_phone\": \"+1 250-924-8696\", \"distance\": 20.48072512998537}, {\"id\": \"NolpyYCEneVkMxOfO66HEQ\", \"alias\": \"old-town-bakery-ladysmith\", \"name\": \"Old Town Bakery\", \"image_url\": \"https://s3-media2.fl.yelpcdn.com/bphoto/juE5xkS2aNgicMrlKnPlww/o.jpg\", \"is_closed\": false, \"url\": \"https://www.yelp.com/biz/old-town-bakery-ladysmith?adjust_creative=jN6KrDw7JW0Ffv2E0PiPDw&utm_campaign=yelp_api_v3&utm_medium=api_v3_business_search&utm_source=jN6KrDw7JW0Ffv2E0PiPDw\", \"review_count\": 33, \"categories\": [{\"alias\": \"bakeries\", \"title\": \"Bakeries\"}], \"rating\": 4.5, \"coordinates\": {\"latitude\": 48.993309, \"longitude\": -123.81764}, \"transactions\": [], \"price\": \"$$\", \"location\": {\"address1\": \"510 1st Avenue\", \"address2\": \"\", \"address3\": \"\", \"city\": \"Ladysmith\", \"zip_code\": \"V9G 1R3\", \"country\": \"CA\", \"state\": \"BC\", \"display_address\": [\"510 1st Avenue\", \"Ladysmith, BC V9G 1R3\", \"Canada\"]}, \"phone\": \"+12502452531\", \"display_phone\": \"+1 250-245-2531\", \"distance\": 79.23540715904649}, {\"id\": \"eKNuWQkubnIGoUZAIFFg8Q\", \"alias\": \"spice-hut-ladysmith-2\", \"name\": \"Spice Hut\", \"image_url\": \"https://s3-media2.fl.yelpcdn.com/bphoto/s2VSqpmUY_2_G2LchCNViQ/o.jpg\", \"is_closed\": false, \"url\": \"https://www.yelp.com/biz/spice-hut-ladysmith-2?adjust_creative=jN6KrDw7JW0Ffv2E0PiPDw&utm_campaign=yelp_api_v3&utm_medium=api_v3_business_search&utm_source=jN6KrDw7JW0Ffv2E0PiPDw\", \"review_count\": 19, \"categories\": [{\"alias\": \"indpak\", \"title\": \"Indian\"}], \"rating\": 4.5, \"coordinates\": {\"latitude\": 48.9941161571685, \"longitude\": -123.816207312047}, \"transactions\": [], \"price\": \"$$\", \"location\": {\"address1\": \"510 Esplanade Avenue\", \"address2\": \"\", \"address3\": \"\", \"city\": \"Ladysmith\", \"zip_code\": \"V9G\", \"country\": \"CA\", \"state\": \"BC\", \"display_address\": [\"510 Esplanade Avenue\", \"Ladysmith, BC V9G\", \"Canada\"]}, \"phone\": \"+12509248222\", \"display_phone\": \"+1 250-924-8222\", \"distance\": 123.35703407631522}, {\"id\": \"5g8G8DnCI-tBnLiUxUEXzA\", \"alias\": \"fox-and-hounds-ladysmith\", \"name\": \"Fox And Hounds\", \"image_url\": \"https://s3-media1.fl.yelpcdn.com/bphoto/XPnymMrLhsYdi-9rDEkG5Q/o.jpg\", \"is_closed\": false, \"url\": \"https://www.yelp.com/biz/fox-and-hounds-ladysmith?adjust_creative=jN6KrDw7JW0Ffv2E0PiPDw&utm_campaign=yelp_api_v3&utm_medium=api_v3_business_search&utm_source=jN6KrDw7JW0Ffv2E0PiPDw\", \"review_count\": 19, \"categories\": [{\"alias\": \"pubs\", \"title\": \"Pubs\"}], \"rating\": 4.0, \"coordinates\": {\"latitude\": 48.9943184444792, \"longitude\": -123.817674063897}, \"transactions\": [], \"price\": \"$$\", \"location\": {\"address1\": \"11 High Street\", \"address2\": \"\", \"address3\": \"\", \"city\": \"Ladysmith\", \"zip_code\": \"V9G\", \"country\": \"CA\", \"state\": \"BC\", \"display_address\": [\"11 High Street\", \"Ladysmith, BC V9G\", \"Canada\"]}, \"phone\": \"+12509241747\", \"display_phone\": \"+1 250-924-1747\", \"distance\": 38.47122715137002}, {\"id\": \"0inqHeKSgGb0ju40sPviSQ\", \"alias\": \"plantitude-ladysmith\", \"name\": \"Plantitude\", \"image_url\": \"https://s3-media2.fl.yelpcdn.com/bphoto/93UFHTDx6btJPrtEoU7RUQ/o.jpg\", \"is_closed\": false, \"url\": \"https://www.yelp.com/biz/plantitude-ladysmith?adjust_creative=jN6KrDw7JW0Ffv2E0PiPDw&utm_campaign=yelp_api_v3&utm_medium=api_v3_business_search&utm_source=jN6KrDw7JW0Ffv2E0PiPDw\", \"review_count\": 7, \"categories\": [{\"alias\": \"vegan\", \"title\": \"Vegan\"}], \"rating\": 5.0, \"coordinates\": {\"latitude\": 48.9929358, \"longitude\": -123.8166295}, \"transactions\": [], \"location\": {\"address1\": \"431 1st Avenue\", \"address2\": \"\", \"address3\": null, \"city\": \"Ladysmith\", \"zip_code\": \"V9G 1A9\", \"country\": \"CA\", \"state\": \"BC\", \"display_address\": [\"431 1st Avenue\", \"Ladysmith, BC V9G 1A9\", \"Canada\"]}, \"phone\": \"+12509241201\", \"display_phone\": \"+1 250-924-1201\", \"distance\": 127.84309880503795}, {\"id\": \"VUVQDZdxlfowVEzhg2RZBA\", \"alias\": \"maya-norte-ladysmith\", \"name\": \"Maya Norte\", \"image_url\": \"https://s3-media3.fl.yelpcdn.com/bphoto/gQUdv51yHSUEgRlIJ9TuMw/o.jpg\", \"is_closed\": false, \"url\": \"https://www.yelp.com/biz/maya-norte-ladysmith?adjust_creative=jN6KrDw7JW0Ffv2E0PiPDw&utm_campaign=yelp_api_v3&utm_medium=api_v3_business_search&utm_source=jN6KrDw7JW0Ffv2E0PiPDw\", \"review_count\": 12, \"categories\": [{\"alias\": \"spanish\", \"title\": \"Spanish\"}, {\"alias\": \"mexican\", \"title\": \"Mexican\"}], \"rating\": 4.5, \"coordinates\": {\"latitude\": 48.9930703318987, \"longitude\": -123.815743603939}, \"transactions\": [], \"location\": {\"address1\": \"18 Roberts Street\", \"address2\": \"\", \"address3\": null, \"city\": \"Ladysmith\", \"zip_code\": \"V9G\", \"country\": \"CA\", \"state\": \"BC\", \"display_address\": [\"18 Roberts Street\", \"Ladysmith, BC V9G\", \"Canada\"]}, \"phone\": \"+12509241300\", \"display_phone\": \"+1 250-924-1300\", \"distance\": 187.7519605358935}, {\"id\": \"aha23kjJcxjH3SwOEbwsZw\", \"alias\": \"appetit-food-for-thought-ladysmith\", \"name\": \"Appetit Food for Thought\", \"image_url\": \"https://s3-media2.fl.yelpcdn.com/bphoto/kX-3oU8_TvOKVwWrcF4Kag/o.jpg\", \"is_closed\": false, \"url\": \"https://www.yelp.com/biz/appetit-food-for-thought-ladysmith?adjust_creative=jN6KrDw7JW0Ffv2E0PiPDw&utm_campaign=yelp_api_v3&utm_medium=api_v3_business_search&utm_source=jN6KrDw7JW0Ffv2E0PiPDw\", \"review_count\": 8, \"categories\": [{\"alias\": \"thai\", \"title\": \"Thai\"}, {\"alias\": \"asianfusion\", \"title\": \"Asian Fusion\"}, {\"alias\": \"breakfast_brunch\", \"title\": \"Breakfast & Brunch\"}], \"rating\": 4.5, \"coordinates\": {\"latitude\": 48.993626, \"longitude\": -123.818188}, \"transactions\": [], \"price\": \"$$\", \"location\": {\"address1\": \"534 1st Avenue\", \"address2\": \"\", \"address3\": \"\", \"city\": \"Ladysmith\", \"zip_code\": \"V9G 1A9\", \"country\": \"CA\", \"state\": \"BC\", \"display_address\": [\"534 1st Avenue\", \"Ladysmith, BC V9G 1A9\", \"Canada\"]}, \"phone\": \"+12509241321\", \"display_phone\": \"+1 250-924-1321\", \"distance\": 47.207727462024785}, {\"id\": \"OcIMOali1mP835ZyXw6glw\", \"alias\": \"in-the-beantime-cafe-ladysmith\", \"name\": \"In the Beantime Cafe\", \"image_url\": \"https://s3-media3.fl.yelpcdn.com/bphoto/FHz-HI9zzsY1SoAQzblLwg/o.jpg\", \"is_closed\": false, \"url\": \"https://www.yelp.com/biz/in-the-beantime-cafe-ladysmith?adjust_creative=jN6KrDw7JW0Ffv2E0PiPDw&utm_campaign=yelp_api_v3&utm_medium=api_v3_business_search&utm_source=jN6KrDw7JW0Ffv2E0PiPDw\", \"review_count\": 13, \"categories\": [{\"alias\": \"coffee\", \"title\": \"Coffee & Tea\"}], \"rating\": 4.0, \"coordinates\": {\"latitude\": 48.9943878, \"longitude\": -123.8179081}, \"transactions\": [], \"price\": \"$$\", \"location\": {\"address1\": \"18 High St\", \"address2\": \"\", \"address3\": \"\", \"city\": \"Ladysmith\", \"zip_code\": \"V9G 1B9\", \"country\": \"CA\", \"state\": \"BC\", \"display_address\": [\"18 High St\", \"Ladysmith, BC V9G 1B9\", \"Canada\"]}, \"phone\": \"+12502452305\", \"display_phone\": \"+1 250-245-2305\", \"distance\": 54.90811566913393}, {\"id\": \"feILkL1CHco70WFkaf65eA\", \"alias\": \"kaede-sushi-and-grill-ladysmith\", \"name\": \"Kaede Sushi & Grill\", \"image_url\": \"https://s3-media2.fl.yelpcdn.com/bphoto/1pwOhF_XkftvAi-lx4Yl2w/o.jpg\", \"is_closed\": false, \"url\": \"https://www.yelp.com/biz/kaede-sushi-and-grill-ladysmith?adjust_creative=jN6KrDw7JW0Ffv2E0PiPDw&utm_campaign=yelp_api_v3&utm_medium=api_v3_business_search&utm_source=jN6KrDw7JW0Ffv2E0PiPDw\", \"review_count\": 7, \"categories\": [{\"alias\": \"japanese\", \"title\": \"Japanese\"}, {\"alias\": \"sushi\", \"title\": \"Sushi Bars\"}], \"rating\": 4.5, \"coordinates\": {\"latitude\": 48.995798, \"longitude\": -123.818781}, \"transactions\": [], \"location\": {\"address1\": \"734 Esplanade Avenue\", \"address2\": \"\", \"address3\": null, \"city\": \"Ladysmith\", \"zip_code\": \"V9G 1A1\", \"country\": \"CA\", \"state\": \"BC\", \"display_address\": [\"734 Esplanade Avenue\", \"Ladysmith, BC V9G 1A1\", \"Canada\"]}, \"phone\": \"+12509241166\", \"display_phone\": \"+1 250-924-1166\", \"distance\": 209.9773660962487}, {\"id\": \"ugImCl4WIJ64h3TGY__etw\", \"alias\": \"oyster-bay-cafe-ladysmith\", \"name\": \"Oyster Bay Cafe\", \"image_url\": \"https://s3-media3.fl.yelpcdn.com/bphoto/_QnRcXm30ul3kkxCfOAgGA/o.jpg\", \"is_closed\": false, \"url\": \"https://www.yelp.com/biz/oyster-bay-cafe-ladysmith?adjust_creative=jN6KrDw7JW0Ffv2E0PiPDw&utm_campaign=yelp_api_v3&utm_medium=api_v3_business_search&utm_source=jN6KrDw7JW0Ffv2E0PiPDw\", \"review_count\": 7, \"categories\": [{\"alias\": \"cafes\", \"title\": \"Cafes\"}], \"rating\": 4.5, \"coordinates\": {\"latitude\": 48.9966565044327, \"longitude\": -123.814637438457}, \"transactions\": [], \"price\": \"$$\", \"location\": {\"address1\": \"611 Oyster Bay Drive\", \"address2\": \"\", \"address3\": \"Ladysmith Maritime Society\", \"city\": \"Ladysmith\", \"zip_code\": \"V9G 1A7\", \"country\": \"CA\", \"state\": \"BC\", \"display_address\": [\"611 Oyster Bay Drive\", \"Ladysmith Maritime Society\", \"Ladysmith, BC V9G 1A7\", \"Canada\"]}, \"phone\": \"+12509242245\", \"display_phone\": \"+1 250-924-2245\", \"distance\": 378.64058577090316}, {\"id\": \"oUNSPM0A2PA2y5MI1lhPcQ\", \"alias\": \"roberts-street-pizza-ladysmith-2\", \"name\": \"Roberts Street Pizza\", \"image_url\": \"https://s3-media3.fl.yelpcdn.com/bphoto/ROF9--eKuhVo9evhD1-9EA/o.jpg\", \"is_closed\": false, \"url\": \"https://www.yelp.com/biz/roberts-street-pizza-ladysmith-2?adjust_creative=jN6KrDw7JW0Ffv2E0PiPDw&utm_campaign=yelp_api_v3&utm_medium=api_v3_business_search&utm_source=jN6KrDw7JW0Ffv2E0PiPDw\", \"review_count\": 14, \"categories\": [{\"alias\": \"pizza\", \"title\": \"Pizza\"}, {\"alias\": \"italian\", \"title\": \"Italian\"}], \"rating\": 3.5, \"coordinates\": {\"latitude\": 48.993136, \"longitude\": -123.8157891}, \"transactions\": [], \"price\": \"$$\", \"location\": {\"address1\": \"20 Roberts Street\", \"address2\": \"\", \"address3\": \"\", \"city\": \"Ladysmith\", \"zip_code\": \"V9G 1A5\", \"country\": \"CA\", \"state\": \"BC\", \"display_address\": [\"20 Roberts Street\", \"Ladysmith, BC V9G 1A5\", \"Canada\"]}, \"phone\": \"+12502451119\", \"display_phone\": \"+1 250-245-1119\", \"distance\": 171.56932454772272}, {\"id\": \"Pa9Hppxq3k0E7VWV9ulTOg\", \"alias\": \"phoenix-restaurant-ladysmith\", \"name\": \"Phoenix Restaurant\", \"image_url\": \"\", \"is_closed\": false, \"url\": \"https://www.yelp.com/biz/phoenix-restaurant-ladysmith?adjust_creative=jN6KrDw7JW0Ffv2E0PiPDw&utm_campaign=yelp_api_v3&utm_medium=api_v3_business_search&utm_source=jN6KrDw7JW0Ffv2E0PiPDw\", \"review_count\": 5, \"categories\": [{\"alias\": \"chinese\", \"title\": \"Chinese\"}], \"rating\": 4.5, \"coordinates\": {\"latitude\": 48.993721, \"longitude\": -123.8193207}, \"transactions\": [], \"price\": \"$$\", \"location\": {\"address1\": \"112 High Street\", \"address2\": \"\", \"address3\": \"\", \"city\": \"Ladysmith\", \"zip_code\": \"V9G 1B3\", \"country\": \"CA\", \"state\": \"BC\", \"display_address\": [\"112 High Street\", \"Ladysmith, BC V9G 1B3\", \"Canada\"]}, \"phone\": \"+12502453263\", \"display_phone\": \"+1 250-245-3263\", \"distance\": 106.34474847609862}, {\"id\": \"mkls2eHS19l_OUOQCulFfA\", \"alias\": \"ironworks-cafe-and-cr\\u00eaperie-ladysmith\", \"name\": \"Ironworks Cafe and Cr\\u00eaperie\", \"image_url\": \"https://s3-media4.fl.yelpcdn.com/bphoto/LPa_y9uHvv0phhkRHtw8pA/o.jpg\", \"is_closed\": false, \"url\": \"https://www.yelp.com/biz/ironworks-cafe-and-cr%C3%AAperie-ladysmith?adjust_creative=jN6KrDw7JW0Ffv2E0PiPDw&utm_campaign=yelp_api_v3&utm_medium=api_v3_business_search&utm_source=jN6KrDw7JW0Ffv2E0PiPDw\", \"review_count\": 8, \"categories\": [{\"alias\": \"creperies\", \"title\": \"Creperies\"}, {\"alias\": \"cafes\", \"title\": \"Cafes\"}], \"rating\": 4.0, \"coordinates\": {\"latitude\": 48.9936235, \"longitude\": -123.8155}, \"transactions\": [], \"location\": {\"address1\": \"422 Esplanade Ave\", \"address2\": \"\", \"address3\": null, \"city\": \"Ladysmith\", \"zip_code\": \"V9G 1A1\", \"country\": \"CA\", \"state\": \"BC\", \"display_address\": [\"422 Esplanade Ave\", \"Ladysmith, BC V9G 1A1\", \"Canada\"]}, \"phone\": \"+12509120064\", \"display_phone\": \"+1 250-912-0064\", \"distance\": 161.3506830239785}, {\"id\": \"hEcrtut7ALoFATM9PWMj-A\", \"alias\": \"zacks-ladysmith\", \"name\": \"Zack's\", \"image_url\": \"https://s3-media3.fl.yelpcdn.com/bphoto/2Czwny3V1OpAhusOKt1yhQ/o.jpg\", \"is_closed\": false, \"url\": \"https://www.yelp.com/biz/zacks-ladysmith?adjust_creative=jN6KrDw7JW0Ffv2E0PiPDw&utm_campaign=yelp_api_v3&utm_medium=api_v3_business_search&utm_source=jN6KrDw7JW0Ffv2E0PiPDw\", \"review_count\": 4, \"categories\": [{\"alias\": \"sandwiches\", \"title\": \"Sandwiches\"}, {\"alias\": \"burgers\", \"title\": \"Burgers\"}, {\"alias\": \"lounges\", \"title\": \"Lounges\"}], \"rating\": 3.5, \"coordinates\": {\"latitude\": 48.9936006, \"longitude\": -123.8181531}, \"transactions\": [], \"location\": {\"address1\": \"530 1 Avenue\", \"address2\": \"\", \"address3\": null, \"city\": \"Ladysmith\", \"zip_code\": \"V9G 1A1\", \"country\": \"CA\", \"state\": \"BC\", \"display_address\": [\"530 1 Avenue\", \"Ladysmith, BC V9G 1A1\", \"Canada\"]}, \"phone\": \"+12502452749\", \"display_phone\": \"+1 250-245-2749\", \"distance\": 49.82979319186197}, {\"id\": \"oVrCK7B_I6oF1FNbaxPhhw\", \"alias\": \"mr-teriyaki-and-miss-sushi-ladysmith\", \"name\": \"Mr. Teriyaki and Miss Sushi\", \"image_url\": \"https://s3-media1.fl.yelpcdn.com/bphoto/etg_nnz8bkHuM6pS1pStKw/o.jpg\", \"is_closed\": false, \"url\": \"https://www.yelp.com/biz/mr-teriyaki-and-miss-sushi-ladysmith?adjust_creative=jN6KrDw7JW0Ffv2E0PiPDw&utm_campaign=yelp_api_v3&utm_medium=api_v3_business_search&utm_source=jN6KrDw7JW0Ffv2E0PiPDw\", \"review_count\": 7, \"categories\": [{\"alias\": \"sushi\", \"title\": \"Sushi Bars\"}, {\"alias\": \"japanese\", \"title\": \"Japanese\"}], \"rating\": 4.0, \"coordinates\": {\"latitude\": 48.9955632, \"longitude\": -123.8205715}, \"transactions\": [], \"price\": \"$\", \"location\": {\"address1\": \"821 1st Avenue\", \"address2\": \"\", \"address3\": \"\", \"city\": \"Ladysmith\", \"zip_code\": \"V9G 1A4\", \"country\": \"CA\", \"state\": \"BC\", \"display_address\": [\"821 1st Avenue\", \"Ladysmith, BC V9G 1A4\", \"Canada\"]}, \"phone\": \"+12509242221\", \"display_phone\": \"+1 250-924-2221\", \"distance\": 261.5545551063349}, {\"id\": \"O5_a1JHqfQU7rcDM-TmVdQ\", \"alias\": \"tim-hortons-ladysmith\", \"name\": \"Tim Hortons\", \"image_url\": \"https://s3-media4.fl.yelpcdn.com/bphoto/8vpfkqeGrHY9x8iBN2sRTA/o.jpg\", \"is_closed\": false, \"url\": \"https://www.yelp.com/biz/tim-hortons-ladysmith?adjust_creative=jN6KrDw7JW0Ffv2E0PiPDw&utm_campaign=yelp_api_v3&utm_medium=api_v3_business_search&utm_source=jN6KrDw7JW0Ffv2E0PiPDw\", \"review_count\": 3, \"categories\": [{\"alias\": \"coffee\", \"title\": \"Coffee & Tea\"}], \"rating\": 3.5, \"coordinates\": {\"latitude\": 48.9976807, \"longitude\": -123.8236618}, \"transactions\": [], \"location\": {\"address1\": \"1115A 1st Avenue\", \"address2\": \"\", \"address3\": \"\", \"city\": \"Ladysmith\", \"zip_code\": \"V9G 1A4\", \"country\": \"CA\", \"state\": \"BC\", \"display_address\": [\"1115A 1st Avenue\", \"Ladysmith, BC V9G 1A4\", \"Canada\"]}, \"phone\": \"+12502452303\", \"display_phone\": \"+1 250-245-2303\", \"distance\": 611.4220597929603}, {\"id\": \"WWM0wvMvzI1vXb0b-2LdWQ\", \"alias\": \"the-wigwam-restaurant-ladysmith\", \"name\": \"The Wigwam Restaurant\", \"image_url\": \"https://s3-media2.fl.yelpcdn.com/bphoto/PPsK2yj_rJ_aAKw86vnFWQ/o.jpg\", \"is_closed\": false, \"url\": \"https://www.yelp.com/biz/the-wigwam-restaurant-ladysmith?adjust_creative=jN6KrDw7JW0Ffv2E0PiPDw&utm_campaign=yelp_api_v3&utm_medium=api_v3_business_search&utm_source=jN6KrDw7JW0Ffv2E0PiPDw\", \"review_count\": 2, \"categories\": [{\"alias\": \"vietnamese\", \"title\": \"Vietnamese\"}, {\"alias\": \"chinese\", \"title\": \"Chinese\"}, {\"alias\": \"vegetarian\", \"title\": \"Vegetarian\"}], \"rating\": 1.5, \"coordinates\": {\"latitude\": 48.9931583703582, \"longitude\": -123.817536899779}, \"transactions\": [], \"location\": {\"address1\": \"438 1st Avenue\", \"address2\": \"\", \"address3\": null, \"city\": \"Ladysmith\", \"zip_code\": \"V9G 1A5\", \"country\": \"CA\", \"state\": \"BC\", \"display_address\": [\"438 1st Avenue\", \"Ladysmith, BC V9G 1A5\", \"Canada\"]}, \"phone\": \"+12502453433\", \"display_phone\": \"+1 250-245-3433\", \"distance\": 97.32595158938295}, {\"id\": \"QDqGoRFqeD7eCXHsyj1rew\", \"alias\": \"dragon-city-restaurant-ladysmith\", \"name\": \"Dragon City Restaurant\", \"image_url\": \"https://s3-media2.fl.yelpcdn.com/bphoto/nMUUgwR6VzEYaQRQKlTiEA/o.jpg\", \"is_closed\": false, \"url\": \"https://www.yelp.com/biz/dragon-city-restaurant-ladysmith?adjust_creative=jN6KrDw7JW0Ffv2E0PiPDw&utm_campaign=yelp_api_v3&utm_medium=api_v3_business_search&utm_source=jN6KrDw7JW0Ffv2E0PiPDw\", \"review_count\": 5, \"categories\": [{\"alias\": \"chinese\", \"title\": \"Chinese\"}], \"rating\": 2.0, \"coordinates\": {\"latitude\": 48.9927643706027, \"longitude\": -123.814081822697}, \"transactions\": [], \"location\": {\"address1\": \"328 Esplanade Road\", \"address2\": \"Suite 316\", \"address3\": \"\", \"city\": \"Ladysmith\", \"zip_code\": \"V9G\", \"country\": \"CA\", \"state\": \"BC\", \"display_address\": [\"328 Esplanade Road\", \"Suite 316\", \"Ladysmith, BC V9G\", \"Canada\"]}, \"phone\": \"+12502458689\", \"display_phone\": \"+1 250-245-8689\", \"distance\": 310.03432853214446}, {\"id\": \"iiBqa2EobFb2D6v3ZfJRBQ\", \"alias\": \"timberland-pub-ladysmith\", \"name\": \"Timberland Pub\", \"image_url\": \"\", \"is_closed\": false, \"url\": \"https://www.yelp.com/biz/timberland-pub-ladysmith?adjust_creative=jN6KrDw7JW0Ffv2E0PiPDw&utm_campaign=yelp_api_v3&utm_medium=api_v3_business_search&utm_source=jN6KrDw7JW0Ffv2E0PiPDw\", \"review_count\": 2, \"categories\": [{\"alias\": \"pubs\", \"title\": \"Pubs\"}], \"rating\": 3.5, \"coordinates\": {\"latitude\": 48.9878775976666, \"longitude\": -123.82209777832}, \"transactions\": [], \"price\": \"$\", \"location\": {\"address1\": \"1680 Timberlands Road\", \"address2\": \"\", \"address3\": \"\", \"city\": \"Ladysmith\", \"zip_code\": \"V9G 1K3\", \"country\": \"CA\", \"state\": \"BC\", \"display_address\": [\"1680 Timberlands Road\", \"Ladysmith, BC V9G 1K3\", \"Canada\"]}, \"phone\": \"+12502450800\", \"display_phone\": \"+1 250-245-0800\", \"distance\": 747.0900582549527}, {\"id\": \"vIcl1JYw_wpuKbueuqxerA\", \"alias\": \"taco-revolution-cobble-hill\", \"name\": \"Taco Revolution\", \"image_url\": \"\", \"is_closed\": false, \"url\": \"https://www.yelp.com/biz/taco-revolution-cobble-hill?adjust_creative=jN6KrDw7JW0Ffv2E0PiPDw&utm_campaign=yelp_api_v3&utm_medium=api_v3_business_search&utm_source=jN6KrDw7JW0Ffv2E0PiPDw\", \"review_count\": 1, \"categories\": [{\"alias\": \"foodtrucks\", \"title\": \"Food Trucks\"}, {\"alias\": \"mexican\", \"title\": \"Mexican\"}], \"rating\": 5.0, \"coordinates\": {\"latitude\": 48.6869888305664, \"longitude\": -123.603912353516}, \"transactions\": [], \"location\": {\"address1\": null, \"address2\": null, \"address3\": \"\", \"city\": \"Cobble Hill\", \"zip_code\": \"V0R 1L5\", \"country\": \"CA\", \"state\": \"BC\", \"display_address\": [\"Cobble Hill, BC V0R 1L5\", \"Canada\"]}, \"phone\": \"+12502446492\", \"display_phone\": \"+1 250-244-6492\", \"distance\": 37446.227935069466}], \"total\": 20, \"region\": {\"center\": {\"longitude\": -123.81788919678714, \"latitude\": 48.99400256898083}}}\n"
     ]
    }
   ],
   "source": [
    "# Check the status of the response and print the response text\n",
    "print(response.status_code)\n",
    "print(response.text)"
   ]
  },
  {
   "cell_type": "markdown",
   "metadata": {},
   "source": [
    "Parse through your result and get POI details"
   ]
  },
  {
   "cell_type": "code",
   "execution_count": 127,
   "metadata": {},
   "outputs": [],
   "source": [
    "Y_response = response.json()"
   ]
  },
  {
   "cell_type": "code",
   "execution_count": 128,
   "metadata": {
    "collapsed": true,
    "jupyter": {
     "outputs_hidden": true
    },
    "tags": []
   },
   "outputs": [
    {
     "name": "stdout",
     "output_type": "stream",
     "text": [
      "{'businesses': [{'alias': 'wild-poppy-market-ladysmith-2',\n",
      "                 'categories': [{'alias': 'bakeries', 'title': 'Bakeries'},\n",
      "                                {'alias': 'breakfast_brunch',\n",
      "                                 'title': 'Breakfast & Brunch'},\n",
      "                                {'alias': 'sandwiches', 'title': 'Sandwiches'}],\n",
      "                 'coordinates': {'latitude': 48.9939504271219,\n",
      "                                 'longitude': -123.818158428481},\n",
      "                 'display_phone': '+1 250-924-8696',\n",
      "                 'distance': 20.48072512998537,\n",
      "                 'id': 'RxVPUMP2slrLGoLO1jNzCw',\n",
      "                 'image_url': 'https://s3-media4.fl.yelpcdn.com/bphoto/2ha-5lVXekJyl3-lBGbZfQ/o.jpg',\n",
      "                 'is_closed': False,\n",
      "                 'location': {'address1': '541 1st Avenue',\n",
      "                              'address2': '',\n",
      "                              'address3': '',\n",
      "                              'city': 'Ladysmith',\n",
      "                              'country': 'CA',\n",
      "                              'display_address': ['541 1st Avenue',\n",
      "                                                  'Ladysmith, BC V9G',\n",
      "                                                  'Canada'],\n",
      "                              'state': 'BC',\n",
      "                              'zip_code': 'V9G'},\n",
      "                 'name': 'Wild Poppy Market',\n",
      "                 'phone': '+12509248696',\n",
      "                 'price': '$$',\n",
      "                 'rating': 4.5,\n",
      "                 'review_count': 31,\n",
      "                 'transactions': [],\n",
      "                 'url': 'https://www.yelp.com/biz/wild-poppy-market-ladysmith-2?adjust_creative=jN6KrDw7JW0Ffv2E0PiPDw&utm_campaign=yelp_api_v3&utm_medium=api_v3_business_search&utm_source=jN6KrDw7JW0Ffv2E0PiPDw'},\n",
      "                {'alias': 'old-town-bakery-ladysmith',\n",
      "                 'categories': [{'alias': 'bakeries', 'title': 'Bakeries'}],\n",
      "                 'coordinates': {'latitude': 48.993309,\n",
      "                                 'longitude': -123.81764},\n",
      "                 'display_phone': '+1 250-245-2531',\n",
      "                 'distance': 79.23540715904649,\n",
      "                 'id': 'NolpyYCEneVkMxOfO66HEQ',\n",
      "                 'image_url': 'https://s3-media2.fl.yelpcdn.com/bphoto/juE5xkS2aNgicMrlKnPlww/o.jpg',\n",
      "                 'is_closed': False,\n",
      "                 'location': {'address1': '510 1st Avenue',\n",
      "                              'address2': '',\n",
      "                              'address3': '',\n",
      "                              'city': 'Ladysmith',\n",
      "                              'country': 'CA',\n",
      "                              'display_address': ['510 1st Avenue',\n",
      "                                                  'Ladysmith, BC V9G 1R3',\n",
      "                                                  'Canada'],\n",
      "                              'state': 'BC',\n",
      "                              'zip_code': 'V9G 1R3'},\n",
      "                 'name': 'Old Town Bakery',\n",
      "                 'phone': '+12502452531',\n",
      "                 'price': '$$',\n",
      "                 'rating': 4.5,\n",
      "                 'review_count': 33,\n",
      "                 'transactions': [],\n",
      "                 'url': 'https://www.yelp.com/biz/old-town-bakery-ladysmith?adjust_creative=jN6KrDw7JW0Ffv2E0PiPDw&utm_campaign=yelp_api_v3&utm_medium=api_v3_business_search&utm_source=jN6KrDw7JW0Ffv2E0PiPDw'},\n",
      "                {'alias': 'spice-hut-ladysmith-2',\n",
      "                 'categories': [{'alias': 'indpak', 'title': 'Indian'}],\n",
      "                 'coordinates': {'latitude': 48.9941161571685,\n",
      "                                 'longitude': -123.816207312047},\n",
      "                 'display_phone': '+1 250-924-8222',\n",
      "                 'distance': 123.35703407631522,\n",
      "                 'id': 'eKNuWQkubnIGoUZAIFFg8Q',\n",
      "                 'image_url': 'https://s3-media2.fl.yelpcdn.com/bphoto/s2VSqpmUY_2_G2LchCNViQ/o.jpg',\n",
      "                 'is_closed': False,\n",
      "                 'location': {'address1': '510 Esplanade Avenue',\n",
      "                              'address2': '',\n",
      "                              'address3': '',\n",
      "                              'city': 'Ladysmith',\n",
      "                              'country': 'CA',\n",
      "                              'display_address': ['510 Esplanade Avenue',\n",
      "                                                  'Ladysmith, BC V9G',\n",
      "                                                  'Canada'],\n",
      "                              'state': 'BC',\n",
      "                              'zip_code': 'V9G'},\n",
      "                 'name': 'Spice Hut',\n",
      "                 'phone': '+12509248222',\n",
      "                 'price': '$$',\n",
      "                 'rating': 4.5,\n",
      "                 'review_count': 19,\n",
      "                 'transactions': [],\n",
      "                 'url': 'https://www.yelp.com/biz/spice-hut-ladysmith-2?adjust_creative=jN6KrDw7JW0Ffv2E0PiPDw&utm_campaign=yelp_api_v3&utm_medium=api_v3_business_search&utm_source=jN6KrDw7JW0Ffv2E0PiPDw'},\n",
      "                {'alias': 'fox-and-hounds-ladysmith',\n",
      "                 'categories': [{'alias': 'pubs', 'title': 'Pubs'}],\n",
      "                 'coordinates': {'latitude': 48.9943184444792,\n",
      "                                 'longitude': -123.817674063897},\n",
      "                 'display_phone': '+1 250-924-1747',\n",
      "                 'distance': 38.47122715137002,\n",
      "                 'id': '5g8G8DnCI-tBnLiUxUEXzA',\n",
      "                 'image_url': 'https://s3-media1.fl.yelpcdn.com/bphoto/XPnymMrLhsYdi-9rDEkG5Q/o.jpg',\n",
      "                 'is_closed': False,\n",
      "                 'location': {'address1': '11 High Street',\n",
      "                              'address2': '',\n",
      "                              'address3': '',\n",
      "                              'city': 'Ladysmith',\n",
      "                              'country': 'CA',\n",
      "                              'display_address': ['11 High Street',\n",
      "                                                  'Ladysmith, BC V9G',\n",
      "                                                  'Canada'],\n",
      "                              'state': 'BC',\n",
      "                              'zip_code': 'V9G'},\n",
      "                 'name': 'Fox And Hounds',\n",
      "                 'phone': '+12509241747',\n",
      "                 'price': '$$',\n",
      "                 'rating': 4.0,\n",
      "                 'review_count': 19,\n",
      "                 'transactions': [],\n",
      "                 'url': 'https://www.yelp.com/biz/fox-and-hounds-ladysmith?adjust_creative=jN6KrDw7JW0Ffv2E0PiPDw&utm_campaign=yelp_api_v3&utm_medium=api_v3_business_search&utm_source=jN6KrDw7JW0Ffv2E0PiPDw'},\n",
      "                {'alias': 'plantitude-ladysmith',\n",
      "                 'categories': [{'alias': 'vegan', 'title': 'Vegan'}],\n",
      "                 'coordinates': {'latitude': 48.9929358,\n",
      "                                 'longitude': -123.8166295},\n",
      "                 'display_phone': '+1 250-924-1201',\n",
      "                 'distance': 127.84309880503795,\n",
      "                 'id': '0inqHeKSgGb0ju40sPviSQ',\n",
      "                 'image_url': 'https://s3-media2.fl.yelpcdn.com/bphoto/93UFHTDx6btJPrtEoU7RUQ/o.jpg',\n",
      "                 'is_closed': False,\n",
      "                 'location': {'address1': '431 1st Avenue',\n",
      "                              'address2': '',\n",
      "                              'address3': None,\n",
      "                              'city': 'Ladysmith',\n",
      "                              'country': 'CA',\n",
      "                              'display_address': ['431 1st Avenue',\n",
      "                                                  'Ladysmith, BC V9G 1A9',\n",
      "                                                  'Canada'],\n",
      "                              'state': 'BC',\n",
      "                              'zip_code': 'V9G 1A9'},\n",
      "                 'name': 'Plantitude',\n",
      "                 'phone': '+12509241201',\n",
      "                 'rating': 5.0,\n",
      "                 'review_count': 7,\n",
      "                 'transactions': [],\n",
      "                 'url': 'https://www.yelp.com/biz/plantitude-ladysmith?adjust_creative=jN6KrDw7JW0Ffv2E0PiPDw&utm_campaign=yelp_api_v3&utm_medium=api_v3_business_search&utm_source=jN6KrDw7JW0Ffv2E0PiPDw'},\n",
      "                {'alias': 'maya-norte-ladysmith',\n",
      "                 'categories': [{'alias': 'spanish', 'title': 'Spanish'},\n",
      "                                {'alias': 'mexican', 'title': 'Mexican'}],\n",
      "                 'coordinates': {'latitude': 48.9930703318987,\n",
      "                                 'longitude': -123.815743603939},\n",
      "                 'display_phone': '+1 250-924-1300',\n",
      "                 'distance': 187.7519605358935,\n",
      "                 'id': 'VUVQDZdxlfowVEzhg2RZBA',\n",
      "                 'image_url': 'https://s3-media3.fl.yelpcdn.com/bphoto/gQUdv51yHSUEgRlIJ9TuMw/o.jpg',\n",
      "                 'is_closed': False,\n",
      "                 'location': {'address1': '18 Roberts Street',\n",
      "                              'address2': '',\n",
      "                              'address3': None,\n",
      "                              'city': 'Ladysmith',\n",
      "                              'country': 'CA',\n",
      "                              'display_address': ['18 Roberts Street',\n",
      "                                                  'Ladysmith, BC V9G',\n",
      "                                                  'Canada'],\n",
      "                              'state': 'BC',\n",
      "                              'zip_code': 'V9G'},\n",
      "                 'name': 'Maya Norte',\n",
      "                 'phone': '+12509241300',\n",
      "                 'rating': 4.5,\n",
      "                 'review_count': 12,\n",
      "                 'transactions': [],\n",
      "                 'url': 'https://www.yelp.com/biz/maya-norte-ladysmith?adjust_creative=jN6KrDw7JW0Ffv2E0PiPDw&utm_campaign=yelp_api_v3&utm_medium=api_v3_business_search&utm_source=jN6KrDw7JW0Ffv2E0PiPDw'},\n",
      "                {'alias': 'appetit-food-for-thought-ladysmith',\n",
      "                 'categories': [{'alias': 'thai', 'title': 'Thai'},\n",
      "                                {'alias': 'asianfusion',\n",
      "                                 'title': 'Asian Fusion'},\n",
      "                                {'alias': 'breakfast_brunch',\n",
      "                                 'title': 'Breakfast & Brunch'}],\n",
      "                 'coordinates': {'latitude': 48.993626,\n",
      "                                 'longitude': -123.818188},\n",
      "                 'display_phone': '+1 250-924-1321',\n",
      "                 'distance': 47.207727462024785,\n",
      "                 'id': 'aha23kjJcxjH3SwOEbwsZw',\n",
      "                 'image_url': 'https://s3-media2.fl.yelpcdn.com/bphoto/kX-3oU8_TvOKVwWrcF4Kag/o.jpg',\n",
      "                 'is_closed': False,\n",
      "                 'location': {'address1': '534 1st Avenue',\n",
      "                              'address2': '',\n",
      "                              'address3': '',\n",
      "                              'city': 'Ladysmith',\n",
      "                              'country': 'CA',\n",
      "                              'display_address': ['534 1st Avenue',\n",
      "                                                  'Ladysmith, BC V9G 1A9',\n",
      "                                                  'Canada'],\n",
      "                              'state': 'BC',\n",
      "                              'zip_code': 'V9G 1A9'},\n",
      "                 'name': 'Appetit Food for Thought',\n",
      "                 'phone': '+12509241321',\n",
      "                 'price': '$$',\n",
      "                 'rating': 4.5,\n",
      "                 'review_count': 8,\n",
      "                 'transactions': [],\n",
      "                 'url': 'https://www.yelp.com/biz/appetit-food-for-thought-ladysmith?adjust_creative=jN6KrDw7JW0Ffv2E0PiPDw&utm_campaign=yelp_api_v3&utm_medium=api_v3_business_search&utm_source=jN6KrDw7JW0Ffv2E0PiPDw'},\n",
      "                {'alias': 'in-the-beantime-cafe-ladysmith',\n",
      "                 'categories': [{'alias': 'coffee', 'title': 'Coffee & Tea'}],\n",
      "                 'coordinates': {'latitude': 48.9943878,\n",
      "                                 'longitude': -123.8179081},\n",
      "                 'display_phone': '+1 250-245-2305',\n",
      "                 'distance': 54.90811566913393,\n",
      "                 'id': 'OcIMOali1mP835ZyXw6glw',\n",
      "                 'image_url': 'https://s3-media3.fl.yelpcdn.com/bphoto/FHz-HI9zzsY1SoAQzblLwg/o.jpg',\n",
      "                 'is_closed': False,\n",
      "                 'location': {'address1': '18 High St',\n",
      "                              'address2': '',\n",
      "                              'address3': '',\n",
      "                              'city': 'Ladysmith',\n",
      "                              'country': 'CA',\n",
      "                              'display_address': ['18 High St',\n",
      "                                                  'Ladysmith, BC V9G 1B9',\n",
      "                                                  'Canada'],\n",
      "                              'state': 'BC',\n",
      "                              'zip_code': 'V9G 1B9'},\n",
      "                 'name': 'In the Beantime Cafe',\n",
      "                 'phone': '+12502452305',\n",
      "                 'price': '$$',\n",
      "                 'rating': 4.0,\n",
      "                 'review_count': 13,\n",
      "                 'transactions': [],\n",
      "                 'url': 'https://www.yelp.com/biz/in-the-beantime-cafe-ladysmith?adjust_creative=jN6KrDw7JW0Ffv2E0PiPDw&utm_campaign=yelp_api_v3&utm_medium=api_v3_business_search&utm_source=jN6KrDw7JW0Ffv2E0PiPDw'},\n",
      "                {'alias': 'kaede-sushi-and-grill-ladysmith',\n",
      "                 'categories': [{'alias': 'japanese', 'title': 'Japanese'},\n",
      "                                {'alias': 'sushi', 'title': 'Sushi Bars'}],\n",
      "                 'coordinates': {'latitude': 48.995798,\n",
      "                                 'longitude': -123.818781},\n",
      "                 'display_phone': '+1 250-924-1166',\n",
      "                 'distance': 209.9773660962487,\n",
      "                 'id': 'feILkL1CHco70WFkaf65eA',\n",
      "                 'image_url': 'https://s3-media2.fl.yelpcdn.com/bphoto/1pwOhF_XkftvAi-lx4Yl2w/o.jpg',\n",
      "                 'is_closed': False,\n",
      "                 'location': {'address1': '734 Esplanade Avenue',\n",
      "                              'address2': '',\n",
      "                              'address3': None,\n",
      "                              'city': 'Ladysmith',\n",
      "                              'country': 'CA',\n",
      "                              'display_address': ['734 Esplanade Avenue',\n",
      "                                                  'Ladysmith, BC V9G 1A1',\n",
      "                                                  'Canada'],\n",
      "                              'state': 'BC',\n",
      "                              'zip_code': 'V9G 1A1'},\n",
      "                 'name': 'Kaede Sushi & Grill',\n",
      "                 'phone': '+12509241166',\n",
      "                 'rating': 4.5,\n",
      "                 'review_count': 7,\n",
      "                 'transactions': [],\n",
      "                 'url': 'https://www.yelp.com/biz/kaede-sushi-and-grill-ladysmith?adjust_creative=jN6KrDw7JW0Ffv2E0PiPDw&utm_campaign=yelp_api_v3&utm_medium=api_v3_business_search&utm_source=jN6KrDw7JW0Ffv2E0PiPDw'},\n",
      "                {'alias': 'oyster-bay-cafe-ladysmith',\n",
      "                 'categories': [{'alias': 'cafes', 'title': 'Cafes'}],\n",
      "                 'coordinates': {'latitude': 48.9966565044327,\n",
      "                                 'longitude': -123.814637438457},\n",
      "                 'display_phone': '+1 250-924-2245',\n",
      "                 'distance': 378.64058577090316,\n",
      "                 'id': 'ugImCl4WIJ64h3TGY__etw',\n",
      "                 'image_url': 'https://s3-media3.fl.yelpcdn.com/bphoto/_QnRcXm30ul3kkxCfOAgGA/o.jpg',\n",
      "                 'is_closed': False,\n",
      "                 'location': {'address1': '611 Oyster Bay Drive',\n",
      "                              'address2': '',\n",
      "                              'address3': 'Ladysmith Maritime Society',\n",
      "                              'city': 'Ladysmith',\n",
      "                              'country': 'CA',\n",
      "                              'display_address': ['611 Oyster Bay Drive',\n",
      "                                                  'Ladysmith Maritime Society',\n",
      "                                                  'Ladysmith, BC V9G 1A7',\n",
      "                                                  'Canada'],\n",
      "                              'state': 'BC',\n",
      "                              'zip_code': 'V9G 1A7'},\n",
      "                 'name': 'Oyster Bay Cafe',\n",
      "                 'phone': '+12509242245',\n",
      "                 'price': '$$',\n",
      "                 'rating': 4.5,\n",
      "                 'review_count': 7,\n",
      "                 'transactions': [],\n",
      "                 'url': 'https://www.yelp.com/biz/oyster-bay-cafe-ladysmith?adjust_creative=jN6KrDw7JW0Ffv2E0PiPDw&utm_campaign=yelp_api_v3&utm_medium=api_v3_business_search&utm_source=jN6KrDw7JW0Ffv2E0PiPDw'},\n",
      "                {'alias': 'roberts-street-pizza-ladysmith-2',\n",
      "                 'categories': [{'alias': 'pizza', 'title': 'Pizza'},\n",
      "                                {'alias': 'italian', 'title': 'Italian'}],\n",
      "                 'coordinates': {'latitude': 48.993136,\n",
      "                                 'longitude': -123.8157891},\n",
      "                 'display_phone': '+1 250-245-1119',\n",
      "                 'distance': 171.56932454772272,\n",
      "                 'id': 'oUNSPM0A2PA2y5MI1lhPcQ',\n",
      "                 'image_url': 'https://s3-media3.fl.yelpcdn.com/bphoto/ROF9--eKuhVo9evhD1-9EA/o.jpg',\n",
      "                 'is_closed': False,\n",
      "                 'location': {'address1': '20 Roberts Street',\n",
      "                              'address2': '',\n",
      "                              'address3': '',\n",
      "                              'city': 'Ladysmith',\n",
      "                              'country': 'CA',\n",
      "                              'display_address': ['20 Roberts Street',\n",
      "                                                  'Ladysmith, BC V9G 1A5',\n",
      "                                                  'Canada'],\n",
      "                              'state': 'BC',\n",
      "                              'zip_code': 'V9G 1A5'},\n",
      "                 'name': 'Roberts Street Pizza',\n",
      "                 'phone': '+12502451119',\n",
      "                 'price': '$$',\n",
      "                 'rating': 3.5,\n",
      "                 'review_count': 14,\n",
      "                 'transactions': [],\n",
      "                 'url': 'https://www.yelp.com/biz/roberts-street-pizza-ladysmith-2?adjust_creative=jN6KrDw7JW0Ffv2E0PiPDw&utm_campaign=yelp_api_v3&utm_medium=api_v3_business_search&utm_source=jN6KrDw7JW0Ffv2E0PiPDw'},\n",
      "                {'alias': 'phoenix-restaurant-ladysmith',\n",
      "                 'categories': [{'alias': 'chinese', 'title': 'Chinese'}],\n",
      "                 'coordinates': {'latitude': 48.993721,\n",
      "                                 'longitude': -123.8193207},\n",
      "                 'display_phone': '+1 250-245-3263',\n",
      "                 'distance': 106.34474847609862,\n",
      "                 'id': 'Pa9Hppxq3k0E7VWV9ulTOg',\n",
      "                 'image_url': '',\n",
      "                 'is_closed': False,\n",
      "                 'location': {'address1': '112 High Street',\n",
      "                              'address2': '',\n",
      "                              'address3': '',\n",
      "                              'city': 'Ladysmith',\n",
      "                              'country': 'CA',\n",
      "                              'display_address': ['112 High Street',\n",
      "                                                  'Ladysmith, BC V9G 1B3',\n",
      "                                                  'Canada'],\n",
      "                              'state': 'BC',\n",
      "                              'zip_code': 'V9G 1B3'},\n",
      "                 'name': 'Phoenix Restaurant',\n",
      "                 'phone': '+12502453263',\n",
      "                 'price': '$$',\n",
      "                 'rating': 4.5,\n",
      "                 'review_count': 5,\n",
      "                 'transactions': [],\n",
      "                 'url': 'https://www.yelp.com/biz/phoenix-restaurant-ladysmith?adjust_creative=jN6KrDw7JW0Ffv2E0PiPDw&utm_campaign=yelp_api_v3&utm_medium=api_v3_business_search&utm_source=jN6KrDw7JW0Ffv2E0PiPDw'},\n",
      "                {'alias': 'ironworks-cafe-and-crêperie-ladysmith',\n",
      "                 'categories': [{'alias': 'creperies', 'title': 'Creperies'},\n",
      "                                {'alias': 'cafes', 'title': 'Cafes'}],\n",
      "                 'coordinates': {'latitude': 48.9936235,\n",
      "                                 'longitude': -123.8155},\n",
      "                 'display_phone': '+1 250-912-0064',\n",
      "                 'distance': 161.3506830239785,\n",
      "                 'id': 'mkls2eHS19l_OUOQCulFfA',\n",
      "                 'image_url': 'https://s3-media4.fl.yelpcdn.com/bphoto/LPa_y9uHvv0phhkRHtw8pA/o.jpg',\n",
      "                 'is_closed': False,\n",
      "                 'location': {'address1': '422 Esplanade Ave',\n",
      "                              'address2': '',\n",
      "                              'address3': None,\n",
      "                              'city': 'Ladysmith',\n",
      "                              'country': 'CA',\n",
      "                              'display_address': ['422 Esplanade Ave',\n",
      "                                                  'Ladysmith, BC V9G 1A1',\n",
      "                                                  'Canada'],\n",
      "                              'state': 'BC',\n",
      "                              'zip_code': 'V9G 1A1'},\n",
      "                 'name': 'Ironworks Cafe and Crêperie',\n",
      "                 'phone': '+12509120064',\n",
      "                 'rating': 4.0,\n",
      "                 'review_count': 8,\n",
      "                 'transactions': [],\n",
      "                 'url': 'https://www.yelp.com/biz/ironworks-cafe-and-cr%C3%AAperie-ladysmith?adjust_creative=jN6KrDw7JW0Ffv2E0PiPDw&utm_campaign=yelp_api_v3&utm_medium=api_v3_business_search&utm_source=jN6KrDw7JW0Ffv2E0PiPDw'},\n",
      "                {'alias': 'zacks-ladysmith',\n",
      "                 'categories': [{'alias': 'sandwiches', 'title': 'Sandwiches'},\n",
      "                                {'alias': 'burgers', 'title': 'Burgers'},\n",
      "                                {'alias': 'lounges', 'title': 'Lounges'}],\n",
      "                 'coordinates': {'latitude': 48.9936006,\n",
      "                                 'longitude': -123.8181531},\n",
      "                 'display_phone': '+1 250-245-2749',\n",
      "                 'distance': 49.82979319186197,\n",
      "                 'id': 'hEcrtut7ALoFATM9PWMj-A',\n",
      "                 'image_url': 'https://s3-media3.fl.yelpcdn.com/bphoto/2Czwny3V1OpAhusOKt1yhQ/o.jpg',\n",
      "                 'is_closed': False,\n",
      "                 'location': {'address1': '530 1 Avenue',\n",
      "                              'address2': '',\n",
      "                              'address3': None,\n",
      "                              'city': 'Ladysmith',\n",
      "                              'country': 'CA',\n",
      "                              'display_address': ['530 1 Avenue',\n",
      "                                                  'Ladysmith, BC V9G 1A1',\n",
      "                                                  'Canada'],\n",
      "                              'state': 'BC',\n",
      "                              'zip_code': 'V9G 1A1'},\n",
      "                 'name': \"Zack's\",\n",
      "                 'phone': '+12502452749',\n",
      "                 'rating': 3.5,\n",
      "                 'review_count': 4,\n",
      "                 'transactions': [],\n",
      "                 'url': 'https://www.yelp.com/biz/zacks-ladysmith?adjust_creative=jN6KrDw7JW0Ffv2E0PiPDw&utm_campaign=yelp_api_v3&utm_medium=api_v3_business_search&utm_source=jN6KrDw7JW0Ffv2E0PiPDw'},\n",
      "                {'alias': 'mr-teriyaki-and-miss-sushi-ladysmith',\n",
      "                 'categories': [{'alias': 'sushi', 'title': 'Sushi Bars'},\n",
      "                                {'alias': 'japanese', 'title': 'Japanese'}],\n",
      "                 'coordinates': {'latitude': 48.9955632,\n",
      "                                 'longitude': -123.8205715},\n",
      "                 'display_phone': '+1 250-924-2221',\n",
      "                 'distance': 261.5545551063349,\n",
      "                 'id': 'oVrCK7B_I6oF1FNbaxPhhw',\n",
      "                 'image_url': 'https://s3-media1.fl.yelpcdn.com/bphoto/etg_nnz8bkHuM6pS1pStKw/o.jpg',\n",
      "                 'is_closed': False,\n",
      "                 'location': {'address1': '821 1st Avenue',\n",
      "                              'address2': '',\n",
      "                              'address3': '',\n",
      "                              'city': 'Ladysmith',\n",
      "                              'country': 'CA',\n",
      "                              'display_address': ['821 1st Avenue',\n",
      "                                                  'Ladysmith, BC V9G 1A4',\n",
      "                                                  'Canada'],\n",
      "                              'state': 'BC',\n",
      "                              'zip_code': 'V9G 1A4'},\n",
      "                 'name': 'Mr. Teriyaki and Miss Sushi',\n",
      "                 'phone': '+12509242221',\n",
      "                 'price': '$',\n",
      "                 'rating': 4.0,\n",
      "                 'review_count': 7,\n",
      "                 'transactions': [],\n",
      "                 'url': 'https://www.yelp.com/biz/mr-teriyaki-and-miss-sushi-ladysmith?adjust_creative=jN6KrDw7JW0Ffv2E0PiPDw&utm_campaign=yelp_api_v3&utm_medium=api_v3_business_search&utm_source=jN6KrDw7JW0Ffv2E0PiPDw'},\n",
      "                {'alias': 'tim-hortons-ladysmith',\n",
      "                 'categories': [{'alias': 'coffee', 'title': 'Coffee & Tea'}],\n",
      "                 'coordinates': {'latitude': 48.9976807,\n",
      "                                 'longitude': -123.8236618},\n",
      "                 'display_phone': '+1 250-245-2303',\n",
      "                 'distance': 611.4220597929603,\n",
      "                 'id': 'O5_a1JHqfQU7rcDM-TmVdQ',\n",
      "                 'image_url': 'https://s3-media4.fl.yelpcdn.com/bphoto/8vpfkqeGrHY9x8iBN2sRTA/o.jpg',\n",
      "                 'is_closed': False,\n",
      "                 'location': {'address1': '1115A 1st Avenue',\n",
      "                              'address2': '',\n",
      "                              'address3': '',\n",
      "                              'city': 'Ladysmith',\n",
      "                              'country': 'CA',\n",
      "                              'display_address': ['1115A 1st Avenue',\n",
      "                                                  'Ladysmith, BC V9G 1A4',\n",
      "                                                  'Canada'],\n",
      "                              'state': 'BC',\n",
      "                              'zip_code': 'V9G 1A4'},\n",
      "                 'name': 'Tim Hortons',\n",
      "                 'phone': '+12502452303',\n",
      "                 'rating': 3.5,\n",
      "                 'review_count': 3,\n",
      "                 'transactions': [],\n",
      "                 'url': 'https://www.yelp.com/biz/tim-hortons-ladysmith?adjust_creative=jN6KrDw7JW0Ffv2E0PiPDw&utm_campaign=yelp_api_v3&utm_medium=api_v3_business_search&utm_source=jN6KrDw7JW0Ffv2E0PiPDw'},\n",
      "                {'alias': 'the-wigwam-restaurant-ladysmith',\n",
      "                 'categories': [{'alias': 'vietnamese', 'title': 'Vietnamese'},\n",
      "                                {'alias': 'chinese', 'title': 'Chinese'},\n",
      "                                {'alias': 'vegetarian', 'title': 'Vegetarian'}],\n",
      "                 'coordinates': {'latitude': 48.9931583703582,\n",
      "                                 'longitude': -123.817536899779},\n",
      "                 'display_phone': '+1 250-245-3433',\n",
      "                 'distance': 97.32595158938295,\n",
      "                 'id': 'WWM0wvMvzI1vXb0b-2LdWQ',\n",
      "                 'image_url': 'https://s3-media2.fl.yelpcdn.com/bphoto/PPsK2yj_rJ_aAKw86vnFWQ/o.jpg',\n",
      "                 'is_closed': False,\n",
      "                 'location': {'address1': '438 1st Avenue',\n",
      "                              'address2': '',\n",
      "                              'address3': None,\n",
      "                              'city': 'Ladysmith',\n",
      "                              'country': 'CA',\n",
      "                              'display_address': ['438 1st Avenue',\n",
      "                                                  'Ladysmith, BC V9G 1A5',\n",
      "                                                  'Canada'],\n",
      "                              'state': 'BC',\n",
      "                              'zip_code': 'V9G 1A5'},\n",
      "                 'name': 'The Wigwam Restaurant',\n",
      "                 'phone': '+12502453433',\n",
      "                 'rating': 1.5,\n",
      "                 'review_count': 2,\n",
      "                 'transactions': [],\n",
      "                 'url': 'https://www.yelp.com/biz/the-wigwam-restaurant-ladysmith?adjust_creative=jN6KrDw7JW0Ffv2E0PiPDw&utm_campaign=yelp_api_v3&utm_medium=api_v3_business_search&utm_source=jN6KrDw7JW0Ffv2E0PiPDw'},\n",
      "                {'alias': 'dragon-city-restaurant-ladysmith',\n",
      "                 'categories': [{'alias': 'chinese', 'title': 'Chinese'}],\n",
      "                 'coordinates': {'latitude': 48.9927643706027,\n",
      "                                 'longitude': -123.814081822697},\n",
      "                 'display_phone': '+1 250-245-8689',\n",
      "                 'distance': 310.03432853214446,\n",
      "                 'id': 'QDqGoRFqeD7eCXHsyj1rew',\n",
      "                 'image_url': 'https://s3-media2.fl.yelpcdn.com/bphoto/nMUUgwR6VzEYaQRQKlTiEA/o.jpg',\n",
      "                 'is_closed': False,\n",
      "                 'location': {'address1': '328 Esplanade Road',\n",
      "                              'address2': 'Suite 316',\n",
      "                              'address3': '',\n",
      "                              'city': 'Ladysmith',\n",
      "                              'country': 'CA',\n",
      "                              'display_address': ['328 Esplanade Road',\n",
      "                                                  'Suite 316',\n",
      "                                                  'Ladysmith, BC V9G',\n",
      "                                                  'Canada'],\n",
      "                              'state': 'BC',\n",
      "                              'zip_code': 'V9G'},\n",
      "                 'name': 'Dragon City Restaurant',\n",
      "                 'phone': '+12502458689',\n",
      "                 'rating': 2.0,\n",
      "                 'review_count': 5,\n",
      "                 'transactions': [],\n",
      "                 'url': 'https://www.yelp.com/biz/dragon-city-restaurant-ladysmith?adjust_creative=jN6KrDw7JW0Ffv2E0PiPDw&utm_campaign=yelp_api_v3&utm_medium=api_v3_business_search&utm_source=jN6KrDw7JW0Ffv2E0PiPDw'},\n",
      "                {'alias': 'timberland-pub-ladysmith',\n",
      "                 'categories': [{'alias': 'pubs', 'title': 'Pubs'}],\n",
      "                 'coordinates': {'latitude': 48.9878775976666,\n",
      "                                 'longitude': -123.82209777832},\n",
      "                 'display_phone': '+1 250-245-0800',\n",
      "                 'distance': 747.0900582549527,\n",
      "                 'id': 'iiBqa2EobFb2D6v3ZfJRBQ',\n",
      "                 'image_url': '',\n",
      "                 'is_closed': False,\n",
      "                 'location': {'address1': '1680 Timberlands Road',\n",
      "                              'address2': '',\n",
      "                              'address3': '',\n",
      "                              'city': 'Ladysmith',\n",
      "                              'country': 'CA',\n",
      "                              'display_address': ['1680 Timberlands Road',\n",
      "                                                  'Ladysmith, BC V9G 1K3',\n",
      "                                                  'Canada'],\n",
      "                              'state': 'BC',\n",
      "                              'zip_code': 'V9G 1K3'},\n",
      "                 'name': 'Timberland Pub',\n",
      "                 'phone': '+12502450800',\n",
      "                 'price': '$',\n",
      "                 'rating': 3.5,\n",
      "                 'review_count': 2,\n",
      "                 'transactions': [],\n",
      "                 'url': 'https://www.yelp.com/biz/timberland-pub-ladysmith?adjust_creative=jN6KrDw7JW0Ffv2E0PiPDw&utm_campaign=yelp_api_v3&utm_medium=api_v3_business_search&utm_source=jN6KrDw7JW0Ffv2E0PiPDw'},\n",
      "                {'alias': 'taco-revolution-cobble-hill',\n",
      "                 'categories': [{'alias': 'foodtrucks', 'title': 'Food Trucks'},\n",
      "                                {'alias': 'mexican', 'title': 'Mexican'}],\n",
      "                 'coordinates': {'latitude': 48.6869888305664,\n",
      "                                 'longitude': -123.603912353516},\n",
      "                 'display_phone': '+1 250-244-6492',\n",
      "                 'distance': 37446.227935069466,\n",
      "                 'id': 'vIcl1JYw_wpuKbueuqxerA',\n",
      "                 'image_url': '',\n",
      "                 'is_closed': False,\n",
      "                 'location': {'address1': None,\n",
      "                              'address2': None,\n",
      "                              'address3': '',\n",
      "                              'city': 'Cobble Hill',\n",
      "                              'country': 'CA',\n",
      "                              'display_address': ['Cobble Hill, BC V0R 1L5',\n",
      "                                                  'Canada'],\n",
      "                              'state': 'BC',\n",
      "                              'zip_code': 'V0R 1L5'},\n",
      "                 'name': 'Taco Revolution',\n",
      "                 'phone': '+12502446492',\n",
      "                 'rating': 5.0,\n",
      "                 'review_count': 1,\n",
      "                 'transactions': [],\n",
      "                 'url': 'https://www.yelp.com/biz/taco-revolution-cobble-hill?adjust_creative=jN6KrDw7JW0Ffv2E0PiPDw&utm_campaign=yelp_api_v3&utm_medium=api_v3_business_search&utm_source=jN6KrDw7JW0Ffv2E0PiPDw'}],\n",
      " 'region': {'center': {'latitude': 48.99400256898083,\n",
      "                       'longitude': -123.81788919678714}},\n",
      " 'total': 20}\n"
     ]
    }
   ],
   "source": [
    "# Pretty print to view the response more easily\n",
    "\n",
    "pprint(Y_response)"
   ]
  },
  {
   "cell_type": "code",
   "execution_count": 129,
   "metadata": {},
   "outputs": [
    {
     "data": {
      "application/json": {
       "businesses": [
        {
         "alias": "wild-poppy-market-ladysmith-2",
         "categories": [
          {
           "alias": "bakeries",
           "title": "Bakeries"
          },
          {
           "alias": "breakfast_brunch",
           "title": "Breakfast & Brunch"
          },
          {
           "alias": "sandwiches",
           "title": "Sandwiches"
          }
         ],
         "coordinates": {
          "latitude": 48.9939504271219,
          "longitude": -123.818158428481
         },
         "display_phone": "+1 250-924-8696",
         "distance": 20.48072512998537,
         "id": "RxVPUMP2slrLGoLO1jNzCw",
         "image_url": "https://s3-media4.fl.yelpcdn.com/bphoto/2ha-5lVXekJyl3-lBGbZfQ/o.jpg",
         "is_closed": false,
         "location": {
          "address1": "541 1st Avenue",
          "address2": "",
          "address3": "",
          "city": "Ladysmith",
          "country": "CA",
          "display_address": [
           "541 1st Avenue",
           "Ladysmith, BC V9G",
           "Canada"
          ],
          "state": "BC",
          "zip_code": "V9G"
         },
         "name": "Wild Poppy Market",
         "phone": "+12509248696",
         "price": "$$",
         "rating": 4.5,
         "review_count": 31,
         "transactions": [],
         "url": "https://www.yelp.com/biz/wild-poppy-market-ladysmith-2?adjust_creative=jN6KrDw7JW0Ffv2E0PiPDw&utm_campaign=yelp_api_v3&utm_medium=api_v3_business_search&utm_source=jN6KrDw7JW0Ffv2E0PiPDw"
        },
        {
         "alias": "old-town-bakery-ladysmith",
         "categories": [
          {
           "alias": "bakeries",
           "title": "Bakeries"
          }
         ],
         "coordinates": {
          "latitude": 48.993309,
          "longitude": -123.81764
         },
         "display_phone": "+1 250-245-2531",
         "distance": 79.23540715904649,
         "id": "NolpyYCEneVkMxOfO66HEQ",
         "image_url": "https://s3-media2.fl.yelpcdn.com/bphoto/juE5xkS2aNgicMrlKnPlww/o.jpg",
         "is_closed": false,
         "location": {
          "address1": "510 1st Avenue",
          "address2": "",
          "address3": "",
          "city": "Ladysmith",
          "country": "CA",
          "display_address": [
           "510 1st Avenue",
           "Ladysmith, BC V9G 1R3",
           "Canada"
          ],
          "state": "BC",
          "zip_code": "V9G 1R3"
         },
         "name": "Old Town Bakery",
         "phone": "+12502452531",
         "price": "$$",
         "rating": 4.5,
         "review_count": 33,
         "transactions": [],
         "url": "https://www.yelp.com/biz/old-town-bakery-ladysmith?adjust_creative=jN6KrDw7JW0Ffv2E0PiPDw&utm_campaign=yelp_api_v3&utm_medium=api_v3_business_search&utm_source=jN6KrDw7JW0Ffv2E0PiPDw"
        },
        {
         "alias": "spice-hut-ladysmith-2",
         "categories": [
          {
           "alias": "indpak",
           "title": "Indian"
          }
         ],
         "coordinates": {
          "latitude": 48.9941161571685,
          "longitude": -123.816207312047
         },
         "display_phone": "+1 250-924-8222",
         "distance": 123.35703407631522,
         "id": "eKNuWQkubnIGoUZAIFFg8Q",
         "image_url": "https://s3-media2.fl.yelpcdn.com/bphoto/s2VSqpmUY_2_G2LchCNViQ/o.jpg",
         "is_closed": false,
         "location": {
          "address1": "510 Esplanade Avenue",
          "address2": "",
          "address3": "",
          "city": "Ladysmith",
          "country": "CA",
          "display_address": [
           "510 Esplanade Avenue",
           "Ladysmith, BC V9G",
           "Canada"
          ],
          "state": "BC",
          "zip_code": "V9G"
         },
         "name": "Spice Hut",
         "phone": "+12509248222",
         "price": "$$",
         "rating": 4.5,
         "review_count": 19,
         "transactions": [],
         "url": "https://www.yelp.com/biz/spice-hut-ladysmith-2?adjust_creative=jN6KrDw7JW0Ffv2E0PiPDw&utm_campaign=yelp_api_v3&utm_medium=api_v3_business_search&utm_source=jN6KrDw7JW0Ffv2E0PiPDw"
        },
        {
         "alias": "fox-and-hounds-ladysmith",
         "categories": [
          {
           "alias": "pubs",
           "title": "Pubs"
          }
         ],
         "coordinates": {
          "latitude": 48.9943184444792,
          "longitude": -123.817674063897
         },
         "display_phone": "+1 250-924-1747",
         "distance": 38.47122715137002,
         "id": "5g8G8DnCI-tBnLiUxUEXzA",
         "image_url": "https://s3-media1.fl.yelpcdn.com/bphoto/XPnymMrLhsYdi-9rDEkG5Q/o.jpg",
         "is_closed": false,
         "location": {
          "address1": "11 High Street",
          "address2": "",
          "address3": "",
          "city": "Ladysmith",
          "country": "CA",
          "display_address": [
           "11 High Street",
           "Ladysmith, BC V9G",
           "Canada"
          ],
          "state": "BC",
          "zip_code": "V9G"
         },
         "name": "Fox And Hounds",
         "phone": "+12509241747",
         "price": "$$",
         "rating": 4,
         "review_count": 19,
         "transactions": [],
         "url": "https://www.yelp.com/biz/fox-and-hounds-ladysmith?adjust_creative=jN6KrDw7JW0Ffv2E0PiPDw&utm_campaign=yelp_api_v3&utm_medium=api_v3_business_search&utm_source=jN6KrDw7JW0Ffv2E0PiPDw"
        },
        {
         "alias": "plantitude-ladysmith",
         "categories": [
          {
           "alias": "vegan",
           "title": "Vegan"
          }
         ],
         "coordinates": {
          "latitude": 48.9929358,
          "longitude": -123.8166295
         },
         "display_phone": "+1 250-924-1201",
         "distance": 127.84309880503795,
         "id": "0inqHeKSgGb0ju40sPviSQ",
         "image_url": "https://s3-media2.fl.yelpcdn.com/bphoto/93UFHTDx6btJPrtEoU7RUQ/o.jpg",
         "is_closed": false,
         "location": {
          "address1": "431 1st Avenue",
          "address2": "",
          "address3": null,
          "city": "Ladysmith",
          "country": "CA",
          "display_address": [
           "431 1st Avenue",
           "Ladysmith, BC V9G 1A9",
           "Canada"
          ],
          "state": "BC",
          "zip_code": "V9G 1A9"
         },
         "name": "Plantitude",
         "phone": "+12509241201",
         "rating": 5,
         "review_count": 7,
         "transactions": [],
         "url": "https://www.yelp.com/biz/plantitude-ladysmith?adjust_creative=jN6KrDw7JW0Ffv2E0PiPDw&utm_campaign=yelp_api_v3&utm_medium=api_v3_business_search&utm_source=jN6KrDw7JW0Ffv2E0PiPDw"
        },
        {
         "alias": "maya-norte-ladysmith",
         "categories": [
          {
           "alias": "spanish",
           "title": "Spanish"
          },
          {
           "alias": "mexican",
           "title": "Mexican"
          }
         ],
         "coordinates": {
          "latitude": 48.9930703318987,
          "longitude": -123.815743603939
         },
         "display_phone": "+1 250-924-1300",
         "distance": 187.7519605358935,
         "id": "VUVQDZdxlfowVEzhg2RZBA",
         "image_url": "https://s3-media3.fl.yelpcdn.com/bphoto/gQUdv51yHSUEgRlIJ9TuMw/o.jpg",
         "is_closed": false,
         "location": {
          "address1": "18 Roberts Street",
          "address2": "",
          "address3": null,
          "city": "Ladysmith",
          "country": "CA",
          "display_address": [
           "18 Roberts Street",
           "Ladysmith, BC V9G",
           "Canada"
          ],
          "state": "BC",
          "zip_code": "V9G"
         },
         "name": "Maya Norte",
         "phone": "+12509241300",
         "rating": 4.5,
         "review_count": 12,
         "transactions": [],
         "url": "https://www.yelp.com/biz/maya-norte-ladysmith?adjust_creative=jN6KrDw7JW0Ffv2E0PiPDw&utm_campaign=yelp_api_v3&utm_medium=api_v3_business_search&utm_source=jN6KrDw7JW0Ffv2E0PiPDw"
        },
        {
         "alias": "appetit-food-for-thought-ladysmith",
         "categories": [
          {
           "alias": "thai",
           "title": "Thai"
          },
          {
           "alias": "asianfusion",
           "title": "Asian Fusion"
          },
          {
           "alias": "breakfast_brunch",
           "title": "Breakfast & Brunch"
          }
         ],
         "coordinates": {
          "latitude": 48.993626,
          "longitude": -123.818188
         },
         "display_phone": "+1 250-924-1321",
         "distance": 47.207727462024785,
         "id": "aha23kjJcxjH3SwOEbwsZw",
         "image_url": "https://s3-media2.fl.yelpcdn.com/bphoto/kX-3oU8_TvOKVwWrcF4Kag/o.jpg",
         "is_closed": false,
         "location": {
          "address1": "534 1st Avenue",
          "address2": "",
          "address3": "",
          "city": "Ladysmith",
          "country": "CA",
          "display_address": [
           "534 1st Avenue",
           "Ladysmith, BC V9G 1A9",
           "Canada"
          ],
          "state": "BC",
          "zip_code": "V9G 1A9"
         },
         "name": "Appetit Food for Thought",
         "phone": "+12509241321",
         "price": "$$",
         "rating": 4.5,
         "review_count": 8,
         "transactions": [],
         "url": "https://www.yelp.com/biz/appetit-food-for-thought-ladysmith?adjust_creative=jN6KrDw7JW0Ffv2E0PiPDw&utm_campaign=yelp_api_v3&utm_medium=api_v3_business_search&utm_source=jN6KrDw7JW0Ffv2E0PiPDw"
        },
        {
         "alias": "in-the-beantime-cafe-ladysmith",
         "categories": [
          {
           "alias": "coffee",
           "title": "Coffee & Tea"
          }
         ],
         "coordinates": {
          "latitude": 48.9943878,
          "longitude": -123.8179081
         },
         "display_phone": "+1 250-245-2305",
         "distance": 54.90811566913393,
         "id": "OcIMOali1mP835ZyXw6glw",
         "image_url": "https://s3-media3.fl.yelpcdn.com/bphoto/FHz-HI9zzsY1SoAQzblLwg/o.jpg",
         "is_closed": false,
         "location": {
          "address1": "18 High St",
          "address2": "",
          "address3": "",
          "city": "Ladysmith",
          "country": "CA",
          "display_address": [
           "18 High St",
           "Ladysmith, BC V9G 1B9",
           "Canada"
          ],
          "state": "BC",
          "zip_code": "V9G 1B9"
         },
         "name": "In the Beantime Cafe",
         "phone": "+12502452305",
         "price": "$$",
         "rating": 4,
         "review_count": 13,
         "transactions": [],
         "url": "https://www.yelp.com/biz/in-the-beantime-cafe-ladysmith?adjust_creative=jN6KrDw7JW0Ffv2E0PiPDw&utm_campaign=yelp_api_v3&utm_medium=api_v3_business_search&utm_source=jN6KrDw7JW0Ffv2E0PiPDw"
        },
        {
         "alias": "kaede-sushi-and-grill-ladysmith",
         "categories": [
          {
           "alias": "japanese",
           "title": "Japanese"
          },
          {
           "alias": "sushi",
           "title": "Sushi Bars"
          }
         ],
         "coordinates": {
          "latitude": 48.995798,
          "longitude": -123.818781
         },
         "display_phone": "+1 250-924-1166",
         "distance": 209.9773660962487,
         "id": "feILkL1CHco70WFkaf65eA",
         "image_url": "https://s3-media2.fl.yelpcdn.com/bphoto/1pwOhF_XkftvAi-lx4Yl2w/o.jpg",
         "is_closed": false,
         "location": {
          "address1": "734 Esplanade Avenue",
          "address2": "",
          "address3": null,
          "city": "Ladysmith",
          "country": "CA",
          "display_address": [
           "734 Esplanade Avenue",
           "Ladysmith, BC V9G 1A1",
           "Canada"
          ],
          "state": "BC",
          "zip_code": "V9G 1A1"
         },
         "name": "Kaede Sushi & Grill",
         "phone": "+12509241166",
         "rating": 4.5,
         "review_count": 7,
         "transactions": [],
         "url": "https://www.yelp.com/biz/kaede-sushi-and-grill-ladysmith?adjust_creative=jN6KrDw7JW0Ffv2E0PiPDw&utm_campaign=yelp_api_v3&utm_medium=api_v3_business_search&utm_source=jN6KrDw7JW0Ffv2E0PiPDw"
        },
        {
         "alias": "oyster-bay-cafe-ladysmith",
         "categories": [
          {
           "alias": "cafes",
           "title": "Cafes"
          }
         ],
         "coordinates": {
          "latitude": 48.9966565044327,
          "longitude": -123.814637438457
         },
         "display_phone": "+1 250-924-2245",
         "distance": 378.64058577090316,
         "id": "ugImCl4WIJ64h3TGY__etw",
         "image_url": "https://s3-media3.fl.yelpcdn.com/bphoto/_QnRcXm30ul3kkxCfOAgGA/o.jpg",
         "is_closed": false,
         "location": {
          "address1": "611 Oyster Bay Drive",
          "address2": "",
          "address3": "Ladysmith Maritime Society",
          "city": "Ladysmith",
          "country": "CA",
          "display_address": [
           "611 Oyster Bay Drive",
           "Ladysmith Maritime Society",
           "Ladysmith, BC V9G 1A7",
           "Canada"
          ],
          "state": "BC",
          "zip_code": "V9G 1A7"
         },
         "name": "Oyster Bay Cafe",
         "phone": "+12509242245",
         "price": "$$",
         "rating": 4.5,
         "review_count": 7,
         "transactions": [],
         "url": "https://www.yelp.com/biz/oyster-bay-cafe-ladysmith?adjust_creative=jN6KrDw7JW0Ffv2E0PiPDw&utm_campaign=yelp_api_v3&utm_medium=api_v3_business_search&utm_source=jN6KrDw7JW0Ffv2E0PiPDw"
        },
        {
         "alias": "roberts-street-pizza-ladysmith-2",
         "categories": [
          {
           "alias": "pizza",
           "title": "Pizza"
          },
          {
           "alias": "italian",
           "title": "Italian"
          }
         ],
         "coordinates": {
          "latitude": 48.993136,
          "longitude": -123.8157891
         },
         "display_phone": "+1 250-245-1119",
         "distance": 171.56932454772272,
         "id": "oUNSPM0A2PA2y5MI1lhPcQ",
         "image_url": "https://s3-media3.fl.yelpcdn.com/bphoto/ROF9--eKuhVo9evhD1-9EA/o.jpg",
         "is_closed": false,
         "location": {
          "address1": "20 Roberts Street",
          "address2": "",
          "address3": "",
          "city": "Ladysmith",
          "country": "CA",
          "display_address": [
           "20 Roberts Street",
           "Ladysmith, BC V9G 1A5",
           "Canada"
          ],
          "state": "BC",
          "zip_code": "V9G 1A5"
         },
         "name": "Roberts Street Pizza",
         "phone": "+12502451119",
         "price": "$$",
         "rating": 3.5,
         "review_count": 14,
         "transactions": [],
         "url": "https://www.yelp.com/biz/roberts-street-pizza-ladysmith-2?adjust_creative=jN6KrDw7JW0Ffv2E0PiPDw&utm_campaign=yelp_api_v3&utm_medium=api_v3_business_search&utm_source=jN6KrDw7JW0Ffv2E0PiPDw"
        },
        {
         "alias": "phoenix-restaurant-ladysmith",
         "categories": [
          {
           "alias": "chinese",
           "title": "Chinese"
          }
         ],
         "coordinates": {
          "latitude": 48.993721,
          "longitude": -123.8193207
         },
         "display_phone": "+1 250-245-3263",
         "distance": 106.34474847609862,
         "id": "Pa9Hppxq3k0E7VWV9ulTOg",
         "image_url": "",
         "is_closed": false,
         "location": {
          "address1": "112 High Street",
          "address2": "",
          "address3": "",
          "city": "Ladysmith",
          "country": "CA",
          "display_address": [
           "112 High Street",
           "Ladysmith, BC V9G 1B3",
           "Canada"
          ],
          "state": "BC",
          "zip_code": "V9G 1B3"
         },
         "name": "Phoenix Restaurant",
         "phone": "+12502453263",
         "price": "$$",
         "rating": 4.5,
         "review_count": 5,
         "transactions": [],
         "url": "https://www.yelp.com/biz/phoenix-restaurant-ladysmith?adjust_creative=jN6KrDw7JW0Ffv2E0PiPDw&utm_campaign=yelp_api_v3&utm_medium=api_v3_business_search&utm_source=jN6KrDw7JW0Ffv2E0PiPDw"
        },
        {
         "alias": "ironworks-cafe-and-crêperie-ladysmith",
         "categories": [
          {
           "alias": "creperies",
           "title": "Creperies"
          },
          {
           "alias": "cafes",
           "title": "Cafes"
          }
         ],
         "coordinates": {
          "latitude": 48.9936235,
          "longitude": -123.8155
         },
         "display_phone": "+1 250-912-0064",
         "distance": 161.3506830239785,
         "id": "mkls2eHS19l_OUOQCulFfA",
         "image_url": "https://s3-media4.fl.yelpcdn.com/bphoto/LPa_y9uHvv0phhkRHtw8pA/o.jpg",
         "is_closed": false,
         "location": {
          "address1": "422 Esplanade Ave",
          "address2": "",
          "address3": null,
          "city": "Ladysmith",
          "country": "CA",
          "display_address": [
           "422 Esplanade Ave",
           "Ladysmith, BC V9G 1A1",
           "Canada"
          ],
          "state": "BC",
          "zip_code": "V9G 1A1"
         },
         "name": "Ironworks Cafe and Crêperie",
         "phone": "+12509120064",
         "rating": 4,
         "review_count": 8,
         "transactions": [],
         "url": "https://www.yelp.com/biz/ironworks-cafe-and-cr%C3%AAperie-ladysmith?adjust_creative=jN6KrDw7JW0Ffv2E0PiPDw&utm_campaign=yelp_api_v3&utm_medium=api_v3_business_search&utm_source=jN6KrDw7JW0Ffv2E0PiPDw"
        },
        {
         "alias": "zacks-ladysmith",
         "categories": [
          {
           "alias": "sandwiches",
           "title": "Sandwiches"
          },
          {
           "alias": "burgers",
           "title": "Burgers"
          },
          {
           "alias": "lounges",
           "title": "Lounges"
          }
         ],
         "coordinates": {
          "latitude": 48.9936006,
          "longitude": -123.8181531
         },
         "display_phone": "+1 250-245-2749",
         "distance": 49.82979319186197,
         "id": "hEcrtut7ALoFATM9PWMj-A",
         "image_url": "https://s3-media3.fl.yelpcdn.com/bphoto/2Czwny3V1OpAhusOKt1yhQ/o.jpg",
         "is_closed": false,
         "location": {
          "address1": "530 1 Avenue",
          "address2": "",
          "address3": null,
          "city": "Ladysmith",
          "country": "CA",
          "display_address": [
           "530 1 Avenue",
           "Ladysmith, BC V9G 1A1",
           "Canada"
          ],
          "state": "BC",
          "zip_code": "V9G 1A1"
         },
         "name": "Zack's",
         "phone": "+12502452749",
         "rating": 3.5,
         "review_count": 4,
         "transactions": [],
         "url": "https://www.yelp.com/biz/zacks-ladysmith?adjust_creative=jN6KrDw7JW0Ffv2E0PiPDw&utm_campaign=yelp_api_v3&utm_medium=api_v3_business_search&utm_source=jN6KrDw7JW0Ffv2E0PiPDw"
        },
        {
         "alias": "mr-teriyaki-and-miss-sushi-ladysmith",
         "categories": [
          {
           "alias": "sushi",
           "title": "Sushi Bars"
          },
          {
           "alias": "japanese",
           "title": "Japanese"
          }
         ],
         "coordinates": {
          "latitude": 48.9955632,
          "longitude": -123.8205715
         },
         "display_phone": "+1 250-924-2221",
         "distance": 261.5545551063349,
         "id": "oVrCK7B_I6oF1FNbaxPhhw",
         "image_url": "https://s3-media1.fl.yelpcdn.com/bphoto/etg_nnz8bkHuM6pS1pStKw/o.jpg",
         "is_closed": false,
         "location": {
          "address1": "821 1st Avenue",
          "address2": "",
          "address3": "",
          "city": "Ladysmith",
          "country": "CA",
          "display_address": [
           "821 1st Avenue",
           "Ladysmith, BC V9G 1A4",
           "Canada"
          ],
          "state": "BC",
          "zip_code": "V9G 1A4"
         },
         "name": "Mr. Teriyaki and Miss Sushi",
         "phone": "+12509242221",
         "price": "$",
         "rating": 4,
         "review_count": 7,
         "transactions": [],
         "url": "https://www.yelp.com/biz/mr-teriyaki-and-miss-sushi-ladysmith?adjust_creative=jN6KrDw7JW0Ffv2E0PiPDw&utm_campaign=yelp_api_v3&utm_medium=api_v3_business_search&utm_source=jN6KrDw7JW0Ffv2E0PiPDw"
        },
        {
         "alias": "tim-hortons-ladysmith",
         "categories": [
          {
           "alias": "coffee",
           "title": "Coffee & Tea"
          }
         ],
         "coordinates": {
          "latitude": 48.9976807,
          "longitude": -123.8236618
         },
         "display_phone": "+1 250-245-2303",
         "distance": 611.4220597929603,
         "id": "O5_a1JHqfQU7rcDM-TmVdQ",
         "image_url": "https://s3-media4.fl.yelpcdn.com/bphoto/8vpfkqeGrHY9x8iBN2sRTA/o.jpg",
         "is_closed": false,
         "location": {
          "address1": "1115A 1st Avenue",
          "address2": "",
          "address3": "",
          "city": "Ladysmith",
          "country": "CA",
          "display_address": [
           "1115A 1st Avenue",
           "Ladysmith, BC V9G 1A4",
           "Canada"
          ],
          "state": "BC",
          "zip_code": "V9G 1A4"
         },
         "name": "Tim Hortons",
         "phone": "+12502452303",
         "rating": 3.5,
         "review_count": 3,
         "transactions": [],
         "url": "https://www.yelp.com/biz/tim-hortons-ladysmith?adjust_creative=jN6KrDw7JW0Ffv2E0PiPDw&utm_campaign=yelp_api_v3&utm_medium=api_v3_business_search&utm_source=jN6KrDw7JW0Ffv2E0PiPDw"
        },
        {
         "alias": "the-wigwam-restaurant-ladysmith",
         "categories": [
          {
           "alias": "vietnamese",
           "title": "Vietnamese"
          },
          {
           "alias": "chinese",
           "title": "Chinese"
          },
          {
           "alias": "vegetarian",
           "title": "Vegetarian"
          }
         ],
         "coordinates": {
          "latitude": 48.9931583703582,
          "longitude": -123.817536899779
         },
         "display_phone": "+1 250-245-3433",
         "distance": 97.32595158938295,
         "id": "WWM0wvMvzI1vXb0b-2LdWQ",
         "image_url": "https://s3-media2.fl.yelpcdn.com/bphoto/PPsK2yj_rJ_aAKw86vnFWQ/o.jpg",
         "is_closed": false,
         "location": {
          "address1": "438 1st Avenue",
          "address2": "",
          "address3": null,
          "city": "Ladysmith",
          "country": "CA",
          "display_address": [
           "438 1st Avenue",
           "Ladysmith, BC V9G 1A5",
           "Canada"
          ],
          "state": "BC",
          "zip_code": "V9G 1A5"
         },
         "name": "The Wigwam Restaurant",
         "phone": "+12502453433",
         "rating": 1.5,
         "review_count": 2,
         "transactions": [],
         "url": "https://www.yelp.com/biz/the-wigwam-restaurant-ladysmith?adjust_creative=jN6KrDw7JW0Ffv2E0PiPDw&utm_campaign=yelp_api_v3&utm_medium=api_v3_business_search&utm_source=jN6KrDw7JW0Ffv2E0PiPDw"
        },
        {
         "alias": "dragon-city-restaurant-ladysmith",
         "categories": [
          {
           "alias": "chinese",
           "title": "Chinese"
          }
         ],
         "coordinates": {
          "latitude": 48.9927643706027,
          "longitude": -123.814081822697
         },
         "display_phone": "+1 250-245-8689",
         "distance": 310.03432853214446,
         "id": "QDqGoRFqeD7eCXHsyj1rew",
         "image_url": "https://s3-media2.fl.yelpcdn.com/bphoto/nMUUgwR6VzEYaQRQKlTiEA/o.jpg",
         "is_closed": false,
         "location": {
          "address1": "328 Esplanade Road",
          "address2": "Suite 316",
          "address3": "",
          "city": "Ladysmith",
          "country": "CA",
          "display_address": [
           "328 Esplanade Road",
           "Suite 316",
           "Ladysmith, BC V9G",
           "Canada"
          ],
          "state": "BC",
          "zip_code": "V9G"
         },
         "name": "Dragon City Restaurant",
         "phone": "+12502458689",
         "rating": 2,
         "review_count": 5,
         "transactions": [],
         "url": "https://www.yelp.com/biz/dragon-city-restaurant-ladysmith?adjust_creative=jN6KrDw7JW0Ffv2E0PiPDw&utm_campaign=yelp_api_v3&utm_medium=api_v3_business_search&utm_source=jN6KrDw7JW0Ffv2E0PiPDw"
        },
        {
         "alias": "timberland-pub-ladysmith",
         "categories": [
          {
           "alias": "pubs",
           "title": "Pubs"
          }
         ],
         "coordinates": {
          "latitude": 48.9878775976666,
          "longitude": -123.82209777832
         },
         "display_phone": "+1 250-245-0800",
         "distance": 747.0900582549527,
         "id": "iiBqa2EobFb2D6v3ZfJRBQ",
         "image_url": "",
         "is_closed": false,
         "location": {
          "address1": "1680 Timberlands Road",
          "address2": "",
          "address3": "",
          "city": "Ladysmith",
          "country": "CA",
          "display_address": [
           "1680 Timberlands Road",
           "Ladysmith, BC V9G 1K3",
           "Canada"
          ],
          "state": "BC",
          "zip_code": "V9G 1K3"
         },
         "name": "Timberland Pub",
         "phone": "+12502450800",
         "price": "$",
         "rating": 3.5,
         "review_count": 2,
         "transactions": [],
         "url": "https://www.yelp.com/biz/timberland-pub-ladysmith?adjust_creative=jN6KrDw7JW0Ffv2E0PiPDw&utm_campaign=yelp_api_v3&utm_medium=api_v3_business_search&utm_source=jN6KrDw7JW0Ffv2E0PiPDw"
        },
        {
         "alias": "taco-revolution-cobble-hill",
         "categories": [
          {
           "alias": "foodtrucks",
           "title": "Food Trucks"
          },
          {
           "alias": "mexican",
           "title": "Mexican"
          }
         ],
         "coordinates": {
          "latitude": 48.6869888305664,
          "longitude": -123.603912353516
         },
         "display_phone": "+1 250-244-6492",
         "distance": 37446.227935069466,
         "id": "vIcl1JYw_wpuKbueuqxerA",
         "image_url": "",
         "is_closed": false,
         "location": {
          "address1": null,
          "address2": null,
          "address3": "",
          "city": "Cobble Hill",
          "country": "CA",
          "display_address": [
           "Cobble Hill, BC V0R 1L5",
           "Canada"
          ],
          "state": "BC",
          "zip_code": "V0R 1L5"
         },
         "name": "Taco Revolution",
         "phone": "+12502446492",
         "rating": 5,
         "review_count": 1,
         "transactions": [],
         "url": "https://www.yelp.com/biz/taco-revolution-cobble-hill?adjust_creative=jN6KrDw7JW0Ffv2E0PiPDw&utm_campaign=yelp_api_v3&utm_medium=api_v3_business_search&utm_source=jN6KrDw7JW0Ffv2E0PiPDw"
        }
       ],
       "region": {
        "center": {
         "latitude": 48.99400256898083,
         "longitude": -123.81788919678714
        }
       },
       "total": 20
      },
      "text/plain": [
       "<IPython.core.display.JSON object>"
      ]
     },
     "execution_count": 129,
     "metadata": {
      "application/json": {
       "expanded": false,
       "root": "root"
      }
     },
     "output_type": "execute_result"
    }
   ],
   "source": [
    "# Use JSON to get a different view of the response\n",
    "\n",
    "JSON(Y_response)"
   ]
  },
  {
   "cell_type": "code",
   "execution_count": 130,
   "metadata": {},
   "outputs": [
    {
     "data": {
      "text/plain": [
       "'Wild Poppy Market'"
      ]
     },
     "execution_count": 130,
     "metadata": {},
     "output_type": "execute_result"
    }
   ],
   "source": [
    "# Access the name of the first POI\n",
    "\n",
    "Y_response['businesses'][0]['name']"
   ]
  },
  {
   "cell_type": "code",
   "execution_count": 131,
   "metadata": {},
   "outputs": [
    {
     "name": "stdout",
     "output_type": "stream",
     "text": [
      "['Wild Poppy Market', 'Old Town Bakery', 'Spice Hut', 'Fox And Hounds', 'Plantitude', 'Maya Norte', 'Appetit Food for Thought', 'In the Beantime Cafe', 'Kaede Sushi & Grill', 'Oyster Bay Cafe', 'Roberts Street Pizza', 'Phoenix Restaurant', 'Ironworks Cafe and Crêperie', \"Zack's\", 'Mr. Teriyaki and Miss Sushi', 'Tim Hortons', 'The Wigwam Restaurant', 'Dragon City Restaurant', 'Timberland Pub', 'Taco Revolution']\n"
     ]
    }
   ],
   "source": [
    "# identify all the points of interest returned by the Yelp API within a 1000 m radius of the Wild Poppy\n",
    "\n",
    "Y_POI = []\n",
    "\n",
    "for item in Y_response['businesses']:\n",
    "    Y_POI.append(item['name'])\n",
    "    \n",
    "print(Y_POI)"
   ]
  },
  {
   "cell_type": "markdown",
   "metadata": {},
   "source": [
    "Put your parsed results into a DataFrame"
   ]
  },
  {
   "cell_type": "code",
   "execution_count": 16,
   "metadata": {},
   "outputs": [
    {
     "data": {
      "text/html": [
       "<div>\n",
       "<style scoped>\n",
       "    .dataframe tbody tr th:only-of-type {\n",
       "        vertical-align: middle;\n",
       "    }\n",
       "\n",
       "    .dataframe tbody tr th {\n",
       "        vertical-align: top;\n",
       "    }\n",
       "\n",
       "    .dataframe thead th {\n",
       "        text-align: right;\n",
       "    }\n",
       "</style>\n",
       "<table border=\"1\" class=\"dataframe\">\n",
       "  <thead>\n",
       "    <tr style=\"text-align: right;\">\n",
       "      <th></th>\n",
       "      <th>businesses</th>\n",
       "      <th>total</th>\n",
       "      <th>region.center.longitude</th>\n",
       "      <th>region.center.latitude</th>\n",
       "    </tr>\n",
       "  </thead>\n",
       "  <tbody>\n",
       "    <tr>\n",
       "      <th>0</th>\n",
       "      <td>[{'id': 'RxVPUMP2slrLGoLO1jNzCw', 'alias': 'wi...</td>\n",
       "      <td>20</td>\n",
       "      <td>-123.817889</td>\n",
       "      <td>48.994003</td>\n",
       "    </tr>\n",
       "  </tbody>\n",
       "</table>\n",
       "</div>"
      ],
      "text/plain": [
       "                                          businesses  total  \\\n",
       "0  [{'id': 'RxVPUMP2slrLGoLO1jNzCw', 'alias': 'wi...     20   \n",
       "\n",
       "   region.center.longitude  region.center.latitude  \n",
       "0              -123.817889               48.994003  "
      ]
     },
     "execution_count": 16,
     "metadata": {},
     "output_type": "execute_result"
    }
   ],
   "source": [
    "# try to put the whole parsed response into a dataframe\n",
    "\n",
    "pd.json_normalize(Y_response)"
   ]
  },
  {
   "cell_type": "code",
   "execution_count": 374,
   "metadata": {},
   "outputs": [
    {
     "data": {
      "text/html": [
       "<div>\n",
       "<style scoped>\n",
       "    .dataframe tbody tr th:only-of-type {\n",
       "        vertical-align: middle;\n",
       "    }\n",
       "\n",
       "    .dataframe tbody tr th {\n",
       "        vertical-align: top;\n",
       "    }\n",
       "\n",
       "    .dataframe thead th {\n",
       "        text-align: right;\n",
       "    }\n",
       "</style>\n",
       "<table border=\"1\" class=\"dataframe\">\n",
       "  <thead>\n",
       "    <tr style=\"text-align: right;\">\n",
       "      <th></th>\n",
       "      <th>id</th>\n",
       "      <th>alias</th>\n",
       "      <th>name</th>\n",
       "      <th>image_url</th>\n",
       "      <th>is_closed</th>\n",
       "      <th>url</th>\n",
       "      <th>review_count</th>\n",
       "      <th>categories</th>\n",
       "      <th>rating</th>\n",
       "      <th>transactions</th>\n",
       "      <th>...</th>\n",
       "      <th>coordinates.latitude</th>\n",
       "      <th>coordinates.longitude</th>\n",
       "      <th>location.address1</th>\n",
       "      <th>location.address2</th>\n",
       "      <th>location.address3</th>\n",
       "      <th>location.city</th>\n",
       "      <th>location.zip_code</th>\n",
       "      <th>location.country</th>\n",
       "      <th>location.state</th>\n",
       "      <th>location.display_address</th>\n",
       "    </tr>\n",
       "  </thead>\n",
       "  <tbody>\n",
       "    <tr>\n",
       "      <th>0</th>\n",
       "      <td>RxVPUMP2slrLGoLO1jNzCw</td>\n",
       "      <td>wild-poppy-market-ladysmith-2</td>\n",
       "      <td>Wild Poppy Market</td>\n",
       "      <td>https://s3-media4.fl.yelpcdn.com/bphoto/2ha-5l...</td>\n",
       "      <td>False</td>\n",
       "      <td>https://www.yelp.com/biz/wild-poppy-market-lad...</td>\n",
       "      <td>31</td>\n",
       "      <td>[{'alias': 'bakeries', 'title': 'Bakeries'}, {...</td>\n",
       "      <td>4.5</td>\n",
       "      <td>[]</td>\n",
       "      <td>...</td>\n",
       "      <td>48.993950</td>\n",
       "      <td>-123.818158</td>\n",
       "      <td>541 1st Avenue</td>\n",
       "      <td></td>\n",
       "      <td></td>\n",
       "      <td>Ladysmith</td>\n",
       "      <td>V9G</td>\n",
       "      <td>CA</td>\n",
       "      <td>BC</td>\n",
       "      <td>[541 1st Avenue, Ladysmith, BC V9G, Canada]</td>\n",
       "    </tr>\n",
       "    <tr>\n",
       "      <th>1</th>\n",
       "      <td>NolpyYCEneVkMxOfO66HEQ</td>\n",
       "      <td>old-town-bakery-ladysmith</td>\n",
       "      <td>Old Town Bakery</td>\n",
       "      <td>https://s3-media2.fl.yelpcdn.com/bphoto/juE5xk...</td>\n",
       "      <td>False</td>\n",
       "      <td>https://www.yelp.com/biz/old-town-bakery-ladys...</td>\n",
       "      <td>33</td>\n",
       "      <td>[{'alias': 'bakeries', 'title': 'Bakeries'}]</td>\n",
       "      <td>4.5</td>\n",
       "      <td>[]</td>\n",
       "      <td>...</td>\n",
       "      <td>48.993309</td>\n",
       "      <td>-123.817640</td>\n",
       "      <td>510 1st Avenue</td>\n",
       "      <td></td>\n",
       "      <td></td>\n",
       "      <td>Ladysmith</td>\n",
       "      <td>V9G 1R3</td>\n",
       "      <td>CA</td>\n",
       "      <td>BC</td>\n",
       "      <td>[510 1st Avenue, Ladysmith, BC V9G 1R3, Canada]</td>\n",
       "    </tr>\n",
       "    <tr>\n",
       "      <th>2</th>\n",
       "      <td>eKNuWQkubnIGoUZAIFFg8Q</td>\n",
       "      <td>spice-hut-ladysmith-2</td>\n",
       "      <td>Spice Hut</td>\n",
       "      <td>https://s3-media2.fl.yelpcdn.com/bphoto/s2VSqp...</td>\n",
       "      <td>False</td>\n",
       "      <td>https://www.yelp.com/biz/spice-hut-ladysmith-2...</td>\n",
       "      <td>19</td>\n",
       "      <td>[{'alias': 'indpak', 'title': 'Indian'}]</td>\n",
       "      <td>4.5</td>\n",
       "      <td>[]</td>\n",
       "      <td>...</td>\n",
       "      <td>48.994116</td>\n",
       "      <td>-123.816207</td>\n",
       "      <td>510 Esplanade Avenue</td>\n",
       "      <td></td>\n",
       "      <td></td>\n",
       "      <td>Ladysmith</td>\n",
       "      <td>V9G</td>\n",
       "      <td>CA</td>\n",
       "      <td>BC</td>\n",
       "      <td>[510 Esplanade Avenue, Ladysmith, BC V9G, Canada]</td>\n",
       "    </tr>\n",
       "    <tr>\n",
       "      <th>3</th>\n",
       "      <td>5g8G8DnCI-tBnLiUxUEXzA</td>\n",
       "      <td>fox-and-hounds-ladysmith</td>\n",
       "      <td>Fox And Hounds</td>\n",
       "      <td>https://s3-media1.fl.yelpcdn.com/bphoto/XPnymM...</td>\n",
       "      <td>False</td>\n",
       "      <td>https://www.yelp.com/biz/fox-and-hounds-ladysm...</td>\n",
       "      <td>19</td>\n",
       "      <td>[{'alias': 'pubs', 'title': 'Pubs'}]</td>\n",
       "      <td>4.0</td>\n",
       "      <td>[]</td>\n",
       "      <td>...</td>\n",
       "      <td>48.994318</td>\n",
       "      <td>-123.817674</td>\n",
       "      <td>11 High Street</td>\n",
       "      <td></td>\n",
       "      <td></td>\n",
       "      <td>Ladysmith</td>\n",
       "      <td>V9G</td>\n",
       "      <td>CA</td>\n",
       "      <td>BC</td>\n",
       "      <td>[11 High Street, Ladysmith, BC V9G, Canada]</td>\n",
       "    </tr>\n",
       "    <tr>\n",
       "      <th>4</th>\n",
       "      <td>0inqHeKSgGb0ju40sPviSQ</td>\n",
       "      <td>plantitude-ladysmith</td>\n",
       "      <td>Plantitude</td>\n",
       "      <td>https://s3-media2.fl.yelpcdn.com/bphoto/93UFHT...</td>\n",
       "      <td>False</td>\n",
       "      <td>https://www.yelp.com/biz/plantitude-ladysmith?...</td>\n",
       "      <td>7</td>\n",
       "      <td>[{'alias': 'vegan', 'title': 'Vegan'}]</td>\n",
       "      <td>5.0</td>\n",
       "      <td>[]</td>\n",
       "      <td>...</td>\n",
       "      <td>48.992936</td>\n",
       "      <td>-123.816630</td>\n",
       "      <td>431 1st Avenue</td>\n",
       "      <td></td>\n",
       "      <td>None</td>\n",
       "      <td>Ladysmith</td>\n",
       "      <td>V9G 1A9</td>\n",
       "      <td>CA</td>\n",
       "      <td>BC</td>\n",
       "      <td>[431 1st Avenue, Ladysmith, BC V9G 1A9, Canada]</td>\n",
       "    </tr>\n",
       "  </tbody>\n",
       "</table>\n",
       "<p>5 rows × 24 columns</p>\n",
       "</div>"
      ],
      "text/plain": [
       "                       id                          alias               name  \\\n",
       "0  RxVPUMP2slrLGoLO1jNzCw  wild-poppy-market-ladysmith-2  Wild Poppy Market   \n",
       "1  NolpyYCEneVkMxOfO66HEQ      old-town-bakery-ladysmith    Old Town Bakery   \n",
       "2  eKNuWQkubnIGoUZAIFFg8Q          spice-hut-ladysmith-2          Spice Hut   \n",
       "3  5g8G8DnCI-tBnLiUxUEXzA       fox-and-hounds-ladysmith     Fox And Hounds   \n",
       "4  0inqHeKSgGb0ju40sPviSQ           plantitude-ladysmith         Plantitude   \n",
       "\n",
       "                                           image_url  is_closed  \\\n",
       "0  https://s3-media4.fl.yelpcdn.com/bphoto/2ha-5l...      False   \n",
       "1  https://s3-media2.fl.yelpcdn.com/bphoto/juE5xk...      False   \n",
       "2  https://s3-media2.fl.yelpcdn.com/bphoto/s2VSqp...      False   \n",
       "3  https://s3-media1.fl.yelpcdn.com/bphoto/XPnymM...      False   \n",
       "4  https://s3-media2.fl.yelpcdn.com/bphoto/93UFHT...      False   \n",
       "\n",
       "                                                 url  review_count  \\\n",
       "0  https://www.yelp.com/biz/wild-poppy-market-lad...            31   \n",
       "1  https://www.yelp.com/biz/old-town-bakery-ladys...            33   \n",
       "2  https://www.yelp.com/biz/spice-hut-ladysmith-2...            19   \n",
       "3  https://www.yelp.com/biz/fox-and-hounds-ladysm...            19   \n",
       "4  https://www.yelp.com/biz/plantitude-ladysmith?...             7   \n",
       "\n",
       "                                          categories  rating transactions  \\\n",
       "0  [{'alias': 'bakeries', 'title': 'Bakeries'}, {...     4.5           []   \n",
       "1       [{'alias': 'bakeries', 'title': 'Bakeries'}]     4.5           []   \n",
       "2           [{'alias': 'indpak', 'title': 'Indian'}]     4.5           []   \n",
       "3               [{'alias': 'pubs', 'title': 'Pubs'}]     4.0           []   \n",
       "4             [{'alias': 'vegan', 'title': 'Vegan'}]     5.0           []   \n",
       "\n",
       "   ... coordinates.latitude coordinates.longitude     location.address1  \\\n",
       "0  ...            48.993950           -123.818158        541 1st Avenue   \n",
       "1  ...            48.993309           -123.817640        510 1st Avenue   \n",
       "2  ...            48.994116           -123.816207  510 Esplanade Avenue   \n",
       "3  ...            48.994318           -123.817674        11 High Street   \n",
       "4  ...            48.992936           -123.816630        431 1st Avenue   \n",
       "\n",
       "   location.address2  location.address3  location.city location.zip_code  \\\n",
       "0                                            Ladysmith               V9G   \n",
       "1                                            Ladysmith           V9G 1R3   \n",
       "2                                            Ladysmith               V9G   \n",
       "3                                            Ladysmith               V9G   \n",
       "4                                  None      Ladysmith           V9G 1A9   \n",
       "\n",
       "  location.country location.state  \\\n",
       "0               CA             BC   \n",
       "1               CA             BC   \n",
       "2               CA             BC   \n",
       "3               CA             BC   \n",
       "4               CA             BC   \n",
       "\n",
       "                            location.display_address  \n",
       "0        [541 1st Avenue, Ladysmith, BC V9G, Canada]  \n",
       "1    [510 1st Avenue, Ladysmith, BC V9G 1R3, Canada]  \n",
       "2  [510 Esplanade Avenue, Ladysmith, BC V9G, Canada]  \n",
       "3        [11 High Street, Ladysmith, BC V9G, Canada]  \n",
       "4    [431 1st Avenue, Ladysmith, BC V9G 1A9, Canada]  \n",
       "\n",
       "[5 rows x 24 columns]"
      ]
     },
     "execution_count": 374,
     "metadata": {},
     "output_type": "execute_result"
    }
   ],
   "source": [
    "# not what I want, so access businesses and put into dataframe\n",
    "\n",
    "Org_Yelp_df = pd.json_normalize(Y_response, record_path='businesses')\n",
    "Org_Yelp_df.head()"
   ]
  },
  {
   "cell_type": "code",
   "execution_count": 375,
   "metadata": {},
   "outputs": [
    {
     "data": {
      "text/plain": [
       "(20, 24)"
      ]
     },
     "execution_count": 375,
     "metadata": {},
     "output_type": "execute_result"
    }
   ],
   "source": [
    "Org_Yelp_df.shape"
   ]
  },
  {
   "cell_type": "code",
   "execution_count": 376,
   "metadata": {},
   "outputs": [
    {
     "name": "stdout",
     "output_type": "stream",
     "text": [
      "<class 'pandas.core.frame.DataFrame'>\n",
      "RangeIndex: 20 entries, 0 to 19\n",
      "Data columns (total 24 columns):\n",
      " #   Column                    Non-Null Count  Dtype  \n",
      "---  ------                    --------------  -----  \n",
      " 0   id                        20 non-null     object \n",
      " 1   alias                     20 non-null     object \n",
      " 2   name                      20 non-null     object \n",
      " 3   image_url                 20 non-null     object \n",
      " 4   is_closed                 20 non-null     bool   \n",
      " 5   url                       20 non-null     object \n",
      " 6   review_count              20 non-null     int64  \n",
      " 7   categories                20 non-null     object \n",
      " 8   rating                    20 non-null     float64\n",
      " 9   transactions              20 non-null     object \n",
      " 10  price                     11 non-null     object \n",
      " 11  phone                     20 non-null     object \n",
      " 12  display_phone             20 non-null     object \n",
      " 13  distance                  20 non-null     float64\n",
      " 14  coordinates.latitude      20 non-null     float64\n",
      " 15  coordinates.longitude     20 non-null     float64\n",
      " 16  location.address1         19 non-null     object \n",
      " 17  location.address2         19 non-null     object \n",
      " 18  location.address3         14 non-null     object \n",
      " 19  location.city             20 non-null     object \n",
      " 20  location.zip_code         20 non-null     object \n",
      " 21  location.country          20 non-null     object \n",
      " 22  location.state            20 non-null     object \n",
      " 23  location.display_address  20 non-null     object \n",
      "dtypes: bool(1), float64(4), int64(1), object(18)\n",
      "memory usage: 3.7+ KB\n"
     ]
    }
   ],
   "source": [
    "Org_Yelp_df.info()"
   ]
  },
  {
   "cell_type": "code",
   "execution_count": 377,
   "metadata": {},
   "outputs": [
    {
     "data": {
      "text/html": [
       "<div>\n",
       "<style scoped>\n",
       "    .dataframe tbody tr th:only-of-type {\n",
       "        vertical-align: middle;\n",
       "    }\n",
       "\n",
       "    .dataframe tbody tr th {\n",
       "        vertical-align: top;\n",
       "    }\n",
       "\n",
       "    .dataframe thead th {\n",
       "        text-align: right;\n",
       "    }\n",
       "</style>\n",
       "<table border=\"1\" class=\"dataframe\">\n",
       "  <thead>\n",
       "    <tr style=\"text-align: right;\">\n",
       "      <th></th>\n",
       "      <th>review_count</th>\n",
       "      <th>rating</th>\n",
       "      <th>distance</th>\n",
       "      <th>coordinates.latitude</th>\n",
       "      <th>coordinates.longitude</th>\n",
       "    </tr>\n",
       "  </thead>\n",
       "  <tbody>\n",
       "    <tr>\n",
       "      <th>count</th>\n",
       "      <td>20.000000</td>\n",
       "      <td>20.00000</td>\n",
       "      <td>20.000000</td>\n",
       "      <td>20.000000</td>\n",
       "      <td>20.000000</td>\n",
       "    </tr>\n",
       "    <tr>\n",
       "      <th>mean</th>\n",
       "      <td>10.350000</td>\n",
       "      <td>3.97500</td>\n",
       "      <td>2061.531134</td>\n",
       "      <td>48.978514</td>\n",
       "      <td>-123.807110</td>\n",
       "    </tr>\n",
       "    <tr>\n",
       "      <th>std</th>\n",
       "      <td>9.022049</td>\n",
       "      <td>0.89553</td>\n",
       "      <td>8330.870661</td>\n",
       "      <td>0.068645</td>\n",
       "      <td>0.047886</td>\n",
       "    </tr>\n",
       "    <tr>\n",
       "      <th>min</th>\n",
       "      <td>1.000000</td>\n",
       "      <td>1.50000</td>\n",
       "      <td>20.480725</td>\n",
       "      <td>48.686989</td>\n",
       "      <td>-123.823662</td>\n",
       "    </tr>\n",
       "    <tr>\n",
       "      <th>25%</th>\n",
       "      <td>4.750000</td>\n",
       "      <td>3.50000</td>\n",
       "      <td>73.153584</td>\n",
       "      <td>48.993120</td>\n",
       "      <td>-123.818336</td>\n",
       "    </tr>\n",
       "    <tr>\n",
       "      <th>50%</th>\n",
       "      <td>7.000000</td>\n",
       "      <td>4.25000</td>\n",
       "      <td>144.596891</td>\n",
       "      <td>48.993625</td>\n",
       "      <td>-123.817657</td>\n",
       "    </tr>\n",
       "    <tr>\n",
       "      <th>75%</th>\n",
       "      <td>13.250000</td>\n",
       "      <td>4.50000</td>\n",
       "      <td>273.674498</td>\n",
       "      <td>48.994336</td>\n",
       "      <td>-123.815778</td>\n",
       "    </tr>\n",
       "    <tr>\n",
       "      <th>max</th>\n",
       "      <td>33.000000</td>\n",
       "      <td>5.00000</td>\n",
       "      <td>37446.227935</td>\n",
       "      <td>48.997681</td>\n",
       "      <td>-123.603912</td>\n",
       "    </tr>\n",
       "  </tbody>\n",
       "</table>\n",
       "</div>"
      ],
      "text/plain": [
       "       review_count    rating      distance  coordinates.latitude  \\\n",
       "count     20.000000  20.00000     20.000000             20.000000   \n",
       "mean      10.350000   3.97500   2061.531134             48.978514   \n",
       "std        9.022049   0.89553   8330.870661              0.068645   \n",
       "min        1.000000   1.50000     20.480725             48.686989   \n",
       "25%        4.750000   3.50000     73.153584             48.993120   \n",
       "50%        7.000000   4.25000    144.596891             48.993625   \n",
       "75%       13.250000   4.50000    273.674498             48.994336   \n",
       "max       33.000000   5.00000  37446.227935             48.997681   \n",
       "\n",
       "       coordinates.longitude  \n",
       "count              20.000000  \n",
       "mean             -123.807110  \n",
       "std                 0.047886  \n",
       "min              -123.823662  \n",
       "25%              -123.818336  \n",
       "50%              -123.817657  \n",
       "75%              -123.815778  \n",
       "max              -123.603912  "
      ]
     },
     "execution_count": 377,
     "metadata": {},
     "output_type": "execute_result"
    }
   ],
   "source": [
    "Org_Yelp_df.describe()"
   ]
  },
  {
   "cell_type": "code",
   "execution_count": 155,
   "metadata": {},
   "outputs": [
    {
     "data": {
      "text/html": [
       "<div>\n",
       "<style scoped>\n",
       "    .dataframe tbody tr th:only-of-type {\n",
       "        vertical-align: middle;\n",
       "    }\n",
       "\n",
       "    .dataframe tbody tr th {\n",
       "        vertical-align: top;\n",
       "    }\n",
       "\n",
       "    .dataframe thead th {\n",
       "        text-align: right;\n",
       "    }\n",
       "</style>\n",
       "<table border=\"1\" class=\"dataframe\">\n",
       "  <thead>\n",
       "    <tr style=\"text-align: right;\">\n",
       "      <th></th>\n",
       "      <th>name</th>\n",
       "      <th>categories</th>\n",
       "      <th>display_phone</th>\n",
       "      <th>address</th>\n",
       "      <th>price</th>\n",
       "      <th>rating</th>\n",
       "      <th>review_count</th>\n",
       "    </tr>\n",
       "  </thead>\n",
       "  <tbody>\n",
       "    <tr>\n",
       "      <th>0</th>\n",
       "      <td>Wild Poppy Market</td>\n",
       "      <td>Bakeries, Breakfast &amp; Brunch, Sandwiches</td>\n",
       "      <td>+1 250-924-8696</td>\n",
       "      <td>541 1st Avenue, Ladysmith, BC V9G, Canada</td>\n",
       "      <td>$$</td>\n",
       "      <td>4.5</td>\n",
       "      <td>31</td>\n",
       "    </tr>\n",
       "    <tr>\n",
       "      <th>1</th>\n",
       "      <td>Old Town Bakery</td>\n",
       "      <td>Bakeries</td>\n",
       "      <td>+1 250-245-2531</td>\n",
       "      <td>510 1st Avenue, Ladysmith, BC V9G 1R3, Canada</td>\n",
       "      <td>$$</td>\n",
       "      <td>4.5</td>\n",
       "      <td>33</td>\n",
       "    </tr>\n",
       "    <tr>\n",
       "      <th>2</th>\n",
       "      <td>Spice Hut</td>\n",
       "      <td>Indian</td>\n",
       "      <td>+1 250-924-8222</td>\n",
       "      <td>510 Esplanade Avenue, Ladysmith, BC V9G, Canada</td>\n",
       "      <td>$$</td>\n",
       "      <td>4.5</td>\n",
       "      <td>19</td>\n",
       "    </tr>\n",
       "    <tr>\n",
       "      <th>3</th>\n",
       "      <td>Fox And Hounds</td>\n",
       "      <td>Pubs</td>\n",
       "      <td>+1 250-924-1747</td>\n",
       "      <td>11 High Street, Ladysmith, BC V9G, Canada</td>\n",
       "      <td>$$</td>\n",
       "      <td>4.0</td>\n",
       "      <td>19</td>\n",
       "    </tr>\n",
       "    <tr>\n",
       "      <th>4</th>\n",
       "      <td>Plantitude</td>\n",
       "      <td>Vegan</td>\n",
       "      <td>+1 250-924-1201</td>\n",
       "      <td>431 1st Avenue, Ladysmith, BC V9G 1A9, Canada</td>\n",
       "      <td>No Price</td>\n",
       "      <td>5.0</td>\n",
       "      <td>7</td>\n",
       "    </tr>\n",
       "    <tr>\n",
       "      <th>5</th>\n",
       "      <td>Maya Norte</td>\n",
       "      <td>Spanish, Mexican</td>\n",
       "      <td>+1 250-924-1300</td>\n",
       "      <td>18 Roberts Street, Ladysmith, BC V9G, Canada</td>\n",
       "      <td>No Price</td>\n",
       "      <td>4.5</td>\n",
       "      <td>12</td>\n",
       "    </tr>\n",
       "    <tr>\n",
       "      <th>6</th>\n",
       "      <td>Appetit Food for Thought</td>\n",
       "      <td>Thai, Asian Fusion, Breakfast &amp; Brunch</td>\n",
       "      <td>+1 250-924-1321</td>\n",
       "      <td>534 1st Avenue, Ladysmith, BC V9G 1A9, Canada</td>\n",
       "      <td>$$</td>\n",
       "      <td>4.5</td>\n",
       "      <td>8</td>\n",
       "    </tr>\n",
       "    <tr>\n",
       "      <th>7</th>\n",
       "      <td>In the Beantime Cafe</td>\n",
       "      <td>Coffee &amp; Tea</td>\n",
       "      <td>+1 250-245-2305</td>\n",
       "      <td>18 High St, Ladysmith, BC V9G 1B9, Canada</td>\n",
       "      <td>$$</td>\n",
       "      <td>4.0</td>\n",
       "      <td>13</td>\n",
       "    </tr>\n",
       "    <tr>\n",
       "      <th>8</th>\n",
       "      <td>Kaede Sushi &amp; Grill</td>\n",
       "      <td>Japanese, Sushi Bars</td>\n",
       "      <td>+1 250-924-1166</td>\n",
       "      <td>734 Esplanade Avenue, Ladysmith, BC V9G 1A1, C...</td>\n",
       "      <td>No Price</td>\n",
       "      <td>4.5</td>\n",
       "      <td>7</td>\n",
       "    </tr>\n",
       "    <tr>\n",
       "      <th>9</th>\n",
       "      <td>Oyster Bay Cafe</td>\n",
       "      <td>Cafes</td>\n",
       "      <td>+1 250-924-2245</td>\n",
       "      <td>611 Oyster Bay Drive, Ladysmith Maritime Socie...</td>\n",
       "      <td>$$</td>\n",
       "      <td>4.5</td>\n",
       "      <td>7</td>\n",
       "    </tr>\n",
       "    <tr>\n",
       "      <th>10</th>\n",
       "      <td>Roberts Street Pizza</td>\n",
       "      <td>Pizza, Italian</td>\n",
       "      <td>+1 250-245-1119</td>\n",
       "      <td>20 Roberts Street, Ladysmith, BC V9G 1A5, Canada</td>\n",
       "      <td>$$</td>\n",
       "      <td>3.5</td>\n",
       "      <td>14</td>\n",
       "    </tr>\n",
       "    <tr>\n",
       "      <th>11</th>\n",
       "      <td>Phoenix Restaurant</td>\n",
       "      <td>Chinese</td>\n",
       "      <td>+1 250-245-3263</td>\n",
       "      <td>112 High Street, Ladysmith, BC V9G 1B3, Canada</td>\n",
       "      <td>$$</td>\n",
       "      <td>4.5</td>\n",
       "      <td>5</td>\n",
       "    </tr>\n",
       "    <tr>\n",
       "      <th>12</th>\n",
       "      <td>Ironworks Cafe and Crêperie</td>\n",
       "      <td>Creperies, Cafes</td>\n",
       "      <td>+1 250-912-0064</td>\n",
       "      <td>422 Esplanade Ave, Ladysmith, BC V9G 1A1, Canada</td>\n",
       "      <td>No Price</td>\n",
       "      <td>4.0</td>\n",
       "      <td>8</td>\n",
       "    </tr>\n",
       "    <tr>\n",
       "      <th>13</th>\n",
       "      <td>Zack's</td>\n",
       "      <td>Sandwiches, Burgers, Lounges</td>\n",
       "      <td>+1 250-245-2749</td>\n",
       "      <td>530 1 Avenue, Ladysmith, BC V9G 1A1, Canada</td>\n",
       "      <td>No Price</td>\n",
       "      <td>3.5</td>\n",
       "      <td>4</td>\n",
       "    </tr>\n",
       "    <tr>\n",
       "      <th>14</th>\n",
       "      <td>Mr. Teriyaki and Miss Sushi</td>\n",
       "      <td>Sushi Bars, Japanese</td>\n",
       "      <td>+1 250-924-2221</td>\n",
       "      <td>821 1st Avenue, Ladysmith, BC V9G 1A4, Canada</td>\n",
       "      <td>$</td>\n",
       "      <td>4.0</td>\n",
       "      <td>7</td>\n",
       "    </tr>\n",
       "    <tr>\n",
       "      <th>15</th>\n",
       "      <td>Tim Hortons</td>\n",
       "      <td>Coffee &amp; Tea</td>\n",
       "      <td>+1 250-245-2303</td>\n",
       "      <td>1115A 1st Avenue, Ladysmith, BC V9G 1A4, Canada</td>\n",
       "      <td>No Price</td>\n",
       "      <td>3.5</td>\n",
       "      <td>3</td>\n",
       "    </tr>\n",
       "    <tr>\n",
       "      <th>16</th>\n",
       "      <td>The Wigwam Restaurant</td>\n",
       "      <td>Vietnamese, Chinese, Vegetarian</td>\n",
       "      <td>+1 250-245-3433</td>\n",
       "      <td>438 1st Avenue, Ladysmith, BC V9G 1A5, Canada</td>\n",
       "      <td>No Price</td>\n",
       "      <td>1.5</td>\n",
       "      <td>2</td>\n",
       "    </tr>\n",
       "    <tr>\n",
       "      <th>17</th>\n",
       "      <td>Dragon City Restaurant</td>\n",
       "      <td>Chinese</td>\n",
       "      <td>+1 250-245-8689</td>\n",
       "      <td>328 Esplanade Road, Suite 316, Ladysmith, BC V...</td>\n",
       "      <td>No Price</td>\n",
       "      <td>2.0</td>\n",
       "      <td>5</td>\n",
       "    </tr>\n",
       "    <tr>\n",
       "      <th>18</th>\n",
       "      <td>Timberland Pub</td>\n",
       "      <td>Pubs</td>\n",
       "      <td>+1 250-245-0800</td>\n",
       "      <td>1680 Timberlands Road, Ladysmith, BC V9G 1K3, ...</td>\n",
       "      <td>$</td>\n",
       "      <td>3.5</td>\n",
       "      <td>2</td>\n",
       "    </tr>\n",
       "    <tr>\n",
       "      <th>19</th>\n",
       "      <td>Taco Revolution</td>\n",
       "      <td>Food Trucks, Mexican</td>\n",
       "      <td>+1 250-244-6492</td>\n",
       "      <td>Cobble Hill, BC V0R 1L5, Canada</td>\n",
       "      <td>No Price</td>\n",
       "      <td>5.0</td>\n",
       "      <td>1</td>\n",
       "    </tr>\n",
       "  </tbody>\n",
       "</table>\n",
       "</div>"
      ],
      "text/plain": [
       "                           name                                categories  \\\n",
       "0             Wild Poppy Market  Bakeries, Breakfast & Brunch, Sandwiches   \n",
       "1               Old Town Bakery                                  Bakeries   \n",
       "2                     Spice Hut                                    Indian   \n",
       "3                Fox And Hounds                                      Pubs   \n",
       "4                    Plantitude                                     Vegan   \n",
       "5                    Maya Norte                          Spanish, Mexican   \n",
       "6      Appetit Food for Thought    Thai, Asian Fusion, Breakfast & Brunch   \n",
       "7          In the Beantime Cafe                              Coffee & Tea   \n",
       "8           Kaede Sushi & Grill                      Japanese, Sushi Bars   \n",
       "9               Oyster Bay Cafe                                     Cafes   \n",
       "10         Roberts Street Pizza                            Pizza, Italian   \n",
       "11           Phoenix Restaurant                                   Chinese   \n",
       "12  Ironworks Cafe and Crêperie                          Creperies, Cafes   \n",
       "13                       Zack's              Sandwiches, Burgers, Lounges   \n",
       "14  Mr. Teriyaki and Miss Sushi                      Sushi Bars, Japanese   \n",
       "15                  Tim Hortons                              Coffee & Tea   \n",
       "16        The Wigwam Restaurant           Vietnamese, Chinese, Vegetarian   \n",
       "17       Dragon City Restaurant                                   Chinese   \n",
       "18               Timberland Pub                                      Pubs   \n",
       "19              Taco Revolution                      Food Trucks, Mexican   \n",
       "\n",
       "      display_phone                                            address  \\\n",
       "0   +1 250-924-8696          541 1st Avenue, Ladysmith, BC V9G, Canada   \n",
       "1   +1 250-245-2531      510 1st Avenue, Ladysmith, BC V9G 1R3, Canada   \n",
       "2   +1 250-924-8222    510 Esplanade Avenue, Ladysmith, BC V9G, Canada   \n",
       "3   +1 250-924-1747          11 High Street, Ladysmith, BC V9G, Canada   \n",
       "4   +1 250-924-1201      431 1st Avenue, Ladysmith, BC V9G 1A9, Canada   \n",
       "5   +1 250-924-1300       18 Roberts Street, Ladysmith, BC V9G, Canada   \n",
       "6   +1 250-924-1321      534 1st Avenue, Ladysmith, BC V9G 1A9, Canada   \n",
       "7   +1 250-245-2305          18 High St, Ladysmith, BC V9G 1B9, Canada   \n",
       "8   +1 250-924-1166  734 Esplanade Avenue, Ladysmith, BC V9G 1A1, C...   \n",
       "9   +1 250-924-2245  611 Oyster Bay Drive, Ladysmith Maritime Socie...   \n",
       "10  +1 250-245-1119   20 Roberts Street, Ladysmith, BC V9G 1A5, Canada   \n",
       "11  +1 250-245-3263     112 High Street, Ladysmith, BC V9G 1B3, Canada   \n",
       "12  +1 250-912-0064   422 Esplanade Ave, Ladysmith, BC V9G 1A1, Canada   \n",
       "13  +1 250-245-2749        530 1 Avenue, Ladysmith, BC V9G 1A1, Canada   \n",
       "14  +1 250-924-2221      821 1st Avenue, Ladysmith, BC V9G 1A4, Canada   \n",
       "15  +1 250-245-2303    1115A 1st Avenue, Ladysmith, BC V9G 1A4, Canada   \n",
       "16  +1 250-245-3433      438 1st Avenue, Ladysmith, BC V9G 1A5, Canada   \n",
       "17  +1 250-245-8689  328 Esplanade Road, Suite 316, Ladysmith, BC V...   \n",
       "18  +1 250-245-0800  1680 Timberlands Road, Ladysmith, BC V9G 1K3, ...   \n",
       "19  +1 250-244-6492                    Cobble Hill, BC V0R 1L5, Canada   \n",
       "\n",
       "       price  rating  review_count  \n",
       "0         $$     4.5            31  \n",
       "1         $$     4.5            33  \n",
       "2         $$     4.5            19  \n",
       "3         $$     4.0            19  \n",
       "4   No Price     5.0             7  \n",
       "5   No Price     4.5            12  \n",
       "6         $$     4.5             8  \n",
       "7         $$     4.0            13  \n",
       "8   No Price     4.5             7  \n",
       "9         $$     4.5             7  \n",
       "10        $$     3.5            14  \n",
       "11        $$     4.5             5  \n",
       "12  No Price     4.0             8  \n",
       "13  No Price     3.5             4  \n",
       "14         $     4.0             7  \n",
       "15  No Price     3.5             3  \n",
       "16  No Price     1.5             2  \n",
       "17  No Price     2.0             5  \n",
       "18         $     3.5             2  \n",
       "19  No Price     5.0             1  "
      ]
     },
     "execution_count": 155,
     "metadata": {},
     "output_type": "execute_result"
    }
   ],
   "source": [
    "business_list = []\n",
    "\n",
    "for business in Y_response['businesses']:\n",
    "    # print(business['name'])\n",
    "    # print(', '.join(cat['title'] for cat in business['categories']))\n",
    "    # print(business['display_phone'])\n",
    "    # print(', '.join(business['location']['display_address']))\n",
    "    # print(business['price'])\n",
    "    # print(business['rating'])\n",
    "    # print(business['review_count'])\n",
    "    business_list.append({\n",
    "        'name':business['name'],\n",
    "        'categories':', '.join(cat['title'] for cat in business['categories']),\n",
    "        'display_phone':business['display_phone'],\n",
    "        'address':', '.join(business['location']['display_address']),\n",
    "        'price':business['price'] if business.get('price') else 'No Price',\n",
    "        'rating':business['rating'],\n",
    "        'review_count':business['review_count']\n",
    "    })\n",
    "Yelp_df = pd.DataFrame(business_list)\n",
    "Yelp_df"
   ]
  },
  {
   "cell_type": "code",
   "execution_count": 336,
   "metadata": {},
   "outputs": [
    {
     "data": {
      "text/html": [
       "<div>\n",
       "<style scoped>\n",
       "    .dataframe tbody tr th:only-of-type {\n",
       "        vertical-align: middle;\n",
       "    }\n",
       "\n",
       "    .dataframe tbody tr th {\n",
       "        vertical-align: top;\n",
       "    }\n",
       "\n",
       "    .dataframe thead th {\n",
       "        text-align: right;\n",
       "    }\n",
       "</style>\n",
       "<table border=\"1\" class=\"dataframe\">\n",
       "  <thead>\n",
       "    <tr style=\"text-align: right;\">\n",
       "      <th></th>\n",
       "      <th>name</th>\n",
       "      <th>categories</th>\n",
       "      <th>display_phone</th>\n",
       "      <th>address</th>\n",
       "      <th>price</th>\n",
       "      <th>rating</th>\n",
       "      <th>review_count</th>\n",
       "      <th>poi_id</th>\n",
       "    </tr>\n",
       "  </thead>\n",
       "  <tbody>\n",
       "    <tr>\n",
       "      <th>0</th>\n",
       "      <td>Wild Poppy Market</td>\n",
       "      <td>Bakeries, Breakfast &amp; Brunch, Sandwiches</td>\n",
       "      <td>+1 250-924-8696</td>\n",
       "      <td>541 1st Avenue, Ladysmith, BC V9G, Canada</td>\n",
       "      <td>$$</td>\n",
       "      <td>4.5</td>\n",
       "      <td>31</td>\n",
       "      <td>1</td>\n",
       "    </tr>\n",
       "    <tr>\n",
       "      <th>1</th>\n",
       "      <td>Old Town Bakery</td>\n",
       "      <td>Bakeries</td>\n",
       "      <td>+1 250-245-2531</td>\n",
       "      <td>510 1st Avenue, Ladysmith, BC V9G 1R3, Canada</td>\n",
       "      <td>$$</td>\n",
       "      <td>4.5</td>\n",
       "      <td>33</td>\n",
       "      <td>2</td>\n",
       "    </tr>\n",
       "    <tr>\n",
       "      <th>2</th>\n",
       "      <td>Spice Hut</td>\n",
       "      <td>Indian</td>\n",
       "      <td>+1 250-924-8222</td>\n",
       "      <td>510 Esplanade Avenue, Ladysmith, BC V9G, Canada</td>\n",
       "      <td>$$</td>\n",
       "      <td>4.5</td>\n",
       "      <td>19</td>\n",
       "      <td>3</td>\n",
       "    </tr>\n",
       "    <tr>\n",
       "      <th>3</th>\n",
       "      <td>Fox And Hounds</td>\n",
       "      <td>Pubs</td>\n",
       "      <td>+1 250-924-1747</td>\n",
       "      <td>11 High Street, Ladysmith, BC V9G, Canada</td>\n",
       "      <td>$$</td>\n",
       "      <td>4.0</td>\n",
       "      <td>19</td>\n",
       "      <td>4</td>\n",
       "    </tr>\n",
       "    <tr>\n",
       "      <th>4</th>\n",
       "      <td>Plantitude</td>\n",
       "      <td>Vegan</td>\n",
       "      <td>+1 250-924-1201</td>\n",
       "      <td>431 1st Avenue, Ladysmith, BC V9G 1A9, Canada</td>\n",
       "      <td>No Price</td>\n",
       "      <td>5.0</td>\n",
       "      <td>7</td>\n",
       "      <td>5</td>\n",
       "    </tr>\n",
       "  </tbody>\n",
       "</table>\n",
       "</div>"
      ],
      "text/plain": [
       "                name                                categories  \\\n",
       "0  Wild Poppy Market  Bakeries, Breakfast & Brunch, Sandwiches   \n",
       "1    Old Town Bakery                                  Bakeries   \n",
       "2          Spice Hut                                    Indian   \n",
       "3     Fox And Hounds                                      Pubs   \n",
       "4         Plantitude                                     Vegan   \n",
       "\n",
       "     display_phone                                          address     price  \\\n",
       "0  +1 250-924-8696        541 1st Avenue, Ladysmith, BC V9G, Canada        $$   \n",
       "1  +1 250-245-2531    510 1st Avenue, Ladysmith, BC V9G 1R3, Canada        $$   \n",
       "2  +1 250-924-8222  510 Esplanade Avenue, Ladysmith, BC V9G, Canada        $$   \n",
       "3  +1 250-924-1747        11 High Street, Ladysmith, BC V9G, Canada        $$   \n",
       "4  +1 250-924-1201    431 1st Avenue, Ladysmith, BC V9G 1A9, Canada  No Price   \n",
       "\n",
       "   rating  review_count  poi_id  \n",
       "0     4.5            31       1  \n",
       "1     4.5            33       2  \n",
       "2     4.5            19       3  \n",
       "3     4.0            19       4  \n",
       "4     5.0             7       5  "
      ]
     },
     "execution_count": 336,
     "metadata": {},
     "output_type": "execute_result"
    }
   ],
   "source": [
    "# add a primary key for POI name\n",
    "\n",
    "Yelp_df['poi_id'] = range(1,(len(Yelp_df['name'])+1))\n",
    "Yelp_df.head()"
   ]
  },
  {
   "cell_type": "code",
   "execution_count": 191,
   "metadata": {},
   "outputs": [],
   "source": [
    "business_df = Yelp_df[['name','price','rating','review_count']]"
   ]
  },
  {
   "cell_type": "code",
   "execution_count": 192,
   "metadata": {},
   "outputs": [
    {
     "data": {
      "text/html": [
       "<div>\n",
       "<style scoped>\n",
       "    .dataframe tbody tr th:only-of-type {\n",
       "        vertical-align: middle;\n",
       "    }\n",
       "\n",
       "    .dataframe tbody tr th {\n",
       "        vertical-align: top;\n",
       "    }\n",
       "\n",
       "    .dataframe thead th {\n",
       "        text-align: right;\n",
       "    }\n",
       "</style>\n",
       "<table border=\"1\" class=\"dataframe\">\n",
       "  <thead>\n",
       "    <tr style=\"text-align: right;\">\n",
       "      <th></th>\n",
       "      <th>name</th>\n",
       "      <th>price</th>\n",
       "      <th>rating</th>\n",
       "      <th>review_count</th>\n",
       "    </tr>\n",
       "  </thead>\n",
       "  <tbody>\n",
       "    <tr>\n",
       "      <th>0</th>\n",
       "      <td>Wild Poppy Market</td>\n",
       "      <td>$$</td>\n",
       "      <td>4.5</td>\n",
       "      <td>31</td>\n",
       "    </tr>\n",
       "    <tr>\n",
       "      <th>1</th>\n",
       "      <td>Old Town Bakery</td>\n",
       "      <td>$$</td>\n",
       "      <td>4.5</td>\n",
       "      <td>33</td>\n",
       "    </tr>\n",
       "    <tr>\n",
       "      <th>2</th>\n",
       "      <td>Spice Hut</td>\n",
       "      <td>$$</td>\n",
       "      <td>4.5</td>\n",
       "      <td>19</td>\n",
       "    </tr>\n",
       "    <tr>\n",
       "      <th>3</th>\n",
       "      <td>Fox And Hounds</td>\n",
       "      <td>$$</td>\n",
       "      <td>4.0</td>\n",
       "      <td>19</td>\n",
       "    </tr>\n",
       "    <tr>\n",
       "      <th>4</th>\n",
       "      <td>Plantitude</td>\n",
       "      <td>No Price</td>\n",
       "      <td>5.0</td>\n",
       "      <td>7</td>\n",
       "    </tr>\n",
       "  </tbody>\n",
       "</table>\n",
       "</div>"
      ],
      "text/plain": [
       "                name     price  rating  review_count\n",
       "0  Wild Poppy Market        $$     4.5            31\n",
       "1    Old Town Bakery        $$     4.5            33\n",
       "2          Spice Hut        $$     4.5            19\n",
       "3     Fox And Hounds        $$     4.0            19\n",
       "4         Plantitude  No Price     5.0             7"
      ]
     },
     "execution_count": 192,
     "metadata": {},
     "output_type": "execute_result"
    }
   ],
   "source": [
    "business_df.head()"
   ]
  },
  {
   "cell_type": "code",
   "execution_count": 337,
   "metadata": {},
   "outputs": [
    {
     "data": {
      "text/html": [
       "<div>\n",
       "<style scoped>\n",
       "    .dataframe tbody tr th:only-of-type {\n",
       "        vertical-align: middle;\n",
       "    }\n",
       "\n",
       "    .dataframe tbody tr th {\n",
       "        vertical-align: top;\n",
       "    }\n",
       "\n",
       "    .dataframe thead th {\n",
       "        text-align: right;\n",
       "    }\n",
       "</style>\n",
       "<table border=\"1\" class=\"dataframe\">\n",
       "  <thead>\n",
       "    <tr style=\"text-align: right;\">\n",
       "      <th></th>\n",
       "      <th>name</th>\n",
       "      <th>category</th>\n",
       "    </tr>\n",
       "  </thead>\n",
       "  <tbody>\n",
       "    <tr>\n",
       "      <th>0</th>\n",
       "      <td>Wild Poppy Market</td>\n",
       "      <td>Bakeries</td>\n",
       "    </tr>\n",
       "    <tr>\n",
       "      <th>1</th>\n",
       "      <td>Wild Poppy Market</td>\n",
       "      <td>Breakfast &amp; Brunch</td>\n",
       "    </tr>\n",
       "    <tr>\n",
       "      <th>2</th>\n",
       "      <td>Wild Poppy Market</td>\n",
       "      <td>Sandwiches</td>\n",
       "    </tr>\n",
       "    <tr>\n",
       "      <th>3</th>\n",
       "      <td>Old Town Bakery</td>\n",
       "      <td>Bakeries</td>\n",
       "    </tr>\n",
       "    <tr>\n",
       "      <th>4</th>\n",
       "      <td>Spice Hut</td>\n",
       "      <td>Indian</td>\n",
       "    </tr>\n",
       "    <tr>\n",
       "      <th>5</th>\n",
       "      <td>Fox And Hounds</td>\n",
       "      <td>Pubs</td>\n",
       "    </tr>\n",
       "    <tr>\n",
       "      <th>6</th>\n",
       "      <td>Plantitude</td>\n",
       "      <td>Vegan</td>\n",
       "    </tr>\n",
       "    <tr>\n",
       "      <th>7</th>\n",
       "      <td>Maya Norte</td>\n",
       "      <td>Spanish</td>\n",
       "    </tr>\n",
       "    <tr>\n",
       "      <th>8</th>\n",
       "      <td>Maya Norte</td>\n",
       "      <td>Mexican</td>\n",
       "    </tr>\n",
       "    <tr>\n",
       "      <th>9</th>\n",
       "      <td>Appetit Food for Thought</td>\n",
       "      <td>Thai</td>\n",
       "    </tr>\n",
       "    <tr>\n",
       "      <th>10</th>\n",
       "      <td>Appetit Food for Thought</td>\n",
       "      <td>Asian Fusion</td>\n",
       "    </tr>\n",
       "    <tr>\n",
       "      <th>11</th>\n",
       "      <td>Appetit Food for Thought</td>\n",
       "      <td>Breakfast &amp; Brunch</td>\n",
       "    </tr>\n",
       "    <tr>\n",
       "      <th>12</th>\n",
       "      <td>In the Beantime Cafe</td>\n",
       "      <td>Coffee &amp; Tea</td>\n",
       "    </tr>\n",
       "    <tr>\n",
       "      <th>13</th>\n",
       "      <td>Kaede Sushi &amp; Grill</td>\n",
       "      <td>Japanese</td>\n",
       "    </tr>\n",
       "    <tr>\n",
       "      <th>14</th>\n",
       "      <td>Kaede Sushi &amp; Grill</td>\n",
       "      <td>Sushi Bars</td>\n",
       "    </tr>\n",
       "    <tr>\n",
       "      <th>15</th>\n",
       "      <td>Oyster Bay Cafe</td>\n",
       "      <td>Cafes</td>\n",
       "    </tr>\n",
       "    <tr>\n",
       "      <th>16</th>\n",
       "      <td>Roberts Street Pizza</td>\n",
       "      <td>Pizza</td>\n",
       "    </tr>\n",
       "    <tr>\n",
       "      <th>17</th>\n",
       "      <td>Roberts Street Pizza</td>\n",
       "      <td>Italian</td>\n",
       "    </tr>\n",
       "    <tr>\n",
       "      <th>18</th>\n",
       "      <td>Phoenix Restaurant</td>\n",
       "      <td>Chinese</td>\n",
       "    </tr>\n",
       "    <tr>\n",
       "      <th>19</th>\n",
       "      <td>Ironworks Cafe and Crêperie</td>\n",
       "      <td>Creperies</td>\n",
       "    </tr>\n",
       "    <tr>\n",
       "      <th>20</th>\n",
       "      <td>Ironworks Cafe and Crêperie</td>\n",
       "      <td>Cafes</td>\n",
       "    </tr>\n",
       "    <tr>\n",
       "      <th>21</th>\n",
       "      <td>Zack's</td>\n",
       "      <td>Sandwiches</td>\n",
       "    </tr>\n",
       "    <tr>\n",
       "      <th>22</th>\n",
       "      <td>Zack's</td>\n",
       "      <td>Burgers</td>\n",
       "    </tr>\n",
       "    <tr>\n",
       "      <th>23</th>\n",
       "      <td>Zack's</td>\n",
       "      <td>Lounges</td>\n",
       "    </tr>\n",
       "    <tr>\n",
       "      <th>24</th>\n",
       "      <td>Mr. Teriyaki and Miss Sushi</td>\n",
       "      <td>Sushi Bars</td>\n",
       "    </tr>\n",
       "    <tr>\n",
       "      <th>25</th>\n",
       "      <td>Mr. Teriyaki and Miss Sushi</td>\n",
       "      <td>Japanese</td>\n",
       "    </tr>\n",
       "    <tr>\n",
       "      <th>26</th>\n",
       "      <td>Tim Hortons</td>\n",
       "      <td>Coffee &amp; Tea</td>\n",
       "    </tr>\n",
       "    <tr>\n",
       "      <th>27</th>\n",
       "      <td>The Wigwam Restaurant</td>\n",
       "      <td>Vietnamese</td>\n",
       "    </tr>\n",
       "    <tr>\n",
       "      <th>28</th>\n",
       "      <td>The Wigwam Restaurant</td>\n",
       "      <td>Chinese</td>\n",
       "    </tr>\n",
       "    <tr>\n",
       "      <th>29</th>\n",
       "      <td>The Wigwam Restaurant</td>\n",
       "      <td>Vegetarian</td>\n",
       "    </tr>\n",
       "    <tr>\n",
       "      <th>30</th>\n",
       "      <td>Dragon City Restaurant</td>\n",
       "      <td>Chinese</td>\n",
       "    </tr>\n",
       "    <tr>\n",
       "      <th>31</th>\n",
       "      <td>Timberland Pub</td>\n",
       "      <td>Pubs</td>\n",
       "    </tr>\n",
       "    <tr>\n",
       "      <th>32</th>\n",
       "      <td>Taco Revolution</td>\n",
       "      <td>Food Trucks</td>\n",
       "    </tr>\n",
       "    <tr>\n",
       "      <th>33</th>\n",
       "      <td>Taco Revolution</td>\n",
       "      <td>Mexican</td>\n",
       "    </tr>\n",
       "  </tbody>\n",
       "</table>\n",
       "</div>"
      ],
      "text/plain": [
       "                           name             category\n",
       "0             Wild Poppy Market             Bakeries\n",
       "1             Wild Poppy Market   Breakfast & Brunch\n",
       "2             Wild Poppy Market           Sandwiches\n",
       "3               Old Town Bakery             Bakeries\n",
       "4                     Spice Hut               Indian\n",
       "5                Fox And Hounds                 Pubs\n",
       "6                    Plantitude                Vegan\n",
       "7                    Maya Norte              Spanish\n",
       "8                    Maya Norte              Mexican\n",
       "9      Appetit Food for Thought                 Thai\n",
       "10     Appetit Food for Thought         Asian Fusion\n",
       "11     Appetit Food for Thought   Breakfast & Brunch\n",
       "12         In the Beantime Cafe         Coffee & Tea\n",
       "13          Kaede Sushi & Grill             Japanese\n",
       "14          Kaede Sushi & Grill           Sushi Bars\n",
       "15              Oyster Bay Cafe                Cafes\n",
       "16         Roberts Street Pizza                Pizza\n",
       "17         Roberts Street Pizza              Italian\n",
       "18           Phoenix Restaurant              Chinese\n",
       "19  Ironworks Cafe and Crêperie            Creperies\n",
       "20  Ironworks Cafe and Crêperie                Cafes\n",
       "21                       Zack's           Sandwiches\n",
       "22                       Zack's              Burgers\n",
       "23                       Zack's              Lounges\n",
       "24  Mr. Teriyaki and Miss Sushi           Sushi Bars\n",
       "25  Mr. Teriyaki and Miss Sushi             Japanese\n",
       "26                  Tim Hortons         Coffee & Tea\n",
       "27        The Wigwam Restaurant           Vietnamese\n",
       "28        The Wigwam Restaurant              Chinese\n",
       "29        The Wigwam Restaurant           Vegetarian\n",
       "30       Dragon City Restaurant              Chinese\n",
       "31               Timberland Pub                 Pubs\n",
       "32              Taco Revolution          Food Trucks\n",
       "33              Taco Revolution              Mexican"
      ]
     },
     "execution_count": 337,
     "metadata": {},
     "output_type": "execute_result"
    }
   ],
   "source": [
    "# create a separate dataframe that expands the category list\n",
    "\n",
    "categories_df = Yelp_df.set_index('name')\\\n",
    "  .categories.str.split(',', expand=True)\\\n",
    "  .stack()\\\n",
    "  .reset_index('name')\\\n",
    "  .rename(columns={0:'category'})\\\n",
    "  .reset_index(drop=True)\n",
    "categories_df"
   ]
  },
  {
   "cell_type": "code",
   "execution_count": 338,
   "metadata": {},
   "outputs": [],
   "source": [
    "# When I created a category id table for the database, I realized there were 'duplicate' categories that had a leading space before the category name. In order to successfully merge this category_df table with the category table I created in my database, I needed to strip these leading spaces.\n",
    "\n",
    "categories_df['category'] = categories_df['category'].str.strip()"
   ]
  },
  {
   "cell_type": "code",
   "execution_count": 159,
   "metadata": {},
   "outputs": [
    {
     "data": {
      "text/html": [
       "<div>\n",
       "<style scoped>\n",
       "    .dataframe tbody tr th:only-of-type {\n",
       "        vertical-align: middle;\n",
       "    }\n",
       "\n",
       "    .dataframe tbody tr th {\n",
       "        vertical-align: top;\n",
       "    }\n",
       "\n",
       "    .dataframe thead th {\n",
       "        text-align: right;\n",
       "    }\n",
       "</style>\n",
       "<table border=\"1\" class=\"dataframe\">\n",
       "  <thead>\n",
       "    <tr style=\"text-align: right;\">\n",
       "      <th></th>\n",
       "      <th>name</th>\n",
       "      <th>address</th>\n",
       "    </tr>\n",
       "  </thead>\n",
       "  <tbody>\n",
       "    <tr>\n",
       "      <th>0</th>\n",
       "      <td>Wild Poppy Market</td>\n",
       "      <td>541 1st Avenue, Ladysmith, BC V9G, Canada</td>\n",
       "    </tr>\n",
       "    <tr>\n",
       "      <th>1</th>\n",
       "      <td>Old Town Bakery</td>\n",
       "      <td>510 1st Avenue, Ladysmith, BC V9G 1R3, Canada</td>\n",
       "    </tr>\n",
       "    <tr>\n",
       "      <th>2</th>\n",
       "      <td>Spice Hut</td>\n",
       "      <td>510 Esplanade Avenue, Ladysmith, BC V9G, Canada</td>\n",
       "    </tr>\n",
       "    <tr>\n",
       "      <th>3</th>\n",
       "      <td>Fox And Hounds</td>\n",
       "      <td>11 High Street, Ladysmith, BC V9G, Canada</td>\n",
       "    </tr>\n",
       "    <tr>\n",
       "      <th>4</th>\n",
       "      <td>Plantitude</td>\n",
       "      <td>431 1st Avenue, Ladysmith, BC V9G 1A9, Canada</td>\n",
       "    </tr>\n",
       "  </tbody>\n",
       "</table>\n",
       "</div>"
      ],
      "text/plain": [
       "                name                                          address\n",
       "0  Wild Poppy Market        541 1st Avenue, Ladysmith, BC V9G, Canada\n",
       "1    Old Town Bakery    510 1st Avenue, Ladysmith, BC V9G 1R3, Canada\n",
       "2          Spice Hut  510 Esplanade Avenue, Ladysmith, BC V9G, Canada\n",
       "3     Fox And Hounds        11 High Street, Ladysmith, BC V9G, Canada\n",
       "4         Plantitude    431 1st Avenue, Ladysmith, BC V9G 1A9, Canada"
      ]
     },
     "execution_count": 159,
     "metadata": {},
     "output_type": "execute_result"
    }
   ],
   "source": [
    "location_df = Yelp_df[['name','address']]\n",
    "location_df.head()"
   ]
  },
  {
   "cell_type": "code",
   "execution_count": 193,
   "metadata": {},
   "outputs": [
    {
     "data": {
      "text/html": [
       "<div>\n",
       "<style scoped>\n",
       "    .dataframe tbody tr th:only-of-type {\n",
       "        vertical-align: middle;\n",
       "    }\n",
       "\n",
       "    .dataframe tbody tr th {\n",
       "        vertical-align: top;\n",
       "    }\n",
       "\n",
       "    .dataframe thead th {\n",
       "        text-align: right;\n",
       "    }\n",
       "</style>\n",
       "<table border=\"1\" class=\"dataframe\">\n",
       "  <thead>\n",
       "    <tr style=\"text-align: right;\">\n",
       "      <th></th>\n",
       "      <th>display_phone</th>\n",
       "      <th>poi_id</th>\n",
       "    </tr>\n",
       "  </thead>\n",
       "  <tbody>\n",
       "    <tr>\n",
       "      <th>0</th>\n",
       "      <td>+1 250-924-8696</td>\n",
       "      <td>1</td>\n",
       "    </tr>\n",
       "    <tr>\n",
       "      <th>1</th>\n",
       "      <td>+1 250-245-2531</td>\n",
       "      <td>2</td>\n",
       "    </tr>\n",
       "    <tr>\n",
       "      <th>2</th>\n",
       "      <td>+1 250-924-8222</td>\n",
       "      <td>3</td>\n",
       "    </tr>\n",
       "    <tr>\n",
       "      <th>3</th>\n",
       "      <td>+1 250-924-1747</td>\n",
       "      <td>4</td>\n",
       "    </tr>\n",
       "    <tr>\n",
       "      <th>4</th>\n",
       "      <td>+1 250-924-1201</td>\n",
       "      <td>5</td>\n",
       "    </tr>\n",
       "  </tbody>\n",
       "</table>\n",
       "</div>"
      ],
      "text/plain": [
       "     display_phone  poi_id\n",
       "0  +1 250-924-8696       1\n",
       "1  +1 250-245-2531       2\n",
       "2  +1 250-924-8222       3\n",
       "3  +1 250-924-1747       4\n",
       "4  +1 250-924-1201       5"
      ]
     },
     "execution_count": 193,
     "metadata": {},
     "output_type": "execute_result"
    }
   ],
   "source": [
    "phone_df = Yelp_df[['display_phone','poi_id']]\n",
    "phone_df.head()"
   ]
  },
  {
   "cell_type": "markdown",
   "metadata": {},
   "source": [
    "# Google (stretch)"
   ]
  },
  {
   "cell_type": "markdown",
   "metadata": {},
   "source": [
    "Use the same process as the first two APIs"
   ]
  },
  {
   "cell_type": "markdown",
   "metadata": {},
   "source": [
    "# Database"
   ]
  },
  {
   "cell_type": "markdown",
   "metadata": {},
   "source": [
    "Put all your results in an SQLite3 database (remember, SQLite stores its databases as files in your local machine - make sure to create your database in your project's data/ directory!)"
   ]
  },
  {
   "cell_type": "code",
   "execution_count": 26,
   "metadata": {},
   "outputs": [],
   "source": [
    "# define a function create_connection() that accepts the path to the SQLite database\n",
    "def create_connection(path):\n",
    "    \n",
    "    connection = None\n",
    "    \n",
    "    try:\n",
    "        # use .connect() from the sqlite3 module, with the database path as a parameter. If the database exists at the specified location, then a connection to the database is established. Otherwise, a new database is created at the specified location, and a connection is established\n",
    "        connection = sqlite3.connect(path)\n",
    "        \n",
    "        # print the status of the successful database connection.\n",
    "        print(\"Connection to SQLite DB successful\")\n",
    "    \n",
    "    # catches any exception that might be thrown if .connect() fails to establish a connection\n",
    "    except Error as e:\n",
    "        # displays the error message in the console.\n",
    "        print(f\"The error '{e}' occurred\")\n",
    "\n",
    "    return connection"
   ]
  },
  {
   "cell_type": "code",
   "execution_count": 105,
   "metadata": {},
   "outputs": [
    {
     "name": "stdout",
     "output_type": "stream",
     "text": [
      "Connection to SQLite DB successful\n"
     ]
    }
   ],
   "source": [
    "# passed the desired file path of the database to the create_connection function to create the database and connect to it\n",
    "\n",
    "connection = create_connection(\"../data/mini-project-2.sqlite\")"
   ]
  },
  {
   "cell_type": "code",
   "execution_count": 141,
   "metadata": {},
   "outputs": [],
   "source": [
    "# function to execute the given query and prints an error message if necessary\n",
    "def execute_query(connection, query):\n",
    "    cursor = connection.cursor()\n",
    "    try:\n",
    "        cursor.execute(query)\n",
    "        connection.commit()\n",
    "        print(\"Query executed successfully\")\n",
    "    except Error as e:\n",
    "        print(f\"The error '{e}' occurred\")"
   ]
  },
  {
   "cell_type": "markdown",
   "metadata": {
    "jp-MarkdownHeadingCollapsed": true,
    "tags": []
   },
   "source": [
    "### Create the POI table"
   ]
  },
  {
   "cell_type": "code",
   "execution_count": null,
   "metadata": {},
   "outputs": [],
   "source": [
    "#define the poi table"
   ]
  },
  {
   "cell_type": "code",
   "execution_count": 165,
   "metadata": {},
   "outputs": [],
   "source": [
    "create_poi_table = \"\"\"\n",
    "CREATE TABLE IF NOT EXISTS poi (\n",
    "  id INTEGER PRIMARY KEY AUTOINCREMENT,\n",
    "  name TEXT NOT NULL,\n",
    "  price TEXT,\n",
    "  rating REAL,\n",
    "  review_count INTEGER\n",
    ");\n",
    "\"\"\""
   ]
  },
  {
   "cell_type": "code",
   "execution_count": null,
   "metadata": {},
   "outputs": [],
   "source": [
    "# create the poi table"
   ]
  },
  {
   "cell_type": "code",
   "execution_count": 166,
   "metadata": {},
   "outputs": [
    {
     "name": "stdout",
     "output_type": "stream",
     "text": [
      "Query executed successfully\n"
     ]
    }
   ],
   "source": [
    "execute_query(connection, create_poi_table)"
   ]
  },
  {
   "cell_type": "code",
   "execution_count": 237,
   "metadata": {},
   "outputs": [
    {
     "data": {
      "text/plain": [
       "[('Wild Poppy Market', '$$', 4.5, 31),\n",
       " ('Old Town Bakery', '$$', 4.5, 33),\n",
       " ('Spice Hut', '$$', 4.5, 19),\n",
       " ('Fox And Hounds', '$$', 4.0, 19),\n",
       " ('Plantitude', 'No Price', 5.0, 7),\n",
       " ('Maya Norte', 'No Price', 4.5, 12),\n",
       " ('Appetit Food for Thought', '$$', 4.5, 8),\n",
       " ('In the Beantime Cafe', '$$', 4.0, 13),\n",
       " ('Kaede Sushi & Grill', 'No Price', 4.5, 7),\n",
       " ('Oyster Bay Cafe', '$$', 4.5, 7),\n",
       " ('Roberts Street Pizza', '$$', 3.5, 14),\n",
       " ('Phoenix Restaurant', '$$', 4.5, 5),\n",
       " ('Ironworks Cafe and Crêperie', 'No Price', 4.0, 8),\n",
       " (\"Zack's\", 'No Price', 3.5, 4),\n",
       " ('Mr. Teriyaki and Miss Sushi', '$', 4.0, 7),\n",
       " ('Tim Hortons', 'No Price', 3.5, 3),\n",
       " ('The Wigwam Restaurant', 'No Price', 1.5, 2),\n",
       " ('Dragon City Restaurant', 'No Price', 2.0, 5),\n",
       " ('Timberland Pub', '$', 3.5, 2),\n",
       " ('Taco Revolution', 'No Price', 5.0, 1)]"
      ]
     },
     "execution_count": 237,
     "metadata": {},
     "output_type": "execute_result"
    }
   ],
   "source": [
    "# get the values for the poi table\n",
    "\n",
    "value_list = []\n",
    "\n",
    "for i in range(len(business_df)):\n",
    "    value_list.append(tuple(business_df.loc[i]))\n",
    "    \n",
    "value_list"
   ]
  },
  {
   "cell_type": "code",
   "execution_count": 168,
   "metadata": {},
   "outputs": [
    {
     "name": "stdout",
     "output_type": "stream",
     "text": [
      "Query executed successfully\n"
     ]
    }
   ],
   "source": [
    "create_poi = \"\"\"\n",
    "INSERT INTO\n",
    "  poi (name, price, rating, review_count)\n",
    "VALUES\n",
    "  ('Wild Poppy Market', '$$', 4.5, 31),\n",
    " ('Old Town Bakery', '$$', 4.5, 33),\n",
    " ('Spice Hut', '$$', 4.5, 19),\n",
    " ('Fox And Hounds', '$$', 4.0, 19),\n",
    " ('Plantitude', 'No Price', 5.0, 7),\n",
    " ('Maya Norte', 'No Price', 4.5, 12),\n",
    " ('Appetit Food for Thought', '$$', 4.5, 8),\n",
    " ('In the Beantime Cafe', '$$', 4.0, 13),\n",
    " ('Kaede Sushi & Grill', 'No Price', 4.5, 7),\n",
    " ('Oyster Bay Cafe', '$$', 4.5, 7),\n",
    " ('Roberts Street Pizza', '$$', 3.5, 14),\n",
    " ('Phoenix Restaurant', '$$', 4.5, 5),\n",
    " ('Ironworks Cafe and Crêperie', 'No Price', 4.0, 8),\n",
    " (\"Zack's\", 'No Price', 3.5, 4),\n",
    " ('Mr. Teriyaki and Miss Sushi', '$', 4.0, 7),\n",
    " ('Tim Hortons', 'No Price', 3.5, 3),\n",
    " ('The Wigwam Restaurant', 'No Price', 1.5, 2),\n",
    " ('Dragon City Restaurant', 'No Price', 2.0, 5),\n",
    " ('Timberland Pub', '$', 3.5, 2),\n",
    " ('Taco Revolution', 'No Price', 5.0, 1);\n",
    "\"\"\"\n",
    "\n",
    "execute_query(connection, create_poi)"
   ]
  },
  {
   "cell_type": "markdown",
   "metadata": {
    "jp-MarkdownHeadingCollapsed": true,
    "tags": []
   },
   "source": [
    "### Create a phone_number table & reference the POI table"
   ]
  },
  {
   "cell_type": "code",
   "execution_count": 176,
   "metadata": {},
   "outputs": [],
   "source": [
    "# create phone_number table\n",
    "\n",
    "create_phone_number_table = \"\"\"\n",
    "CREATE TABLE IF NOT EXISTS phone_number (\n",
    "  display_phone TEXT NOT NULL,\n",
    "  poi_id INTEGER NOT NULL,\n",
    "  FOREIGN KEY (poi_id) REFERENCES poi (id)\n",
    ");\n",
    "\"\"\""
   ]
  },
  {
   "cell_type": "code",
   "execution_count": 177,
   "metadata": {},
   "outputs": [
    {
     "name": "stdout",
     "output_type": "stream",
     "text": [
      "Query executed successfully\n"
     ]
    }
   ],
   "source": [
    "execute_query(connection, create_phone_number_table)"
   ]
  },
  {
   "cell_type": "code",
   "execution_count": 194,
   "metadata": {},
   "outputs": [
    {
     "data": {
      "text/plain": [
       "[('+1 250-924-8696', 1),\n",
       " ('+1 250-245-2531', 2),\n",
       " ('+1 250-924-8222', 3),\n",
       " ('+1 250-924-1747', 4),\n",
       " ('+1 250-924-1201', 5),\n",
       " ('+1 250-924-1300', 6),\n",
       " ('+1 250-924-1321', 7),\n",
       " ('+1 250-245-2305', 8),\n",
       " ('+1 250-924-1166', 9),\n",
       " ('+1 250-924-2245', 10),\n",
       " ('+1 250-245-1119', 11),\n",
       " ('+1 250-245-3263', 12),\n",
       " ('+1 250-912-0064', 13),\n",
       " ('+1 250-245-2749', 14),\n",
       " ('+1 250-924-2221', 15),\n",
       " ('+1 250-245-2303', 16),\n",
       " ('+1 250-245-3433', 17),\n",
       " ('+1 250-245-8689', 18),\n",
       " ('+1 250-245-0800', 19),\n",
       " ('+1 250-244-6492', 20)]"
      ]
     },
     "execution_count": 194,
     "metadata": {},
     "output_type": "execute_result"
    }
   ],
   "source": [
    "value_list_phone = []\n",
    "\n",
    "for i in range(len(phone_df)):\n",
    "    value_list_phone.append(tuple(phone_df.loc[i]))\n",
    "    \n",
    "value_list_phone"
   ]
  },
  {
   "cell_type": "code",
   "execution_count": 196,
   "metadata": {},
   "outputs": [
    {
     "name": "stdout",
     "output_type": "stream",
     "text": [
      "Query executed successfully\n"
     ]
    }
   ],
   "source": [
    "create_phone_number = \"\"\"\n",
    "INSERT INTO\n",
    "  phone_number (display_phone, poi_id)\n",
    "VALUES\n",
    "  ('+1 250-924-8696', 1),\n",
    " ('+1 250-245-2531', 2),\n",
    " ('+1 250-924-8222', 3),\n",
    " ('+1 250-924-1747', 4),\n",
    " ('+1 250-924-1201', 5),\n",
    " ('+1 250-924-1300', 6),\n",
    " ('+1 250-924-1321', 7),\n",
    " ('+1 250-245-2305', 8),\n",
    " ('+1 250-924-1166', 9),\n",
    " ('+1 250-924-2245', 10),\n",
    " ('+1 250-245-1119', 11),\n",
    " ('+1 250-245-3263', 12),\n",
    " ('+1 250-912-0064', 13),\n",
    " ('+1 250-245-2749', 14),\n",
    " ('+1 250-924-2221', 15),\n",
    " ('+1 250-245-2303', 16),\n",
    " ('+1 250-245-3433', 17),\n",
    " ('+1 250-245-8689', 18),\n",
    " ('+1 250-245-0800', 19),\n",
    " ('+1 250-244-6492', 20);\n",
    "\"\"\"\n",
    "\n",
    "execute_query(connection, create_phone_number)"
   ]
  },
  {
   "cell_type": "markdown",
   "metadata": {
    "jp-MarkdownHeadingCollapsed": true,
    "tags": []
   },
   "source": [
    "### Create the category table"
   ]
  },
  {
   "cell_type": "code",
   "execution_count": 198,
   "metadata": {},
   "outputs": [],
   "source": [
    "# define the category table"
   ]
  },
  {
   "cell_type": "code",
   "execution_count": 283,
   "metadata": {},
   "outputs": [],
   "source": [
    "create_category_table = \"\"\"\n",
    "CREATE TABLE IF NOT EXISTS category (\n",
    "  id INTEGER PRIMARY KEY AUTOINCREMENT,\n",
    "  category TEXT NOT NULL\n",
    ");\n",
    "\"\"\""
   ]
  },
  {
   "cell_type": "code",
   "execution_count": 284,
   "metadata": {},
   "outputs": [],
   "source": [
    "# create the category table"
   ]
  },
  {
   "cell_type": "code",
   "execution_count": 285,
   "metadata": {},
   "outputs": [
    {
     "name": "stdout",
     "output_type": "stream",
     "text": [
      "Query executed successfully\n"
     ]
    }
   ],
   "source": [
    "execute_query(connection, create_category_table)"
   ]
  },
  {
   "cell_type": "code",
   "execution_count": 344,
   "metadata": {},
   "outputs": [
    {
     "data": {
      "text/plain": [
       "{'Asian Fusion',\n",
       " 'Bakeries',\n",
       " 'Breakfast & Brunch',\n",
       " 'Burgers',\n",
       " 'Cafes',\n",
       " 'Chinese',\n",
       " 'Coffee & Tea',\n",
       " 'Creperies',\n",
       " 'Food Trucks',\n",
       " 'Indian',\n",
       " 'Italian',\n",
       " 'Japanese',\n",
       " 'Lounges',\n",
       " 'Mexican',\n",
       " 'Pizza',\n",
       " 'Pubs',\n",
       " 'Sandwiches',\n",
       " 'Spanish',\n",
       " 'Sushi Bars',\n",
       " 'Thai',\n",
       " 'Vegan',\n",
       " 'Vegetarian',\n",
       " 'Vietnamese'}"
      ]
     },
     "execution_count": 344,
     "metadata": {},
     "output_type": "execute_result"
    }
   ],
   "source": [
    "# strip leading spaces to avoid duplicates in the category table\n",
    "\n",
    "category_only = categories_df['category'].unique()\n",
    "\n",
    "category_only_new = []\n",
    "\n",
    "for item in category_only:\n",
    "    category_only_new.append(item.lstrip())\n",
    "\n",
    "category_only_new = set(category_only_new)\n",
    "category_only_new"
   ]
  },
  {
   "cell_type": "code",
   "execution_count": 287,
   "metadata": {},
   "outputs": [
    {
     "name": "stdout",
     "output_type": "stream",
     "text": [
      "Query executed successfully\n"
     ]
    }
   ],
   "source": [
    "create_category = \"\"\"\n",
    "INSERT INTO\n",
    "  category (category)\n",
    "VALUES\n",
    "  ('Asian Fusion'),\n",
    " ('Bakeries'),\n",
    " ('Breakfast & Brunch'),\n",
    " ('Burgers'),\n",
    " ('Cafes'),\n",
    " ('Chinese'),\n",
    " ('Coffee & Tea'),\n",
    " ('Creperies'),\n",
    " ('Food Trucks'),\n",
    " ('Indian'),\n",
    " ('Italian'),\n",
    " ('Japanese'),\n",
    " ('Lounges'),\n",
    " ('Mexican'),\n",
    " ('Pizza'),\n",
    " ('Pubs'),\n",
    " ('Sandwiches'),\n",
    " ('Spanish'),\n",
    " ('Sushi Bars'),\n",
    " ('Thai'),\n",
    " ('Vegan'),\n",
    " ('Vegetarian'),\n",
    " ('Vietnamese');\n",
    "\"\"\"\n",
    "\n",
    "execute_query(connection, create_category)"
   ]
  },
  {
   "cell_type": "code",
   "execution_count": 346,
   "metadata": {},
   "outputs": [],
   "source": [
    "# delete_table = \"DROP TABLE category\"\n",
    "# execute_query(connection, delete_table)"
   ]
  },
  {
   "cell_type": "code",
   "execution_count": 345,
   "metadata": {},
   "outputs": [],
   "source": [
    "# delete_table = \"DROP TABLE Businesses\"\n",
    "# execute_query(connection, delete_table)"
   ]
  },
  {
   "cell_type": "markdown",
   "metadata": {
    "jp-MarkdownHeadingCollapsed": true,
    "tags": []
   },
   "source": [
    "### Create the POI_category table to link the category and POI tables"
   ]
  },
  {
   "cell_type": "code",
   "execution_count": null,
   "metadata": {},
   "outputs": [],
   "source": [
    "# define the POI_category table"
   ]
  },
  {
   "cell_type": "code",
   "execution_count": null,
   "metadata": {},
   "outputs": [],
   "source": [
    "# (didn't end up creating the table this way)\n",
    "\n",
    "# create_POI_category_table = \"\"\"\n",
    "# CREATE TABLE IF NOT EXISTS POI_category (\n",
    "#   poi_id INTEGER NOT NULL,\n",
    "#   category_id INTEGER NOT NULL,\n",
    "#   FOREIGN KEY (poi_id) REFERENCES poi (id) FOREIGN KEY (category_id) REFERENCES category (id)\n",
    "# );\n",
    "# \"\"\""
   ]
  },
  {
   "cell_type": "code",
   "execution_count": 349,
   "metadata": {},
   "outputs": [],
   "source": [
    "# want to create a table that contains the category_id and the poi_id in one table."
   ]
  },
  {
   "cell_type": "code",
   "execution_count": 350,
   "metadata": {},
   "outputs": [],
   "source": [
    "# step 1 - get the category_id generated by sql"
   ]
  },
  {
   "cell_type": "code",
   "execution_count": 288,
   "metadata": {},
   "outputs": [],
   "source": [
    "category_from_sql = pd.read_sql('select * from category', connection)"
   ]
  },
  {
   "cell_type": "code",
   "execution_count": 353,
   "metadata": {},
   "outputs": [
    {
     "data": {
      "text/html": [
       "<div>\n",
       "<style scoped>\n",
       "    .dataframe tbody tr th:only-of-type {\n",
       "        vertical-align: middle;\n",
       "    }\n",
       "\n",
       "    .dataframe tbody tr th {\n",
       "        vertical-align: top;\n",
       "    }\n",
       "\n",
       "    .dataframe thead th {\n",
       "        text-align: right;\n",
       "    }\n",
       "</style>\n",
       "<table border=\"1\" class=\"dataframe\">\n",
       "  <thead>\n",
       "    <tr style=\"text-align: right;\">\n",
       "      <th></th>\n",
       "      <th>id</th>\n",
       "      <th>category</th>\n",
       "    </tr>\n",
       "  </thead>\n",
       "  <tbody>\n",
       "    <tr>\n",
       "      <th>0</th>\n",
       "      <td>1</td>\n",
       "      <td>Asian Fusion</td>\n",
       "    </tr>\n",
       "    <tr>\n",
       "      <th>1</th>\n",
       "      <td>2</td>\n",
       "      <td>Bakeries</td>\n",
       "    </tr>\n",
       "    <tr>\n",
       "      <th>2</th>\n",
       "      <td>3</td>\n",
       "      <td>Breakfast &amp; Brunch</td>\n",
       "    </tr>\n",
       "    <tr>\n",
       "      <th>3</th>\n",
       "      <td>4</td>\n",
       "      <td>Burgers</td>\n",
       "    </tr>\n",
       "    <tr>\n",
       "      <th>4</th>\n",
       "      <td>5</td>\n",
       "      <td>Cafes</td>\n",
       "    </tr>\n",
       "  </tbody>\n",
       "</table>\n",
       "</div>"
      ],
      "text/plain": [
       "   id            category\n",
       "0   1        Asian Fusion\n",
       "1   2            Bakeries\n",
       "2   3  Breakfast & Brunch\n",
       "3   4             Burgers\n",
       "4   5               Cafes"
      ]
     },
     "execution_count": 353,
     "metadata": {},
     "output_type": "execute_result"
    }
   ],
   "source": [
    "category_from_sql.head()"
   ]
  },
  {
   "cell_type": "code",
   "execution_count": 351,
   "metadata": {},
   "outputs": [],
   "source": [
    "# step 2 - merge the original categories_df with the Yelp_df to match the categories with poi_ids"
   ]
  },
  {
   "cell_type": "code",
   "execution_count": 309,
   "metadata": {
    "tags": []
   },
   "outputs": [
    {
     "data": {
      "text/html": [
       "<div>\n",
       "<style scoped>\n",
       "    .dataframe tbody tr th:only-of-type {\n",
       "        vertical-align: middle;\n",
       "    }\n",
       "\n",
       "    .dataframe tbody tr th {\n",
       "        vertical-align: top;\n",
       "    }\n",
       "\n",
       "    .dataframe thead th {\n",
       "        text-align: right;\n",
       "    }\n",
       "</style>\n",
       "<table border=\"1\" class=\"dataframe\">\n",
       "  <thead>\n",
       "    <tr style=\"text-align: right;\">\n",
       "      <th></th>\n",
       "      <th>name</th>\n",
       "      <th>category</th>\n",
       "      <th>categories</th>\n",
       "      <th>display_phone</th>\n",
       "      <th>address</th>\n",
       "      <th>price</th>\n",
       "      <th>rating</th>\n",
       "      <th>review_count</th>\n",
       "      <th>poi_id</th>\n",
       "    </tr>\n",
       "  </thead>\n",
       "  <tbody>\n",
       "    <tr>\n",
       "      <th>0</th>\n",
       "      <td>Wild Poppy Market</td>\n",
       "      <td>Bakeries</td>\n",
       "      <td>Bakeries, Breakfast &amp; Brunch, Sandwiches</td>\n",
       "      <td>+1 250-924-8696</td>\n",
       "      <td>541 1st Avenue, Ladysmith, BC V9G, Canada</td>\n",
       "      <td>$$</td>\n",
       "      <td>4.5</td>\n",
       "      <td>31</td>\n",
       "      <td>1</td>\n",
       "    </tr>\n",
       "    <tr>\n",
       "      <th>1</th>\n",
       "      <td>Wild Poppy Market</td>\n",
       "      <td>Breakfast &amp; Brunch</td>\n",
       "      <td>Bakeries, Breakfast &amp; Brunch, Sandwiches</td>\n",
       "      <td>+1 250-924-8696</td>\n",
       "      <td>541 1st Avenue, Ladysmith, BC V9G, Canada</td>\n",
       "      <td>$$</td>\n",
       "      <td>4.5</td>\n",
       "      <td>31</td>\n",
       "      <td>1</td>\n",
       "    </tr>\n",
       "    <tr>\n",
       "      <th>2</th>\n",
       "      <td>Wild Poppy Market</td>\n",
       "      <td>Sandwiches</td>\n",
       "      <td>Bakeries, Breakfast &amp; Brunch, Sandwiches</td>\n",
       "      <td>+1 250-924-8696</td>\n",
       "      <td>541 1st Avenue, Ladysmith, BC V9G, Canada</td>\n",
       "      <td>$$</td>\n",
       "      <td>4.5</td>\n",
       "      <td>31</td>\n",
       "      <td>1</td>\n",
       "    </tr>\n",
       "    <tr>\n",
       "      <th>3</th>\n",
       "      <td>Old Town Bakery</td>\n",
       "      <td>Bakeries</td>\n",
       "      <td>Bakeries</td>\n",
       "      <td>+1 250-245-2531</td>\n",
       "      <td>510 1st Avenue, Ladysmith, BC V9G 1R3, Canada</td>\n",
       "      <td>$$</td>\n",
       "      <td>4.5</td>\n",
       "      <td>33</td>\n",
       "      <td>2</td>\n",
       "    </tr>\n",
       "    <tr>\n",
       "      <th>4</th>\n",
       "      <td>Spice Hut</td>\n",
       "      <td>Indian</td>\n",
       "      <td>Indian</td>\n",
       "      <td>+1 250-924-8222</td>\n",
       "      <td>510 Esplanade Avenue, Ladysmith, BC V9G, Canada</td>\n",
       "      <td>$$</td>\n",
       "      <td>4.5</td>\n",
       "      <td>19</td>\n",
       "      <td>3</td>\n",
       "    </tr>\n",
       "  </tbody>\n",
       "</table>\n",
       "</div>"
      ],
      "text/plain": [
       "                name            category  \\\n",
       "0  Wild Poppy Market            Bakeries   \n",
       "1  Wild Poppy Market  Breakfast & Brunch   \n",
       "2  Wild Poppy Market          Sandwiches   \n",
       "3    Old Town Bakery            Bakeries   \n",
       "4          Spice Hut              Indian   \n",
       "\n",
       "                                 categories    display_phone  \\\n",
       "0  Bakeries, Breakfast & Brunch, Sandwiches  +1 250-924-8696   \n",
       "1  Bakeries, Breakfast & Brunch, Sandwiches  +1 250-924-8696   \n",
       "2  Bakeries, Breakfast & Brunch, Sandwiches  +1 250-924-8696   \n",
       "3                                  Bakeries  +1 250-245-2531   \n",
       "4                                    Indian  +1 250-924-8222   \n",
       "\n",
       "                                           address price  rating  \\\n",
       "0        541 1st Avenue, Ladysmith, BC V9G, Canada    $$     4.5   \n",
       "1        541 1st Avenue, Ladysmith, BC V9G, Canada    $$     4.5   \n",
       "2        541 1st Avenue, Ladysmith, BC V9G, Canada    $$     4.5   \n",
       "3    510 1st Avenue, Ladysmith, BC V9G 1R3, Canada    $$     4.5   \n",
       "4  510 Esplanade Avenue, Ladysmith, BC V9G, Canada    $$     4.5   \n",
       "\n",
       "   review_count  poi_id  \n",
       "0            31       1  \n",
       "1            31       1  \n",
       "2            31       1  \n",
       "3            33       2  \n",
       "4            19       3  "
      ]
     },
     "execution_count": 309,
     "metadata": {},
     "output_type": "execute_result"
    }
   ],
   "source": [
    "poi_category_df = pd.merge(categories_df, Yelp_df, on='name', how='outer')\n",
    "poi_category_df.head()"
   ]
  },
  {
   "cell_type": "code",
   "execution_count": null,
   "metadata": {},
   "outputs": [],
   "source": [
    "# step 3 - merge the table created in step 2 with the table from step 1 to get the corresponding category ids."
   ]
  },
  {
   "cell_type": "code",
   "execution_count": 348,
   "metadata": {},
   "outputs": [
    {
     "data": {
      "text/html": [
       "<div>\n",
       "<style scoped>\n",
       "    .dataframe tbody tr th:only-of-type {\n",
       "        vertical-align: middle;\n",
       "    }\n",
       "\n",
       "    .dataframe tbody tr th {\n",
       "        vertical-align: top;\n",
       "    }\n",
       "\n",
       "    .dataframe thead th {\n",
       "        text-align: right;\n",
       "    }\n",
       "</style>\n",
       "<table border=\"1\" class=\"dataframe\">\n",
       "  <thead>\n",
       "    <tr style=\"text-align: right;\">\n",
       "      <th></th>\n",
       "      <th>name</th>\n",
       "      <th>category</th>\n",
       "      <th>categories</th>\n",
       "      <th>display_phone</th>\n",
       "      <th>address</th>\n",
       "      <th>price</th>\n",
       "      <th>rating</th>\n",
       "      <th>review_count</th>\n",
       "      <th>poi_id</th>\n",
       "      <th>id</th>\n",
       "    </tr>\n",
       "  </thead>\n",
       "  <tbody>\n",
       "    <tr>\n",
       "      <th>0</th>\n",
       "      <td>Wild Poppy Market</td>\n",
       "      <td>Bakeries</td>\n",
       "      <td>Bakeries, Breakfast &amp; Brunch, Sandwiches</td>\n",
       "      <td>+1 250-924-8696</td>\n",
       "      <td>541 1st Avenue, Ladysmith, BC V9G, Canada</td>\n",
       "      <td>$$</td>\n",
       "      <td>4.5</td>\n",
       "      <td>31</td>\n",
       "      <td>1</td>\n",
       "      <td>2</td>\n",
       "    </tr>\n",
       "    <tr>\n",
       "      <th>1</th>\n",
       "      <td>Wild Poppy Market</td>\n",
       "      <td>Breakfast &amp; Brunch</td>\n",
       "      <td>Bakeries, Breakfast &amp; Brunch, Sandwiches</td>\n",
       "      <td>+1 250-924-8696</td>\n",
       "      <td>541 1st Avenue, Ladysmith, BC V9G, Canada</td>\n",
       "      <td>$$</td>\n",
       "      <td>4.5</td>\n",
       "      <td>31</td>\n",
       "      <td>1</td>\n",
       "      <td>3</td>\n",
       "    </tr>\n",
       "    <tr>\n",
       "      <th>2</th>\n",
       "      <td>Wild Poppy Market</td>\n",
       "      <td>Sandwiches</td>\n",
       "      <td>Bakeries, Breakfast &amp; Brunch, Sandwiches</td>\n",
       "      <td>+1 250-924-8696</td>\n",
       "      <td>541 1st Avenue, Ladysmith, BC V9G, Canada</td>\n",
       "      <td>$$</td>\n",
       "      <td>4.5</td>\n",
       "      <td>31</td>\n",
       "      <td>1</td>\n",
       "      <td>17</td>\n",
       "    </tr>\n",
       "    <tr>\n",
       "      <th>3</th>\n",
       "      <td>Old Town Bakery</td>\n",
       "      <td>Bakeries</td>\n",
       "      <td>Bakeries</td>\n",
       "      <td>+1 250-245-2531</td>\n",
       "      <td>510 1st Avenue, Ladysmith, BC V9G 1R3, Canada</td>\n",
       "      <td>$$</td>\n",
       "      <td>4.5</td>\n",
       "      <td>33</td>\n",
       "      <td>2</td>\n",
       "      <td>2</td>\n",
       "    </tr>\n",
       "    <tr>\n",
       "      <th>4</th>\n",
       "      <td>Spice Hut</td>\n",
       "      <td>Indian</td>\n",
       "      <td>Indian</td>\n",
       "      <td>+1 250-924-8222</td>\n",
       "      <td>510 Esplanade Avenue, Ladysmith, BC V9G, Canada</td>\n",
       "      <td>$$</td>\n",
       "      <td>4.5</td>\n",
       "      <td>19</td>\n",
       "      <td>3</td>\n",
       "      <td>10</td>\n",
       "    </tr>\n",
       "  </tbody>\n",
       "</table>\n",
       "</div>"
      ],
      "text/plain": [
       "                name            category  \\\n",
       "0  Wild Poppy Market            Bakeries   \n",
       "1  Wild Poppy Market  Breakfast & Brunch   \n",
       "2  Wild Poppy Market          Sandwiches   \n",
       "3    Old Town Bakery            Bakeries   \n",
       "4          Spice Hut              Indian   \n",
       "\n",
       "                                 categories    display_phone  \\\n",
       "0  Bakeries, Breakfast & Brunch, Sandwiches  +1 250-924-8696   \n",
       "1  Bakeries, Breakfast & Brunch, Sandwiches  +1 250-924-8696   \n",
       "2  Bakeries, Breakfast & Brunch, Sandwiches  +1 250-924-8696   \n",
       "3                                  Bakeries  +1 250-245-2531   \n",
       "4                                    Indian  +1 250-924-8222   \n",
       "\n",
       "                                           address price  rating  \\\n",
       "0        541 1st Avenue, Ladysmith, BC V9G, Canada    $$     4.5   \n",
       "1        541 1st Avenue, Ladysmith, BC V9G, Canada    $$     4.5   \n",
       "2        541 1st Avenue, Ladysmith, BC V9G, Canada    $$     4.5   \n",
       "3    510 1st Avenue, Ladysmith, BC V9G 1R3, Canada    $$     4.5   \n",
       "4  510 Esplanade Avenue, Ladysmith, BC V9G, Canada    $$     4.5   \n",
       "\n",
       "   review_count  poi_id  id  \n",
       "0            31       1   2  \n",
       "1            31       1   3  \n",
       "2            31       1  17  \n",
       "3            33       2   2  \n",
       "4            19       3  10  "
      ]
     },
     "execution_count": 348,
     "metadata": {},
     "output_type": "execute_result"
    }
   ],
   "source": [
    "poi_category_new_df = pd.merge(poi_category_df, category_from_sql, on='category', how='left')\n",
    "poi_category_new_df.head()"
   ]
  },
  {
   "cell_type": "code",
   "execution_count": 352,
   "metadata": {},
   "outputs": [],
   "source": [
    "# step 4 - create a new dataframe that contains only the category id and poi id."
   ]
  },
  {
   "cell_type": "code",
   "execution_count": 354,
   "metadata": {},
   "outputs": [
    {
     "data": {
      "text/html": [
       "<div>\n",
       "<style scoped>\n",
       "    .dataframe tbody tr th:only-of-type {\n",
       "        vertical-align: middle;\n",
       "    }\n",
       "\n",
       "    .dataframe tbody tr th {\n",
       "        vertical-align: top;\n",
       "    }\n",
       "\n",
       "    .dataframe thead th {\n",
       "        text-align: right;\n",
       "    }\n",
       "</style>\n",
       "<table border=\"1\" class=\"dataframe\">\n",
       "  <thead>\n",
       "    <tr style=\"text-align: right;\">\n",
       "      <th></th>\n",
       "      <th>id</th>\n",
       "      <th>poi_id</th>\n",
       "    </tr>\n",
       "  </thead>\n",
       "  <tbody>\n",
       "    <tr>\n",
       "      <th>0</th>\n",
       "      <td>2</td>\n",
       "      <td>1</td>\n",
       "    </tr>\n",
       "    <tr>\n",
       "      <th>1</th>\n",
       "      <td>3</td>\n",
       "      <td>1</td>\n",
       "    </tr>\n",
       "    <tr>\n",
       "      <th>2</th>\n",
       "      <td>17</td>\n",
       "      <td>1</td>\n",
       "    </tr>\n",
       "    <tr>\n",
       "      <th>3</th>\n",
       "      <td>2</td>\n",
       "      <td>2</td>\n",
       "    </tr>\n",
       "    <tr>\n",
       "      <th>4</th>\n",
       "      <td>10</td>\n",
       "      <td>3</td>\n",
       "    </tr>\n",
       "  </tbody>\n",
       "</table>\n",
       "</div>"
      ],
      "text/plain": [
       "   id  poi_id\n",
       "0   2       1\n",
       "1   3       1\n",
       "2  17       1\n",
       "3   2       2\n",
       "4  10       3"
      ]
     },
     "execution_count": 354,
     "metadata": {},
     "output_type": "execute_result"
    }
   ],
   "source": [
    "values = poi_category_new_df[['id','poi_id']]\n",
    "values.head()"
   ]
  },
  {
   "cell_type": "code",
   "execution_count": null,
   "metadata": {},
   "outputs": [],
   "source": [
    "# create the POI_category intersection table"
   ]
  },
  {
   "cell_type": "code",
   "execution_count": 315,
   "metadata": {},
   "outputs": [
    {
     "data": {
      "text/plain": [
       "34"
      ]
     },
     "execution_count": 315,
     "metadata": {},
     "output_type": "execute_result"
    }
   ],
   "source": [
    "values.to_sql('POI_category', connection, if_exists=\"replace\", index=False)"
   ]
  },
  {
   "cell_type": "markdown",
   "metadata": {},
   "source": [
    "# Analysis"
   ]
  },
  {
   "cell_type": "markdown",
   "metadata": {},
   "source": [
    "### Get the top 10 restaurants according to their rating"
   ]
  },
  {
   "cell_type": "code",
   "execution_count": 321,
   "metadata": {},
   "outputs": [
    {
     "data": {
      "text/html": [
       "<div>\n",
       "<style scoped>\n",
       "    .dataframe tbody tr th:only-of-type {\n",
       "        vertical-align: middle;\n",
       "    }\n",
       "\n",
       "    .dataframe tbody tr th {\n",
       "        vertical-align: top;\n",
       "    }\n",
       "\n",
       "    .dataframe thead th {\n",
       "        text-align: right;\n",
       "    }\n",
       "</style>\n",
       "<table border=\"1\" class=\"dataframe\">\n",
       "  <thead>\n",
       "    <tr style=\"text-align: right;\">\n",
       "      <th></th>\n",
       "      <th>name</th>\n",
       "      <th>categories</th>\n",
       "      <th>display_phone</th>\n",
       "      <th>address</th>\n",
       "      <th>price</th>\n",
       "      <th>rating</th>\n",
       "      <th>review_count</th>\n",
       "      <th>poi_id</th>\n",
       "    </tr>\n",
       "  </thead>\n",
       "  <tbody>\n",
       "    <tr>\n",
       "      <th>0</th>\n",
       "      <td>Wild Poppy Market</td>\n",
       "      <td>Bakeries, Breakfast &amp; Brunch, Sandwiches</td>\n",
       "      <td>+1 250-924-8696</td>\n",
       "      <td>541 1st Avenue, Ladysmith, BC V9G, Canada</td>\n",
       "      <td>$$</td>\n",
       "      <td>4.5</td>\n",
       "      <td>31</td>\n",
       "      <td>1</td>\n",
       "    </tr>\n",
       "    <tr>\n",
       "      <th>1</th>\n",
       "      <td>Old Town Bakery</td>\n",
       "      <td>Bakeries</td>\n",
       "      <td>+1 250-245-2531</td>\n",
       "      <td>510 1st Avenue, Ladysmith, BC V9G 1R3, Canada</td>\n",
       "      <td>$$</td>\n",
       "      <td>4.5</td>\n",
       "      <td>33</td>\n",
       "      <td>2</td>\n",
       "    </tr>\n",
       "    <tr>\n",
       "      <th>2</th>\n",
       "      <td>Spice Hut</td>\n",
       "      <td>Indian</td>\n",
       "      <td>+1 250-924-8222</td>\n",
       "      <td>510 Esplanade Avenue, Ladysmith, BC V9G, Canada</td>\n",
       "      <td>$$</td>\n",
       "      <td>4.5</td>\n",
       "      <td>19</td>\n",
       "      <td>3</td>\n",
       "    </tr>\n",
       "    <tr>\n",
       "      <th>3</th>\n",
       "      <td>Fox And Hounds</td>\n",
       "      <td>Pubs</td>\n",
       "      <td>+1 250-924-1747</td>\n",
       "      <td>11 High Street, Ladysmith, BC V9G, Canada</td>\n",
       "      <td>$$</td>\n",
       "      <td>4.0</td>\n",
       "      <td>19</td>\n",
       "      <td>4</td>\n",
       "    </tr>\n",
       "    <tr>\n",
       "      <th>4</th>\n",
       "      <td>Plantitude</td>\n",
       "      <td>Vegan</td>\n",
       "      <td>+1 250-924-1201</td>\n",
       "      <td>431 1st Avenue, Ladysmith, BC V9G 1A9, Canada</td>\n",
       "      <td>No Price</td>\n",
       "      <td>5.0</td>\n",
       "      <td>7</td>\n",
       "      <td>5</td>\n",
       "    </tr>\n",
       "  </tbody>\n",
       "</table>\n",
       "</div>"
      ],
      "text/plain": [
       "                name                                categories  \\\n",
       "0  Wild Poppy Market  Bakeries, Breakfast & Brunch, Sandwiches   \n",
       "1    Old Town Bakery                                  Bakeries   \n",
       "2          Spice Hut                                    Indian   \n",
       "3     Fox And Hounds                                      Pubs   \n",
       "4         Plantitude                                     Vegan   \n",
       "\n",
       "     display_phone                                          address     price  \\\n",
       "0  +1 250-924-8696        541 1st Avenue, Ladysmith, BC V9G, Canada        $$   \n",
       "1  +1 250-245-2531    510 1st Avenue, Ladysmith, BC V9G 1R3, Canada        $$   \n",
       "2  +1 250-924-8222  510 Esplanade Avenue, Ladysmith, BC V9G, Canada        $$   \n",
       "3  +1 250-924-1747        11 High Street, Ladysmith, BC V9G, Canada        $$   \n",
       "4  +1 250-924-1201    431 1st Avenue, Ladysmith, BC V9G 1A9, Canada  No Price   \n",
       "\n",
       "   rating  review_count  poi_id  \n",
       "0     4.5            31       1  \n",
       "1     4.5            33       2  \n",
       "2     4.5            19       3  \n",
       "3     4.0            19       4  \n",
       "4     5.0             7       5  "
      ]
     },
     "execution_count": 321,
     "metadata": {},
     "output_type": "execute_result"
    }
   ],
   "source": [
    "Yelp_df.head()"
   ]
  },
  {
   "cell_type": "code",
   "execution_count": 330,
   "metadata": {
    "tags": []
   },
   "outputs": [],
   "source": [
    "top10 = Yelp_df[['name','rating']].sort_values(by='rating', ascending = False).nlargest(10, 'rating', keep='all')"
   ]
  },
  {
   "cell_type": "code",
   "execution_count": 331,
   "metadata": {},
   "outputs": [
    {
     "data": {
      "text/html": [
       "<div>\n",
       "<style scoped>\n",
       "    .dataframe tbody tr th:only-of-type {\n",
       "        vertical-align: middle;\n",
       "    }\n",
       "\n",
       "    .dataframe tbody tr th {\n",
       "        vertical-align: top;\n",
       "    }\n",
       "\n",
       "    .dataframe thead th {\n",
       "        text-align: right;\n",
       "    }\n",
       "</style>\n",
       "<table border=\"1\" class=\"dataframe\">\n",
       "  <thead>\n",
       "    <tr style=\"text-align: right;\">\n",
       "      <th></th>\n",
       "      <th>name</th>\n",
       "      <th>rating</th>\n",
       "    </tr>\n",
       "  </thead>\n",
       "  <tbody>\n",
       "    <tr>\n",
       "      <th>19</th>\n",
       "      <td>Taco Revolution</td>\n",
       "      <td>5.0</td>\n",
       "    </tr>\n",
       "    <tr>\n",
       "      <th>4</th>\n",
       "      <td>Plantitude</td>\n",
       "      <td>5.0</td>\n",
       "    </tr>\n",
       "    <tr>\n",
       "      <th>8</th>\n",
       "      <td>Kaede Sushi &amp; Grill</td>\n",
       "      <td>4.5</td>\n",
       "    </tr>\n",
       "    <tr>\n",
       "      <th>11</th>\n",
       "      <td>Phoenix Restaurant</td>\n",
       "      <td>4.5</td>\n",
       "    </tr>\n",
       "    <tr>\n",
       "      <th>1</th>\n",
       "      <td>Old Town Bakery</td>\n",
       "      <td>4.5</td>\n",
       "    </tr>\n",
       "    <tr>\n",
       "      <th>9</th>\n",
       "      <td>Oyster Bay Cafe</td>\n",
       "      <td>4.5</td>\n",
       "    </tr>\n",
       "    <tr>\n",
       "      <th>0</th>\n",
       "      <td>Wild Poppy Market</td>\n",
       "      <td>4.5</td>\n",
       "    </tr>\n",
       "    <tr>\n",
       "      <th>6</th>\n",
       "      <td>Appetit Food for Thought</td>\n",
       "      <td>4.5</td>\n",
       "    </tr>\n",
       "    <tr>\n",
       "      <th>5</th>\n",
       "      <td>Maya Norte</td>\n",
       "      <td>4.5</td>\n",
       "    </tr>\n",
       "    <tr>\n",
       "      <th>2</th>\n",
       "      <td>Spice Hut</td>\n",
       "      <td>4.5</td>\n",
       "    </tr>\n",
       "  </tbody>\n",
       "</table>\n",
       "</div>"
      ],
      "text/plain": [
       "                        name  rating\n",
       "19           Taco Revolution     5.0\n",
       "4                 Plantitude     5.0\n",
       "8        Kaede Sushi & Grill     4.5\n",
       "11        Phoenix Restaurant     4.5\n",
       "1            Old Town Bakery     4.5\n",
       "9            Oyster Bay Cafe     4.5\n",
       "0          Wild Poppy Market     4.5\n",
       "6   Appetit Food for Thought     4.5\n",
       "5                 Maya Norte     4.5\n",
       "2                  Spice Hut     4.5"
      ]
     },
     "execution_count": 331,
     "metadata": {},
     "output_type": "execute_result"
    }
   ],
   "source": [
    "top10"
   ]
  },
  {
   "cell_type": "markdown",
   "metadata": {},
   "source": [
    "### Compare number of results from FourSquare API versus Yelp API"
   ]
  },
  {
   "cell_type": "code",
   "execution_count": 364,
   "metadata": {},
   "outputs": [
    {
     "data": {
      "text/html": [
       "<div>\n",
       "<style scoped>\n",
       "    .dataframe tbody tr th:only-of-type {\n",
       "        vertical-align: middle;\n",
       "    }\n",
       "\n",
       "    .dataframe tbody tr th {\n",
       "        vertical-align: top;\n",
       "    }\n",
       "\n",
       "    .dataframe thead th {\n",
       "        text-align: right;\n",
       "    }\n",
       "</style>\n",
       "<table border=\"1\" class=\"dataframe\">\n",
       "  <thead>\n",
       "    <tr style=\"text-align: right;\">\n",
       "      <th></th>\n",
       "      <th>name</th>\n",
       "      <th>categories</th>\n",
       "      <th>display_phone</th>\n",
       "      <th>address</th>\n",
       "      <th>price</th>\n",
       "      <th>rating</th>\n",
       "      <th>review_count</th>\n",
       "      <th>poi_id</th>\n",
       "    </tr>\n",
       "  </thead>\n",
       "  <tbody>\n",
       "    <tr>\n",
       "      <th>0</th>\n",
       "      <td>Wild Poppy Market</td>\n",
       "      <td>Bakeries, Breakfast &amp; Brunch, Sandwiches</td>\n",
       "      <td>+1 250-924-8696</td>\n",
       "      <td>541 1st Avenue, Ladysmith, BC V9G, Canada</td>\n",
       "      <td>$$</td>\n",
       "      <td>4.5</td>\n",
       "      <td>31</td>\n",
       "      <td>1</td>\n",
       "    </tr>\n",
       "    <tr>\n",
       "      <th>1</th>\n",
       "      <td>Old Town Bakery</td>\n",
       "      <td>Bakeries</td>\n",
       "      <td>+1 250-245-2531</td>\n",
       "      <td>510 1st Avenue, Ladysmith, BC V9G 1R3, Canada</td>\n",
       "      <td>$$</td>\n",
       "      <td>4.5</td>\n",
       "      <td>33</td>\n",
       "      <td>2</td>\n",
       "    </tr>\n",
       "    <tr>\n",
       "      <th>2</th>\n",
       "      <td>Spice Hut</td>\n",
       "      <td>Indian</td>\n",
       "      <td>+1 250-924-8222</td>\n",
       "      <td>510 Esplanade Avenue, Ladysmith, BC V9G, Canada</td>\n",
       "      <td>$$</td>\n",
       "      <td>4.5</td>\n",
       "      <td>19</td>\n",
       "      <td>3</td>\n",
       "    </tr>\n",
       "    <tr>\n",
       "      <th>3</th>\n",
       "      <td>Fox And Hounds</td>\n",
       "      <td>Pubs</td>\n",
       "      <td>+1 250-924-1747</td>\n",
       "      <td>11 High Street, Ladysmith, BC V9G, Canada</td>\n",
       "      <td>$$</td>\n",
       "      <td>4.0</td>\n",
       "      <td>19</td>\n",
       "      <td>4</td>\n",
       "    </tr>\n",
       "    <tr>\n",
       "      <th>4</th>\n",
       "      <td>Plantitude</td>\n",
       "      <td>Vegan</td>\n",
       "      <td>+1 250-924-1201</td>\n",
       "      <td>431 1st Avenue, Ladysmith, BC V9G 1A9, Canada</td>\n",
       "      <td>No Price</td>\n",
       "      <td>5.0</td>\n",
       "      <td>7</td>\n",
       "      <td>5</td>\n",
       "    </tr>\n",
       "  </tbody>\n",
       "</table>\n",
       "</div>"
      ],
      "text/plain": [
       "                name                                categories  \\\n",
       "0  Wild Poppy Market  Bakeries, Breakfast & Brunch, Sandwiches   \n",
       "1    Old Town Bakery                                  Bakeries   \n",
       "2          Spice Hut                                    Indian   \n",
       "3     Fox And Hounds                                      Pubs   \n",
       "4         Plantitude                                     Vegan   \n",
       "\n",
       "     display_phone                                          address     price  \\\n",
       "0  +1 250-924-8696        541 1st Avenue, Ladysmith, BC V9G, Canada        $$   \n",
       "1  +1 250-245-2531    510 1st Avenue, Ladysmith, BC V9G 1R3, Canada        $$   \n",
       "2  +1 250-924-8222  510 Esplanade Avenue, Ladysmith, BC V9G, Canada        $$   \n",
       "3  +1 250-924-1747        11 High Street, Ladysmith, BC V9G, Canada        $$   \n",
       "4  +1 250-924-1201    431 1st Avenue, Ladysmith, BC V9G 1A9, Canada  No Price   \n",
       "\n",
       "   rating  review_count  poi_id  \n",
       "0     4.5            31       1  \n",
       "1     4.5            33       2  \n",
       "2     4.5            19       3  \n",
       "3     4.0            19       4  \n",
       "4     5.0             7       5  "
      ]
     },
     "execution_count": 364,
     "metadata": {},
     "output_type": "execute_result"
    }
   ],
   "source": [
    "Yelp_df.head()"
   ]
  },
  {
   "cell_type": "code",
   "execution_count": 365,
   "metadata": {},
   "outputs": [
    {
     "data": {
      "text/html": [
       "<div>\n",
       "<style scoped>\n",
       "    .dataframe tbody tr th:only-of-type {\n",
       "        vertical-align: middle;\n",
       "    }\n",
       "\n",
       "    .dataframe tbody tr th {\n",
       "        vertical-align: top;\n",
       "    }\n",
       "\n",
       "    .dataframe thead th {\n",
       "        text-align: right;\n",
       "    }\n",
       "</style>\n",
       "<table border=\"1\" class=\"dataframe\">\n",
       "  <thead>\n",
       "    <tr style=\"text-align: right;\">\n",
       "      <th></th>\n",
       "      <th>fsq_id</th>\n",
       "      <th>categories</th>\n",
       "      <th>chains</th>\n",
       "      <th>distance</th>\n",
       "      <th>link</th>\n",
       "      <th>name</th>\n",
       "      <th>timezone</th>\n",
       "      <th>geocodes.main.latitude</th>\n",
       "      <th>geocodes.main.longitude</th>\n",
       "      <th>geocodes.roof.latitude</th>\n",
       "      <th>...</th>\n",
       "      <th>location.address</th>\n",
       "      <th>location.country</th>\n",
       "      <th>location.cross_street</th>\n",
       "      <th>location.formatted_address</th>\n",
       "      <th>location.locality</th>\n",
       "      <th>location.neighborhood</th>\n",
       "      <th>location.postcode</th>\n",
       "      <th>location.region</th>\n",
       "      <th>location.po_box</th>\n",
       "      <th>location.address_extended</th>\n",
       "    </tr>\n",
       "  </thead>\n",
       "  <tbody>\n",
       "    <tr>\n",
       "      <th>0</th>\n",
       "      <td>4b9f8746f964a520112937e3</td>\n",
       "      <td>[{'id': 13002, 'name': 'Bakery', 'icon': {'pre...</td>\n",
       "      <td>[]</td>\n",
       "      <td>77</td>\n",
       "      <td>/v3/places/4b9f8746f964a520112937e3</td>\n",
       "      <td>Old Town Bakery</td>\n",
       "      <td>America/Vancouver</td>\n",
       "      <td>48.993297</td>\n",
       "      <td>-123.817749</td>\n",
       "      <td>48.993297</td>\n",
       "      <td>...</td>\n",
       "      <td>510 1st Ave</td>\n",
       "      <td>CA</td>\n",
       "      <td></td>\n",
       "      <td>510 1st Ave, Ladysmith BC V9G 1R3</td>\n",
       "      <td>Ladysmith</td>\n",
       "      <td>[Cedar]</td>\n",
       "      <td>V9G 1R3</td>\n",
       "      <td>BC</td>\n",
       "      <td>NaN</td>\n",
       "      <td>NaN</td>\n",
       "    </tr>\n",
       "    <tr>\n",
       "      <th>1</th>\n",
       "      <td>4d5dd55d5b276dcb151ef2c5</td>\n",
       "      <td>[{'id': 13034, 'name': 'Café', 'icon': {'prefi...</td>\n",
       "      <td>[]</td>\n",
       "      <td>42</td>\n",
       "      <td>/v3/places/4d5dd55d5b276dcb151ef2c5</td>\n",
       "      <td>In the Bean Time</td>\n",
       "      <td>America/Vancouver</td>\n",
       "      <td>48.994468</td>\n",
       "      <td>-123.817778</td>\n",
       "      <td>48.994468</td>\n",
       "      <td>...</td>\n",
       "      <td>18 High St</td>\n",
       "      <td>CA</td>\n",
       "      <td></td>\n",
       "      <td>18 High St, Ladysmith BC V9G 1B9</td>\n",
       "      <td>Ladysmith</td>\n",
       "      <td>[Cedar]</td>\n",
       "      <td>V9G 1B9</td>\n",
       "      <td>BC</td>\n",
       "      <td>NaN</td>\n",
       "      <td>NaN</td>\n",
       "    </tr>\n",
       "    <tr>\n",
       "      <th>2</th>\n",
       "      <td>4caf56ad1463a143dbbc93a9</td>\n",
       "      <td>[{'id': 11045, 'name': 'Bank', 'icon': {'prefi...</td>\n",
       "      <td>[{'id': 'd51a09f0-d890-0132-61d3-7a163eb2a6fc'...</td>\n",
       "      <td>13</td>\n",
       "      <td>/v3/places/4caf56ad1463a143dbbc93a9</td>\n",
       "      <td>RBC Royal Bank</td>\n",
       "      <td>America/Vancouver</td>\n",
       "      <td>48.993577</td>\n",
       "      <td>-123.817534</td>\n",
       "      <td>48.993577</td>\n",
       "      <td>...</td>\n",
       "      <td>527 1 St Ave</td>\n",
       "      <td>CA</td>\n",
       "      <td></td>\n",
       "      <td>527 1 St Ave, Ladysmith BC V9G 1A7</td>\n",
       "      <td>Ladysmith</td>\n",
       "      <td>NaN</td>\n",
       "      <td>V9G 1A7</td>\n",
       "      <td>BC</td>\n",
       "      <td>PO Box 1060</td>\n",
       "      <td>NaN</td>\n",
       "    </tr>\n",
       "    <tr>\n",
       "      <th>3</th>\n",
       "      <td>543065e3498ece744a874fb3</td>\n",
       "      <td>[{'id': 17060, 'name': 'Candy Store', 'icon': ...</td>\n",
       "      <td>[]</td>\n",
       "      <td>23</td>\n",
       "      <td>/v3/places/543065e3498ece744a874fb3</td>\n",
       "      <td>Mr Popper's Sweet Shoppe</td>\n",
       "      <td>America/Vancouver</td>\n",
       "      <td>48.994100</td>\n",
       "      <td>-123.818307</td>\n",
       "      <td>48.994100</td>\n",
       "      <td>...</td>\n",
       "      <td>32 High St</td>\n",
       "      <td>CA</td>\n",
       "      <td>1st Avenue</td>\n",
       "      <td>32 High St (1st Avenue), Ladysmith BC V9G 1B9</td>\n",
       "      <td>Ladysmith</td>\n",
       "      <td>NaN</td>\n",
       "      <td>V9G 1B9</td>\n",
       "      <td>BC</td>\n",
       "      <td>NaN</td>\n",
       "      <td># 1</td>\n",
       "    </tr>\n",
       "    <tr>\n",
       "      <th>4</th>\n",
       "      <td>4e3dac44fa76455375bbb10f</td>\n",
       "      <td>[{'id': 11064, 'name': 'Hair Salon', 'icon': {...</td>\n",
       "      <td>[]</td>\n",
       "      <td>27</td>\n",
       "      <td>/v3/places/4e3dac44fa76455375bbb10f</td>\n",
       "      <td>High Street Hair</td>\n",
       "      <td>America/Vancouver</td>\n",
       "      <td>48.994092</td>\n",
       "      <td>-123.817823</td>\n",
       "      <td>48.994092</td>\n",
       "      <td>...</td>\n",
       "      <td>23 High St</td>\n",
       "      <td>CA</td>\n",
       "      <td></td>\n",
       "      <td>23 High St, Ladysmith BC V9G 1B9</td>\n",
       "      <td>Ladysmith</td>\n",
       "      <td>NaN</td>\n",
       "      <td>V9G 1B9</td>\n",
       "      <td>BC</td>\n",
       "      <td>NaN</td>\n",
       "      <td>NaN</td>\n",
       "    </tr>\n",
       "  </tbody>\n",
       "</table>\n",
       "<p>5 rows × 21 columns</p>\n",
       "</div>"
      ],
      "text/plain": [
       "                     fsq_id  \\\n",
       "0  4b9f8746f964a520112937e3   \n",
       "1  4d5dd55d5b276dcb151ef2c5   \n",
       "2  4caf56ad1463a143dbbc93a9   \n",
       "3  543065e3498ece744a874fb3   \n",
       "4  4e3dac44fa76455375bbb10f   \n",
       "\n",
       "                                          categories  \\\n",
       "0  [{'id': 13002, 'name': 'Bakery', 'icon': {'pre...   \n",
       "1  [{'id': 13034, 'name': 'Café', 'icon': {'prefi...   \n",
       "2  [{'id': 11045, 'name': 'Bank', 'icon': {'prefi...   \n",
       "3  [{'id': 17060, 'name': 'Candy Store', 'icon': ...   \n",
       "4  [{'id': 11064, 'name': 'Hair Salon', 'icon': {...   \n",
       "\n",
       "                                              chains  distance  \\\n",
       "0                                                 []        77   \n",
       "1                                                 []        42   \n",
       "2  [{'id': 'd51a09f0-d890-0132-61d3-7a163eb2a6fc'...        13   \n",
       "3                                                 []        23   \n",
       "4                                                 []        27   \n",
       "\n",
       "                                  link                      name  \\\n",
       "0  /v3/places/4b9f8746f964a520112937e3           Old Town Bakery   \n",
       "1  /v3/places/4d5dd55d5b276dcb151ef2c5          In the Bean Time   \n",
       "2  /v3/places/4caf56ad1463a143dbbc93a9            RBC Royal Bank   \n",
       "3  /v3/places/543065e3498ece744a874fb3  Mr Popper's Sweet Shoppe   \n",
       "4  /v3/places/4e3dac44fa76455375bbb10f          High Street Hair   \n",
       "\n",
       "            timezone  geocodes.main.latitude  geocodes.main.longitude  \\\n",
       "0  America/Vancouver               48.993297              -123.817749   \n",
       "1  America/Vancouver               48.994468              -123.817778   \n",
       "2  America/Vancouver               48.993577              -123.817534   \n",
       "3  America/Vancouver               48.994100              -123.818307   \n",
       "4  America/Vancouver               48.994092              -123.817823   \n",
       "\n",
       "   geocodes.roof.latitude  ...  location.address location.country  \\\n",
       "0               48.993297  ...       510 1st Ave               CA   \n",
       "1               48.994468  ...        18 High St               CA   \n",
       "2               48.993577  ...      527 1 St Ave               CA   \n",
       "3               48.994100  ...        32 High St               CA   \n",
       "4               48.994092  ...        23 High St               CA   \n",
       "\n",
       "  location.cross_street                     location.formatted_address  \\\n",
       "0                                    510 1st Ave, Ladysmith BC V9G 1R3   \n",
       "1                                     18 High St, Ladysmith BC V9G 1B9   \n",
       "2                                   527 1 St Ave, Ladysmith BC V9G 1A7   \n",
       "3            1st Avenue  32 High St (1st Avenue), Ladysmith BC V9G 1B9   \n",
       "4                                     23 High St, Ladysmith BC V9G 1B9   \n",
       "\n",
       "  location.locality location.neighborhood location.postcode location.region  \\\n",
       "0         Ladysmith               [Cedar]           V9G 1R3              BC   \n",
       "1         Ladysmith               [Cedar]           V9G 1B9              BC   \n",
       "2         Ladysmith                   NaN           V9G 1A7              BC   \n",
       "3         Ladysmith                   NaN           V9G 1B9              BC   \n",
       "4         Ladysmith                   NaN           V9G 1B9              BC   \n",
       "\n",
       "  location.po_box location.address_extended  \n",
       "0             NaN                       NaN  \n",
       "1             NaN                       NaN  \n",
       "2     PO Box 1060                       NaN  \n",
       "3             NaN                       # 1  \n",
       "4             NaN                       NaN  \n",
       "\n",
       "[5 rows x 21 columns]"
      ]
     },
     "execution_count": 365,
     "metadata": {},
     "output_type": "execute_result"
    }
   ],
   "source": [
    "Foursquare_df.head()"
   ]
  },
  {
   "cell_type": "code",
   "execution_count": 363,
   "metadata": {},
   "outputs": [
    {
     "data": {
      "text/plain": [
       "10"
      ]
     },
     "execution_count": 363,
     "metadata": {},
     "output_type": "execute_result"
    }
   ],
   "source": [
    "len(Foursquare_df['name'])"
   ]
  },
  {
   "cell_type": "code",
   "execution_count": 372,
   "metadata": {},
   "outputs": [
    {
     "data": {
      "text/plain": [
       "20"
      ]
     },
     "execution_count": 372,
     "metadata": {},
     "output_type": "execute_result"
    }
   ],
   "source": [
    "len(business_df['name'])"
   ]
  },
  {
   "cell_type": "markdown",
   "metadata": {},
   "source": [
    "The FourSquare API only returned 10 points of interest, whereas the Yelp API returned 20 points of interest in the same search radius"
   ]
  },
  {
   "cell_type": "markdown",
   "metadata": {},
   "source": [
    "### Compare breadth of results from FourSquare API versus Yelp API"
   ]
  },
  {
   "cell_type": "code",
   "execution_count": 383,
   "metadata": {},
   "outputs": [
    {
     "name": "stdout",
     "output_type": "stream",
     "text": [
      "<class 'pandas.core.frame.DataFrame'>\n",
      "RangeIndex: 10 entries, 0 to 9\n",
      "Data columns (total 21 columns):\n",
      " #   Column                      Non-Null Count  Dtype  \n",
      "---  ------                      --------------  -----  \n",
      " 0   fsq_id                      10 non-null     object \n",
      " 1   categories                  10 non-null     object \n",
      " 2   chains                      10 non-null     object \n",
      " 3   distance                    10 non-null     int64  \n",
      " 4   link                        10 non-null     object \n",
      " 5   name                        10 non-null     object \n",
      " 6   timezone                    10 non-null     object \n",
      " 7   geocodes.main.latitude      10 non-null     float64\n",
      " 8   geocodes.main.longitude     10 non-null     float64\n",
      " 9   geocodes.roof.latitude      10 non-null     float64\n",
      " 10  geocodes.roof.longitude     10 non-null     float64\n",
      " 11  location.address            10 non-null     object \n",
      " 12  location.country            10 non-null     object \n",
      " 13  location.cross_street       9 non-null      object \n",
      " 14  location.formatted_address  10 non-null     object \n",
      " 15  location.locality           10 non-null     object \n",
      " 16  location.neighborhood       4 non-null      object \n",
      " 17  location.postcode           9 non-null      object \n",
      " 18  location.region             10 non-null     object \n",
      " 19  location.po_box             1 non-null      object \n",
      " 20  location.address_extended   1 non-null      object \n",
      "dtypes: float64(4), int64(1), object(16)\n",
      "memory usage: 1.8+ KB\n"
     ]
    }
   ],
   "source": [
    "Foursquare_df.info()"
   ]
  },
  {
   "cell_type": "code",
   "execution_count": 380,
   "metadata": {},
   "outputs": [
    {
     "data": {
      "text/plain": [
       "21"
      ]
     },
     "execution_count": 380,
     "metadata": {},
     "output_type": "execute_result"
    }
   ],
   "source": [
    "len(Foursquare_df.columns)"
   ]
  },
  {
   "cell_type": "code",
   "execution_count": 384,
   "metadata": {},
   "outputs": [
    {
     "name": "stdout",
     "output_type": "stream",
     "text": [
      "<class 'pandas.core.frame.DataFrame'>\n",
      "RangeIndex: 20 entries, 0 to 19\n",
      "Data columns (total 24 columns):\n",
      " #   Column                    Non-Null Count  Dtype  \n",
      "---  ------                    --------------  -----  \n",
      " 0   id                        20 non-null     object \n",
      " 1   alias                     20 non-null     object \n",
      " 2   name                      20 non-null     object \n",
      " 3   image_url                 20 non-null     object \n",
      " 4   is_closed                 20 non-null     bool   \n",
      " 5   url                       20 non-null     object \n",
      " 6   review_count              20 non-null     int64  \n",
      " 7   categories                20 non-null     object \n",
      " 8   rating                    20 non-null     float64\n",
      " 9   transactions              20 non-null     object \n",
      " 10  price                     11 non-null     object \n",
      " 11  phone                     20 non-null     object \n",
      " 12  display_phone             20 non-null     object \n",
      " 13  distance                  20 non-null     float64\n",
      " 14  coordinates.latitude      20 non-null     float64\n",
      " 15  coordinates.longitude     20 non-null     float64\n",
      " 16  location.address1         19 non-null     object \n",
      " 17  location.address2         19 non-null     object \n",
      " 18  location.address3         14 non-null     object \n",
      " 19  location.city             20 non-null     object \n",
      " 20  location.zip_code         20 non-null     object \n",
      " 21  location.country          20 non-null     object \n",
      " 22  location.state            20 non-null     object \n",
      " 23  location.display_address  20 non-null     object \n",
      "dtypes: bool(1), float64(4), int64(1), object(18)\n",
      "memory usage: 3.7+ KB\n"
     ]
    }
   ],
   "source": [
    "Org_Yelp_df.info()"
   ]
  },
  {
   "cell_type": "code",
   "execution_count": 381,
   "metadata": {},
   "outputs": [
    {
     "data": {
      "text/plain": [
       "24"
      ]
     },
     "execution_count": 381,
     "metadata": {},
     "output_type": "execute_result"
    }
   ],
   "source": [
    "len(Org_Yelp_df.columns)"
   ]
  },
  {
   "cell_type": "markdown",
   "metadata": {},
   "source": [
    "Yelp provides a wider variety of information for each point of interest. It has 24 items describing each point of interest, including many that are not provided by the FourSquare API (rating, review_count, price informatiom, etc.)"
   ]
  },
  {
   "cell_type": "markdown",
   "metadata": {},
   "source": [
    "### Which category of restaurant has the best ratings in Ladysmith?"
   ]
  },
  {
   "cell_type": "code",
   "execution_count": 386,
   "metadata": {},
   "outputs": [
    {
     "data": {
      "text/html": [
       "<div>\n",
       "<style scoped>\n",
       "    .dataframe tbody tr th:only-of-type {\n",
       "        vertical-align: middle;\n",
       "    }\n",
       "\n",
       "    .dataframe tbody tr th {\n",
       "        vertical-align: top;\n",
       "    }\n",
       "\n",
       "    .dataframe thead th {\n",
       "        text-align: right;\n",
       "    }\n",
       "</style>\n",
       "<table border=\"1\" class=\"dataframe\">\n",
       "  <thead>\n",
       "    <tr style=\"text-align: right;\">\n",
       "      <th></th>\n",
       "      <th>name</th>\n",
       "      <th>category</th>\n",
       "      <th>categories</th>\n",
       "      <th>display_phone</th>\n",
       "      <th>address</th>\n",
       "      <th>price</th>\n",
       "      <th>rating</th>\n",
       "      <th>review_count</th>\n",
       "      <th>poi_id</th>\n",
       "      <th>id</th>\n",
       "    </tr>\n",
       "  </thead>\n",
       "  <tbody>\n",
       "    <tr>\n",
       "      <th>0</th>\n",
       "      <td>Wild Poppy Market</td>\n",
       "      <td>Bakeries</td>\n",
       "      <td>Bakeries, Breakfast &amp; Brunch, Sandwiches</td>\n",
       "      <td>+1 250-924-8696</td>\n",
       "      <td>541 1st Avenue, Ladysmith, BC V9G, Canada</td>\n",
       "      <td>$$</td>\n",
       "      <td>4.5</td>\n",
       "      <td>31</td>\n",
       "      <td>1</td>\n",
       "      <td>2</td>\n",
       "    </tr>\n",
       "    <tr>\n",
       "      <th>1</th>\n",
       "      <td>Wild Poppy Market</td>\n",
       "      <td>Breakfast &amp; Brunch</td>\n",
       "      <td>Bakeries, Breakfast &amp; Brunch, Sandwiches</td>\n",
       "      <td>+1 250-924-8696</td>\n",
       "      <td>541 1st Avenue, Ladysmith, BC V9G, Canada</td>\n",
       "      <td>$$</td>\n",
       "      <td>4.5</td>\n",
       "      <td>31</td>\n",
       "      <td>1</td>\n",
       "      <td>3</td>\n",
       "    </tr>\n",
       "    <tr>\n",
       "      <th>2</th>\n",
       "      <td>Wild Poppy Market</td>\n",
       "      <td>Sandwiches</td>\n",
       "      <td>Bakeries, Breakfast &amp; Brunch, Sandwiches</td>\n",
       "      <td>+1 250-924-8696</td>\n",
       "      <td>541 1st Avenue, Ladysmith, BC V9G, Canada</td>\n",
       "      <td>$$</td>\n",
       "      <td>4.5</td>\n",
       "      <td>31</td>\n",
       "      <td>1</td>\n",
       "      <td>17</td>\n",
       "    </tr>\n",
       "    <tr>\n",
       "      <th>3</th>\n",
       "      <td>Old Town Bakery</td>\n",
       "      <td>Bakeries</td>\n",
       "      <td>Bakeries</td>\n",
       "      <td>+1 250-245-2531</td>\n",
       "      <td>510 1st Avenue, Ladysmith, BC V9G 1R3, Canada</td>\n",
       "      <td>$$</td>\n",
       "      <td>4.5</td>\n",
       "      <td>33</td>\n",
       "      <td>2</td>\n",
       "      <td>2</td>\n",
       "    </tr>\n",
       "    <tr>\n",
       "      <th>4</th>\n",
       "      <td>Spice Hut</td>\n",
       "      <td>Indian</td>\n",
       "      <td>Indian</td>\n",
       "      <td>+1 250-924-8222</td>\n",
       "      <td>510 Esplanade Avenue, Ladysmith, BC V9G, Canada</td>\n",
       "      <td>$$</td>\n",
       "      <td>4.5</td>\n",
       "      <td>19</td>\n",
       "      <td>3</td>\n",
       "      <td>10</td>\n",
       "    </tr>\n",
       "  </tbody>\n",
       "</table>\n",
       "</div>"
      ],
      "text/plain": [
       "                name            category  \\\n",
       "0  Wild Poppy Market            Bakeries   \n",
       "1  Wild Poppy Market  Breakfast & Brunch   \n",
       "2  Wild Poppy Market          Sandwiches   \n",
       "3    Old Town Bakery            Bakeries   \n",
       "4          Spice Hut              Indian   \n",
       "\n",
       "                                 categories    display_phone  \\\n",
       "0  Bakeries, Breakfast & Brunch, Sandwiches  +1 250-924-8696   \n",
       "1  Bakeries, Breakfast & Brunch, Sandwiches  +1 250-924-8696   \n",
       "2  Bakeries, Breakfast & Brunch, Sandwiches  +1 250-924-8696   \n",
       "3                                  Bakeries  +1 250-245-2531   \n",
       "4                                    Indian  +1 250-924-8222   \n",
       "\n",
       "                                           address price  rating  \\\n",
       "0        541 1st Avenue, Ladysmith, BC V9G, Canada    $$     4.5   \n",
       "1        541 1st Avenue, Ladysmith, BC V9G, Canada    $$     4.5   \n",
       "2        541 1st Avenue, Ladysmith, BC V9G, Canada    $$     4.5   \n",
       "3    510 1st Avenue, Ladysmith, BC V9G 1R3, Canada    $$     4.5   \n",
       "4  510 Esplanade Avenue, Ladysmith, BC V9G, Canada    $$     4.5   \n",
       "\n",
       "   review_count  poi_id  id  \n",
       "0            31       1   2  \n",
       "1            31       1   3  \n",
       "2            31       1  17  \n",
       "3            33       2   2  \n",
       "4            19       3  10  "
      ]
     },
     "execution_count": 386,
     "metadata": {},
     "output_type": "execute_result"
    }
   ],
   "source": [
    "# used merged table that shows the individual categories for each restaurant, in addition to each restaurant's rating.\n",
    "\n",
    "poi_category_new_df.head()"
   ]
  },
  {
   "cell_type": "code",
   "execution_count": 404,
   "metadata": {
    "tags": []
   },
   "outputs": [
    {
     "data": {
      "text/html": [
       "<div>\n",
       "<style scoped>\n",
       "    .dataframe tbody tr th:only-of-type {\n",
       "        vertical-align: middle;\n",
       "    }\n",
       "\n",
       "    .dataframe tbody tr th {\n",
       "        vertical-align: top;\n",
       "    }\n",
       "\n",
       "    .dataframe thead th {\n",
       "        text-align: right;\n",
       "    }\n",
       "</style>\n",
       "<table border=\"1\" class=\"dataframe\">\n",
       "  <thead>\n",
       "    <tr style=\"text-align: right;\">\n",
       "      <th></th>\n",
       "      <th>average_rating</th>\n",
       "    </tr>\n",
       "    <tr>\n",
       "      <th>category</th>\n",
       "      <th></th>\n",
       "    </tr>\n",
       "  </thead>\n",
       "  <tbody>\n",
       "    <tr>\n",
       "      <th>Food Trucks</th>\n",
       "      <td>5.00</td>\n",
       "    </tr>\n",
       "    <tr>\n",
       "      <th>Vegan</th>\n",
       "      <td>5.00</td>\n",
       "    </tr>\n",
       "    <tr>\n",
       "      <th>Mexican</th>\n",
       "      <td>4.75</td>\n",
       "    </tr>\n",
       "    <tr>\n",
       "      <th>Asian Fusion</th>\n",
       "      <td>4.50</td>\n",
       "    </tr>\n",
       "    <tr>\n",
       "      <th>Bakeries</th>\n",
       "      <td>4.50</td>\n",
       "    </tr>\n",
       "    <tr>\n",
       "      <th>Breakfast &amp; Brunch</th>\n",
       "      <td>4.50</td>\n",
       "    </tr>\n",
       "    <tr>\n",
       "      <th>Indian</th>\n",
       "      <td>4.50</td>\n",
       "    </tr>\n",
       "    <tr>\n",
       "      <th>Spanish</th>\n",
       "      <td>4.50</td>\n",
       "    </tr>\n",
       "    <tr>\n",
       "      <th>Thai</th>\n",
       "      <td>4.50</td>\n",
       "    </tr>\n",
       "  </tbody>\n",
       "</table>\n",
       "</div>"
      ],
      "text/plain": [
       "                    average_rating\n",
       "category                          \n",
       "Food Trucks                   5.00\n",
       "Vegan                         5.00\n",
       "Mexican                       4.75\n",
       "Asian Fusion                  4.50\n",
       "Bakeries                      4.50\n",
       "Breakfast & Brunch            4.50\n",
       "Indian                        4.50\n",
       "Spanish                       4.50\n",
       "Thai                          4.50"
      ]
     },
     "execution_count": 404,
     "metadata": {},
     "output_type": "execute_result"
    }
   ],
   "source": [
    "poi_category_new_df.groupby('category').agg(average_rating = ('rating','mean')).nlargest(5, 'average_rating', keep = 'all')"
   ]
  },
  {
   "cell_type": "markdown",
   "metadata": {},
   "source": [
    "Food Trucks, Vegan, and Mexican restaurants had the highest ratings"
   ]
  },
  {
   "cell_type": "markdown",
   "metadata": {},
   "source": [
    "### Most common restaurant type in Ladysmith?"
   ]
  },
  {
   "cell_type": "code",
   "execution_count": 407,
   "metadata": {},
   "outputs": [
    {
     "data": {
      "text/plain": [
       "Chinese    3\n",
       "Name: category, dtype: int64"
      ]
     },
     "execution_count": 407,
     "metadata": {},
     "output_type": "execute_result"
    }
   ],
   "source": [
    "poi_category_new_df['category'].value_counts().head(1)"
   ]
  },
  {
   "cell_type": "code",
   "execution_count": 401,
   "metadata": {},
   "outputs": [
    {
     "data": {
      "text/plain": [
       "Chinese                True\n",
       "Bakeries               True\n",
       "Mexican                True\n",
       "Cafes                  True\n",
       "Sushi Bars             True\n",
       "Breakfast & Brunch     True\n",
       "Coffee & Tea           True\n",
       "Japanese               True\n",
       "Pubs                   True\n",
       "Sandwiches             True\n",
       "Thai                  False\n",
       "Asian Fusion          False\n",
       "Spanish               False\n",
       "Vegan                 False\n",
       "Indian                False\n",
       "Pizza                 False\n",
       "Italian               False\n",
       "Creperies             False\n",
       "Burgers               False\n",
       "Lounges               False\n",
       "Vietnamese            False\n",
       "Vegetarian            False\n",
       "Food Trucks           False\n",
       "Name: category, dtype: bool"
      ]
     },
     "execution_count": 401,
     "metadata": {},
     "output_type": "execute_result"
    }
   ],
   "source": [
    "poi_category_new_df['category'].value_counts() > 1"
   ]
  },
  {
   "cell_type": "markdown",
   "metadata": {},
   "source": [
    "Chinese restaurants are the most common type of restaurant in Ladysmith."
   ]
  },
  {
   "cell_type": "code",
   "execution_count": 409,
   "metadata": {},
   "outputs": [],
   "source": [
    "# look at highest quality, most reviews, cheapest restaurant?"
   ]
  },
  {
   "cell_type": "markdown",
   "metadata": {},
   "source": [
    "# Travelling Salesman Problem (stretch)"
   ]
  },
  {
   "cell_type": "markdown",
   "metadata": {},
   "source": [
    "If you have time, follow the steps in the [ortools tutorial](https://developers.google.com/optimization/routing/tsp) using Google's [Directions API](https://developers.google.com/maps/documentation/directions/start)."
   ]
  },
  {
   "cell_type": "code",
   "execution_count": null,
   "metadata": {},
   "outputs": [],
   "source": []
  }
 ],
 "metadata": {
  "kernelspec": {
   "display_name": "Python 3 (ipykernel)",
   "language": "python",
   "name": "python3"
  },
  "language_info": {
   "codemirror_mode": {
    "name": "ipython",
    "version": 3
   },
   "file_extension": ".py",
   "mimetype": "text/x-python",
   "name": "python",
   "nbconvert_exporter": "python",
   "pygments_lexer": "ipython3",
   "version": "3.9.13"
  }
 },
 "nbformat": 4,
 "nbformat_minor": 4
}
